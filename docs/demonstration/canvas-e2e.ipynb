{
 "cells": [
  {
   "cell_type": "markdown",
   "metadata": {},
   "source": [
    "# End-to-End Demonstration: Canvas\n",
    "\n",
    "*Goal*: run the Canvas Extractor and then upload the results into an `LMS` database.\n",
    "\n",
    "## Software Requirements\n",
    "\n",
    "1. Be sure to install Python 3.9; if you have multiple versions, make sure that the `python` command runs version 3.9.x. You can confirm your version by running `python --version` at a command prompt.\n",
    "1. Microsoft SQL Server 2017 or 2019, in Windows or Linux.\n",
    "\n",
    "## Getting Started\n",
    "\n",
    "1. Confirm you have [poetry](https://python-poetry.org) installed (`poetry --version`).\n",
    "1. Follow the [notebook instructions](../../src/canvas-extractor/README.md) to install dependencies used by this notebook.\n",
    "1. Create an `LMS` database in SQL Server.\n",
    "1. Please read through the notebook and fill in the two text boxes below before executing the entire notebook."
   ]
  },
  {
   "cell_type": "code",
   "execution_count": 8,
   "metadata": {},
   "outputs": [],
   "source": [
    "# Load some utilities\n",
    "from IPython.display import display, Markdown\n",
    "import ipywidgets as widgets\n",
    "\n",
    "# Setup logging\n",
    "import logging\n",
    "import sys\n",
    "\n",
    "logging.basicConfig(stream=sys.stdout, level=logging.INFO)\n",
    "\n",
    "# This logging produces too much information in the underlying Canvas API package, \n",
    "# leading to personally-identifiable information in the logs. The following configuration\n",
    "# reduces that part of the logging configuration back to the WARNING level.\n",
    "canvasapi_logger = logging.getLogger(\"canvasapi\")\n",
    "if canvasapi_logger.getEffectiveLevel() < logging.WARN:\n",
    "    canvasapi_logger.setLevel(logging.WARN)"
   ]
  },
  {
   "cell_type": "markdown",
   "metadata": {},
   "source": [
    "## Prepare Input Data\n",
    "\n",
    "Update the variables in the next block as needed."
   ]
  },
  {
   "cell_type": "code",
   "execution_count": 2,
   "metadata": {},
   "outputs": [],
   "source": [
    "LOG_LEVEL = \"INFO\"\n",
    "OUTPUT_DIRECTORY = \"c-data\"\n",
    "SYNC_DATABASE_DIRECTORY=OUTPUT_DIRECTORY\n",
    "START_DATE=\"2021-02-01\"\n",
    "END_DATE=\"2021-07-28\"\n",
    "DB_ENGINE = \"mssql\"\n",
    "DB_SERVER = \"localhost\"\n",
    "DB_NAME = \"LMS\"\n",
    "DB_PORT = 1433\n",
    "EXTRACT_ASSIGNMENTS = True\n",
    "EXTRACT_ACTIVITIES = False\n",
    "EXTRACT_ATTENDANCE = False\n",
    "EXTRACT_GRADES = False"
   ]
  },
  {
   "cell_type": "markdown",
   "metadata": {},
   "source": [
    "Run the next cell to create text input boxes for providing the agency's Canvas URL and a Canvas access token. [Instructions for acquiring an access token](https://community.canvaslms.com/t5/Student-Guide/How-do-I-manage-API-access-tokens-as-a-student/ta-p/273). Then run the next cell down to capture the values before running the last cells."
   ]
  },
  {
   "cell_type": "code",
   "execution_count": 3,
   "metadata": {},
   "outputs": [
    {
     "data": {
      "application/vnd.jupyter.widget-view+json": {
       "model_id": "ab4786e6ab3a4b5496358a039fb8ef66",
       "version_major": 2,
       "version_minor": 0
      },
      "text/plain": [
       "interactive(children=(Text(value='', description='Access Token'), Text(value='', description='Base URL'), Outp…"
      ]
     },
     "metadata": {},
     "output_type": "display_data"
    }
   ],
   "source": [
    "def get_access_token(token, base_url):\n",
    "    return token, base_url\n",
    "\n",
    "token_widget = widgets.Text(\n",
    "    description=\"Access Token\"\n",
    ")\n",
    "base_url_widget = widgets.Text(\n",
    "    description=\"Base URL\"\n",
    ")\n",
    "result = widgets.interactive(get_access_token, token=token_widget, base_url=base_url_widget)\n",
    "display(result)"
   ]
  },
  {
   "cell_type": "code",
   "execution_count": 10,
   "metadata": {},
   "outputs": [
    {
     "name": "stdout",
     "output_type": "stream",
     "text": [
      "Captured token and base URL.\n"
     ]
    }
   ],
   "source": [
    "TOKEN = result.children[0].value\n",
    "CANVAS_BASE_URL = result.children[1].value\n",
    "print(\"Captured token and base URL.\")"
   ]
  },
  {
   "cell_type": "markdown",
   "metadata": {},
   "source": [
    "## Run the Canvas Extractor"
   ]
  },
  {
   "cell_type": "code",
   "execution_count": 11,
   "metadata": {
    "scrolled": false
   },
   "outputs": [
    {
     "name": "stdout",
     "output_type": "stream",
     "text": [
      "INFO:edfi_canvas_extractor.extract_facade:Starting Ed-Fi LMS Canvas Extractor\n",
      "INFO:edfi_canvas_extractor.extract_facade:Extracting Courses from Canvas API\n",
      "INFO:edfi_canvas_extractor.api.courses:Pulling course data\n",
      "INFO:edfi_canvas_extractor.extract_facade:Extracting Sections from Canvas API\n",
      "INFO:edfi_canvas_extractor.api.sections:Pulling section data\n",
      "INFO:edfi_canvas_extractor.extract_facade:Writing LMS UDM Sections to CSV file\n",
      "INFO:edfi_lms_extractor_lib.csv_generation.write:Generated file => c-data\\sections\\2021-09-03-16-25-20.csv\n",
      "INFO:edfi_canvas_extractor.extract_facade:Extracting Students from Canvas API\n",
      "INFO:edfi_canvas_extractor.api.students:Pulling student data\n",
      "INFO:edfi_canvas_extractor.extract_facade:Writing LMS UDM Users to CSV file\n",
      "INFO:edfi_lms_extractor_lib.csv_generation.write:Generated file => c-data\\users\\2021-09-03-16-25-46.csv\n",
      "INFO:edfi_canvas_extractor.extract_facade:Extracting Enrollments from Canvas API\n",
      "INFO:edfi_canvas_extractor.client_facade:There are no active section associations for section id 456.\n",
      "INFO:edfi_canvas_extractor.client_facade:There are no active section associations for section id 615.\n",
      "INFO:edfi_canvas_extractor.client_facade:There are no active section associations for section id 616.\n",
      "INFO:edfi_canvas_extractor.client_facade:There are no active section associations for section id 619.\n",
      "INFO:edfi_canvas_extractor.client_facade:There are no active section associations for section id 642.\n",
      "INFO:edfi_canvas_extractor.client_facade:There are no active section associations for section id 751.\n",
      "INFO:edfi_canvas_extractor.extract_facade:Writing LMS UDM UserSectionAssociations to CSV files\n",
      "INFO:edfi_lms_extractor_lib.csv_generation.write:Generated file => c-data\\section=104\\section-associations\\2021-09-03-16-26-07.csv\n",
      "INFO:edfi_lms_extractor_lib.csv_generation.write:Generated file => c-data\\section=103\\section-associations\\2021-09-03-16-26-07.csv\n",
      "INFO:edfi_lms_extractor_lib.csv_generation.write:Generated file => c-data\\section=2\\section-associations\\2021-09-03-16-26-07.csv\n",
      "INFO:edfi_lms_extractor_lib.csv_generation.write:Generated file => c-data\\section=455\\section-associations\\2021-09-03-16-26-07.csv\n",
      "INFO:edfi_lms_extractor_lib.csv_generation.write:Generated file => c-data\\section=606\\section-associations\\2021-09-03-16-26-07.csv\n",
      "INFO:edfi_lms_extractor_lib.csv_generation.write:Generated file => c-data\\section=607\\section-associations\\2021-09-03-16-26-07.csv\n",
      "INFO:edfi_lms_extractor_lib.csv_generation.write:Generated file => c-data\\section=608\\section-associations\\2021-09-03-16-26-07.csv\n",
      "INFO:edfi_lms_extractor_lib.csv_generation.write:Generated file => c-data\\section=611\\section-associations\\2021-09-03-16-26-07.csv\n",
      "INFO:edfi_lms_extractor_lib.csv_generation.write:Generated file => c-data\\section=610\\section-associations\\2021-09-03-16-26-07.csv\n",
      "INFO:edfi_lms_extractor_lib.csv_generation.write:Generated file => c-data\\section=609\\section-associations\\2021-09-03-16-26-07.csv\n",
      "INFO:edfi_lms_extractor_lib.csv_generation.write:Generated file => c-data\\section=612\\section-associations\\2021-09-03-16-26-07.csv\n",
      "INFO:edfi_lms_extractor_lib.csv_generation.write:Generated file => c-data\\section=614\\section-associations\\2021-09-03-16-26-07.csv\n",
      "INFO:edfi_lms_extractor_lib.csv_generation.write:Generated file => c-data\\section=613\\section-associations\\2021-09-03-16-26-07.csv\n",
      "INFO:edfi_lms_extractor_lib.csv_generation.write:Generated file => c-data\\section=617\\section-associations\\2021-09-03-16-26-07.csv\n",
      "INFO:edfi_lms_extractor_lib.csv_generation.write:Generated file => c-data\\section=618\\section-associations\\2021-09-03-16-26-07.csv\n",
      "INFO:edfi_lms_extractor_lib.csv_generation.write:Generated file => c-data\\section=620\\section-associations\\2021-09-03-16-26-07.csv\n",
      "INFO:edfi_lms_extractor_lib.csv_generation.write:Generated file => c-data\\section=621\\section-associations\\2021-09-03-16-26-07.csv\n",
      "INFO:edfi_lms_extractor_lib.csv_generation.write:Generated file => c-data\\section=623\\section-associations\\2021-09-03-16-26-07.csv\n",
      "INFO:edfi_lms_extractor_lib.csv_generation.write:Generated file => c-data\\section=622\\section-associations\\2021-09-03-16-26-07.csv\n",
      "INFO:edfi_lms_extractor_lib.csv_generation.write:Generated file => c-data\\section=625\\section-associations\\2021-09-03-16-26-07.csv\n",
      "INFO:edfi_lms_extractor_lib.csv_generation.write:Generated file => c-data\\section=624\\section-associations\\2021-09-03-16-26-07.csv\n",
      "INFO:edfi_lms_extractor_lib.csv_generation.write:Generated file => c-data\\section=626\\section-associations\\2021-09-03-16-26-07.csv\n",
      "INFO:edfi_lms_extractor_lib.csv_generation.write:Generated file => c-data\\section=627\\section-associations\\2021-09-03-16-26-07.csv\n",
      "INFO:edfi_lms_extractor_lib.csv_generation.write:Generated file => c-data\\section=629\\section-associations\\2021-09-03-16-26-07.csv\n",
      "INFO:edfi_lms_extractor_lib.csv_generation.write:Generated file => c-data\\section=628\\section-associations\\2021-09-03-16-26-07.csv\n",
      "INFO:edfi_lms_extractor_lib.csv_generation.write:Generated file => c-data\\section=632\\section-associations\\2021-09-03-16-26-07.csv\n",
      "INFO:edfi_lms_extractor_lib.csv_generation.write:Generated file => c-data\\section=631\\section-associations\\2021-09-03-16-26-07.csv\n",
      "INFO:edfi_lms_extractor_lib.csv_generation.write:Generated file => c-data\\section=630\\section-associations\\2021-09-03-16-26-07.csv\n",
      "INFO:edfi_lms_extractor_lib.csv_generation.write:Generated file => c-data\\section=635\\section-associations\\2021-09-03-16-26-07.csv\n",
      "INFO:edfi_lms_extractor_lib.csv_generation.write:Generated file => c-data\\section=634\\section-associations\\2021-09-03-16-26-07.csv\n",
      "INFO:edfi_lms_extractor_lib.csv_generation.write:Generated file => c-data\\section=633\\section-associations\\2021-09-03-16-26-07.csv\n",
      "INFO:edfi_lms_extractor_lib.csv_generation.write:Generated file => c-data\\section=638\\section-associations\\2021-09-03-16-26-07.csv\n",
      "INFO:edfi_lms_extractor_lib.csv_generation.write:Generated file => c-data\\section=636\\section-associations\\2021-09-03-16-26-07.csv\n",
      "INFO:edfi_lms_extractor_lib.csv_generation.write:Generated file => c-data\\section=637\\section-associations\\2021-09-03-16-26-07.csv\n",
      "INFO:edfi_lms_extractor_lib.csv_generation.write:Generated file => c-data\\section=641\\section-associations\\2021-09-03-16-26-07.csv\n",
      "INFO:edfi_lms_extractor_lib.csv_generation.write:Generated file => c-data\\section=639\\section-associations\\2021-09-03-16-26-07.csv\n",
      "INFO:edfi_lms_extractor_lib.csv_generation.write:Generated file => c-data\\section=640\\section-associations\\2021-09-03-16-26-07.csv\n",
      "INFO:edfi_lms_extractor_lib.csv_generation.write:Generated file => c-data\\section=644\\section-associations\\2021-09-03-16-26-07.csv\n",
      "INFO:edfi_lms_extractor_lib.csv_generation.write:Generated file => c-data\\section=643\\section-associations\\2021-09-03-16-26-07.csv\n",
      "INFO:edfi_lms_extractor_lib.csv_generation.write:Generated file => c-data\\section=647\\section-associations\\2021-09-03-16-26-07.csv\n",
      "INFO:edfi_lms_extractor_lib.csv_generation.write:Generated file => c-data\\section=645\\section-associations\\2021-09-03-16-26-07.csv\n",
      "INFO:edfi_lms_extractor_lib.csv_generation.write:Generated file => c-data\\section=646\\section-associations\\2021-09-03-16-26-07.csv\n",
      "INFO:edfi_lms_extractor_lib.csv_generation.write:Generated file => c-data\\section=648\\section-associations\\2021-09-03-16-26-07.csv\n",
      "INFO:edfi_lms_extractor_lib.csv_generation.write:Generated file => c-data\\section=649\\section-associations\\2021-09-03-16-26-07.csv\n",
      "INFO:edfi_lms_extractor_lib.csv_generation.write:Generated file => c-data\\section=752\\section-associations\\2021-09-03-16-26-07.csv\n",
      "INFO:edfi_lms_extractor_lib.csv_generation.write:Generated file => c-data\\section=754\\section-associations\\2021-09-03-16-26-07.csv\n",
      "INFO:edfi_lms_extractor_lib.csv_generation.write:Generated file => c-data\\section=755\\section-associations\\2021-09-03-16-26-07.csv\n",
      "INFO:edfi_lms_extractor_lib.csv_generation.write:Generated file => c-data\\section=753\\section-associations\\2021-09-03-16-26-07.csv\n",
      "INFO:edfi_lms_extractor_lib.csv_generation.write:Generated file => c-data\\section=456\\section-associations\\2021-09-03-16-26-07.csv\n",
      "INFO:edfi_lms_extractor_lib.csv_generation.write:Generated file => c-data\\section=615\\section-associations\\2021-09-03-16-26-07.csv\n"
     ]
    },
    {
     "name": "stdout",
     "output_type": "stream",
     "text": [
      "INFO:edfi_lms_extractor_lib.csv_generation.write:Generated file => c-data\\section=616\\section-associations\\2021-09-03-16-26-07.csv\n",
      "INFO:edfi_lms_extractor_lib.csv_generation.write:Generated file => c-data\\section=619\\section-associations\\2021-09-03-16-26-07.csv\n",
      "INFO:edfi_lms_extractor_lib.csv_generation.write:Generated file => c-data\\section=642\\section-associations\\2021-09-03-16-26-07.csv\n",
      "INFO:edfi_lms_extractor_lib.csv_generation.write:Generated file => c-data\\section=751\\section-associations\\2021-09-03-16-26-07.csv\n",
      "INFO:edfi_canvas_extractor.extract_facade:Extracting Assignments from Canvas API\n",
      "INFO:edfi_canvas_extractor.api.assignments:Pulling assignment data\n",
      "INFO:edfi_canvas_extractor.extract_facade:Writing LMS UDM Assignments to CSV files\n",
      "INFO:edfi_lms_extractor_lib.csv_generation.write:Generated file => c-data\\section=103\\assignments\\2021-09-03-16-26-40.csv\n",
      "INFO:edfi_lms_extractor_lib.csv_generation.write:Generated file => c-data\\section=104\\assignments\\2021-09-03-16-26-40.csv\n",
      "INFO:edfi_lms_extractor_lib.csv_generation.write:Generated file => c-data\\section=2\\assignments\\2021-09-03-16-26-40.csv\n",
      "INFO:edfi_lms_extractor_lib.csv_generation.write:Generated file => c-data\\section=455\\assignments\\2021-09-03-16-26-40.csv\n",
      "INFO:edfi_lms_extractor_lib.csv_generation.write:Generated file => c-data\\section=456\\assignments\\2021-09-03-16-26-40.csv\n",
      "INFO:edfi_lms_extractor_lib.csv_generation.write:Generated file => c-data\\section=606\\assignments\\2021-09-03-16-26-40.csv\n",
      "INFO:edfi_lms_extractor_lib.csv_generation.write:Generated file => c-data\\section=607\\assignments\\2021-09-03-16-26-40.csv\n",
      "INFO:edfi_lms_extractor_lib.csv_generation.write:Generated file => c-data\\section=608\\assignments\\2021-09-03-16-26-40.csv\n",
      "INFO:edfi_lms_extractor_lib.csv_generation.write:Generated file => c-data\\section=609\\assignments\\2021-09-03-16-26-40.csv\n",
      "INFO:edfi_lms_extractor_lib.csv_generation.write:Generated file => c-data\\section=610\\assignments\\2021-09-03-16-26-40.csv\n",
      "INFO:edfi_lms_extractor_lib.csv_generation.write:Generated file => c-data\\section=611\\assignments\\2021-09-03-16-26-40.csv\n",
      "INFO:edfi_lms_extractor_lib.csv_generation.write:Generated file => c-data\\section=612\\assignments\\2021-09-03-16-26-40.csv\n",
      "INFO:edfi_lms_extractor_lib.csv_generation.write:Generated file => c-data\\section=613\\assignments\\2021-09-03-16-26-40.csv\n",
      "INFO:edfi_lms_extractor_lib.csv_generation.write:Generated file => c-data\\section=614\\assignments\\2021-09-03-16-26-40.csv\n",
      "INFO:edfi_lms_extractor_lib.csv_generation.write:Generated file => c-data\\section=615\\assignments\\2021-09-03-16-26-40.csv\n",
      "INFO:edfi_lms_extractor_lib.csv_generation.write:Generated file => c-data\\section=616\\assignments\\2021-09-03-16-26-40.csv\n",
      "INFO:edfi_lms_extractor_lib.csv_generation.write:Generated file => c-data\\section=617\\assignments\\2021-09-03-16-26-40.csv\n",
      "INFO:edfi_lms_extractor_lib.csv_generation.write:Generated file => c-data\\section=618\\assignments\\2021-09-03-16-26-40.csv\n",
      "INFO:edfi_lms_extractor_lib.csv_generation.write:Generated file => c-data\\section=619\\assignments\\2021-09-03-16-26-40.csv\n",
      "INFO:edfi_lms_extractor_lib.csv_generation.write:Generated file => c-data\\section=620\\assignments\\2021-09-03-16-26-40.csv\n",
      "INFO:edfi_lms_extractor_lib.csv_generation.write:Generated file => c-data\\section=621\\assignments\\2021-09-03-16-26-40.csv\n",
      "INFO:edfi_lms_extractor_lib.csv_generation.write:Generated file => c-data\\section=622\\assignments\\2021-09-03-16-26-40.csv\n",
      "INFO:edfi_lms_extractor_lib.csv_generation.write:Generated file => c-data\\section=623\\assignments\\2021-09-03-16-26-40.csv\n",
      "INFO:edfi_lms_extractor_lib.csv_generation.write:Generated file => c-data\\section=624\\assignments\\2021-09-03-16-26-40.csv\n",
      "INFO:edfi_lms_extractor_lib.csv_generation.write:Generated file => c-data\\section=625\\assignments\\2021-09-03-16-26-40.csv\n",
      "INFO:edfi_lms_extractor_lib.csv_generation.write:Generated file => c-data\\section=626\\assignments\\2021-09-03-16-26-40.csv\n",
      "INFO:edfi_lms_extractor_lib.csv_generation.write:Generated file => c-data\\section=627\\assignments\\2021-09-03-16-26-40.csv\n",
      "INFO:edfi_lms_extractor_lib.csv_generation.write:Generated file => c-data\\section=628\\assignments\\2021-09-03-16-26-40.csv\n",
      "INFO:edfi_lms_extractor_lib.csv_generation.write:Generated file => c-data\\section=629\\assignments\\2021-09-03-16-26-40.csv\n",
      "INFO:edfi_lms_extractor_lib.csv_generation.write:Generated file => c-data\\section=630\\assignments\\2021-09-03-16-26-40.csv\n",
      "INFO:edfi_lms_extractor_lib.csv_generation.write:Generated file => c-data\\section=631\\assignments\\2021-09-03-16-26-40.csv\n",
      "INFO:edfi_lms_extractor_lib.csv_generation.write:Generated file => c-data\\section=632\\assignments\\2021-09-03-16-26-40.csv\n",
      "INFO:edfi_lms_extractor_lib.csv_generation.write:Generated file => c-data\\section=633\\assignments\\2021-09-03-16-26-40.csv\n",
      "INFO:edfi_lms_extractor_lib.csv_generation.write:Generated file => c-data\\section=634\\assignments\\2021-09-03-16-26-40.csv\n",
      "INFO:edfi_lms_extractor_lib.csv_generation.write:Generated file => c-data\\section=635\\assignments\\2021-09-03-16-26-40.csv\n",
      "INFO:edfi_lms_extractor_lib.csv_generation.write:Generated file => c-data\\section=636\\assignments\\2021-09-03-16-26-40.csv\n",
      "INFO:edfi_lms_extractor_lib.csv_generation.write:Generated file => c-data\\section=637\\assignments\\2021-09-03-16-26-40.csv\n",
      "INFO:edfi_lms_extractor_lib.csv_generation.write:Generated file => c-data\\section=638\\assignments\\2021-09-03-16-26-40.csv\n",
      "INFO:edfi_lms_extractor_lib.csv_generation.write:Generated file => c-data\\section=639\\assignments\\2021-09-03-16-26-40.csv\n",
      "INFO:edfi_lms_extractor_lib.csv_generation.write:Generated file => c-data\\section=640\\assignments\\2021-09-03-16-26-40.csv\n",
      "INFO:edfi_lms_extractor_lib.csv_generation.write:Generated file => c-data\\section=641\\assignments\\2021-09-03-16-26-40.csv\n",
      "INFO:edfi_lms_extractor_lib.csv_generation.write:Generated file => c-data\\section=642\\assignments\\2021-09-03-16-26-40.csv\n",
      "INFO:edfi_lms_extractor_lib.csv_generation.write:Generated file => c-data\\section=643\\assignments\\2021-09-03-16-26-40.csv\n",
      "INFO:edfi_lms_extractor_lib.csv_generation.write:Generated file => c-data\\section=644\\assignments\\2021-09-03-16-26-40.csv\n",
      "INFO:edfi_lms_extractor_lib.csv_generation.write:Generated file => c-data\\section=645\\assignments\\2021-09-03-16-26-40.csv\n",
      "INFO:edfi_lms_extractor_lib.csv_generation.write:Generated file => c-data\\section=646\\assignments\\2021-09-03-16-26-40.csv\n",
      "INFO:edfi_lms_extractor_lib.csv_generation.write:Generated file => c-data\\section=647\\assignments\\2021-09-03-16-26-40.csv\n",
      "INFO:edfi_lms_extractor_lib.csv_generation.write:Generated file => c-data\\section=648\\assignments\\2021-09-03-16-26-40.csv\n",
      "INFO:edfi_lms_extractor_lib.csv_generation.write:Generated file => c-data\\section=649\\assignments\\2021-09-03-16-26-40.csv\n",
      "INFO:edfi_lms_extractor_lib.csv_generation.write:Generated file => c-data\\section=751\\assignments\\2021-09-03-16-26-40.csv\n",
      "INFO:edfi_lms_extractor_lib.csv_generation.write:Generated file => c-data\\section=752\\assignments\\2021-09-03-16-26-40.csv\n",
      "INFO:edfi_lms_extractor_lib.csv_generation.write:Generated file => c-data\\section=753\\assignments\\2021-09-03-16-26-40.csv\n",
      "INFO:edfi_lms_extractor_lib.csv_generation.write:Generated file => c-data\\section=754\\assignments\\2021-09-03-16-26-40.csv\n",
      "INFO:edfi_lms_extractor_lib.csv_generation.write:Generated file => c-data\\section=755\\assignments\\2021-09-03-16-26-40.csv\n",
      "INFO:edfi_canvas_extractor.extract_facade:Extracting Submissions from Canvas API\n",
      "INFO:edfi_canvas_extractor.extract_facade:Writing LMS UDM AssignmentSubmissions to CSV files\n",
      "INFO:edfi_canvas_extractor.client_facade:Skipping submissions for section id 455 - No data returned by API\n",
      "INFO:edfi_canvas_extractor.client_facade:Skipping submissions for section id 456 - No data returned by API\n",
      "INFO:edfi_canvas_extractor.client_facade:Skipping submissions for section id 606 - No data returned by API\n",
      "INFO:edfi_canvas_extractor.client_facade:Skipping submissions for section id 607 - No data returned by API\n",
      "INFO:edfi_canvas_extractor.client_facade:Skipping submissions for section id 608 - No data returned by API\n",
      "INFO:edfi_canvas_extractor.client_facade:Skipping submissions for section id 611 - No data returned by API\n",
      "INFO:edfi_canvas_extractor.client_facade:Skipping submissions for section id 610 - No data returned by API\n"
     ]
    },
    {
     "name": "stdout",
     "output_type": "stream",
     "text": [
      "INFO:edfi_canvas_extractor.client_facade:Skipping submissions for section id 609 - No data returned by API\n",
      "INFO:edfi_canvas_extractor.client_facade:Skipping submissions for section id 612 - No data returned by API\n",
      "INFO:edfi_canvas_extractor.client_facade:Skipping submissions for section id 614 - No data returned by API\n",
      "INFO:edfi_canvas_extractor.client_facade:Skipping submissions for section id 613 - No data returned by API\n",
      "INFO:edfi_canvas_extractor.client_facade:Skipping submissions for section id 617 - No data returned by API\n",
      "INFO:edfi_canvas_extractor.client_facade:Skipping submissions for section id 615 - No data returned by API\n",
      "INFO:edfi_canvas_extractor.client_facade:Skipping submissions for section id 616 - No data returned by API\n",
      "INFO:edfi_canvas_extractor.client_facade:Skipping submissions for section id 619 - No data returned by API\n",
      "INFO:edfi_canvas_extractor.client_facade:Skipping submissions for section id 618 - No data returned by API\n",
      "INFO:edfi_canvas_extractor.client_facade:Skipping submissions for section id 620 - No data returned by API\n",
      "INFO:edfi_canvas_extractor.client_facade:Skipping submissions for section id 621 - No data returned by API\n",
      "INFO:edfi_canvas_extractor.client_facade:Skipping submissions for section id 623 - No data returned by API\n",
      "INFO:edfi_canvas_extractor.client_facade:Skipping submissions for section id 622 - No data returned by API\n",
      "INFO:edfi_canvas_extractor.client_facade:Skipping submissions for section id 625 - No data returned by API\n",
      "INFO:edfi_canvas_extractor.client_facade:Skipping submissions for section id 624 - No data returned by API\n",
      "INFO:edfi_canvas_extractor.client_facade:Skipping submissions for section id 626 - No data returned by API\n",
      "INFO:edfi_canvas_extractor.client_facade:Skipping submissions for section id 627 - No data returned by API\n",
      "INFO:edfi_canvas_extractor.client_facade:Skipping submissions for section id 629 - No data returned by API\n",
      "INFO:edfi_canvas_extractor.client_facade:Skipping submissions for section id 628 - No data returned by API\n",
      "INFO:edfi_canvas_extractor.client_facade:Skipping submissions for section id 632 - No data returned by API\n",
      "INFO:edfi_canvas_extractor.client_facade:Skipping submissions for section id 631 - No data returned by API\n",
      "INFO:edfi_canvas_extractor.client_facade:Skipping submissions for section id 630 - No data returned by API\n",
      "INFO:edfi_canvas_extractor.client_facade:Skipping submissions for section id 635 - No data returned by API\n",
      "INFO:edfi_canvas_extractor.client_facade:Skipping submissions for section id 634 - No data returned by API\n",
      "INFO:edfi_canvas_extractor.client_facade:Skipping submissions for section id 633 - No data returned by API\n",
      "INFO:edfi_canvas_extractor.client_facade:Skipping submissions for section id 638 - No data returned by API\n",
      "INFO:edfi_canvas_extractor.client_facade:Skipping submissions for section id 636 - No data returned by API\n",
      "INFO:edfi_canvas_extractor.client_facade:Skipping submissions for section id 637 - No data returned by API\n",
      "INFO:edfi_canvas_extractor.client_facade:Skipping submissions for section id 641 - No data returned by API\n",
      "INFO:edfi_canvas_extractor.client_facade:Skipping submissions for section id 639 - No data returned by API\n",
      "INFO:edfi_canvas_extractor.client_facade:Skipping submissions for section id 640 - No data returned by API\n",
      "INFO:edfi_canvas_extractor.client_facade:Skipping submissions for section id 644 - No data returned by API\n",
      "INFO:edfi_canvas_extractor.client_facade:Skipping submissions for section id 643 - No data returned by API\n",
      "INFO:edfi_canvas_extractor.client_facade:Skipping submissions for section id 642 - No data returned by API\n",
      "INFO:edfi_canvas_extractor.client_facade:Skipping submissions for section id 647 - No data returned by API\n",
      "INFO:edfi_canvas_extractor.client_facade:Skipping submissions for section id 645 - No data returned by API\n",
      "INFO:edfi_canvas_extractor.client_facade:Skipping submissions for section id 646 - No data returned by API\n",
      "INFO:edfi_canvas_extractor.client_facade:Skipping submissions for section id 648 - No data returned by API\n",
      "INFO:edfi_canvas_extractor.client_facade:Skipping submissions for section id 649 - No data returned by API\n",
      "INFO:edfi_canvas_extractor.client_facade:Skipping submissions for section id 751 - No data returned by API\n",
      "INFO:edfi_canvas_extractor.client_facade:Skipping submissions for section id 752 - No data returned by API\n",
      "INFO:edfi_canvas_extractor.client_facade:Skipping submissions for section id 754 - No data returned by API\n",
      "INFO:edfi_canvas_extractor.client_facade:Skipping submissions for section id 755 - No data returned by API\n",
      "INFO:edfi_canvas_extractor.client_facade:Skipping submissions for section id 753 - No data returned by API\n",
      "INFO:edfi_lms_extractor_lib.csv_generation.write:Generated file => c-data\\section=104\\assignment=104-111\\submissions\\2021-09-03-16-26-54.csv\n",
      "INFO:edfi_lms_extractor_lib.csv_generation.write:Generated file => c-data\\section=104\\assignment=104-112\\submissions\\2021-09-03-16-26-54.csv\n",
      "INFO:edfi_lms_extractor_lib.csv_generation.write:Generated file => c-data\\section=104\\assignment=104-1220\\submissions\\2021-09-03-16-26-54.csv\n",
      "INFO:edfi_lms_extractor_lib.csv_generation.write:Generated file => c-data\\section=103\\assignment=103-113\\submissions\\2021-09-03-16-26-54.csv\n",
      "INFO:edfi_lms_extractor_lib.csv_generation.write:Generated file => c-data\\section=103\\assignment=103-114\\submissions\\2021-09-03-16-26-54.csv\n",
      "INFO:edfi_lms_extractor_lib.csv_generation.write:Generated file => c-data\\section=103\\assignment=103-1221\\submissions\\2021-09-03-16-26-54.csv\n",
      "INFO:edfi_lms_extractor_lib.csv_generation.write:Generated file => c-data\\section=103\\assignment=103-1222\\submissions\\2021-09-03-16-26-54.csv\n",
      "INFO:edfi_lms_extractor_lib.csv_generation.write:Generated file => c-data\\section=2\\assignment=2-1\\submissions\\2021-09-03-16-26-54.csv\n",
      "INFO:edfi_lms_extractor_lib.csv_generation.write:Generated file => c-data\\section=2\\assignment=2-2\\submissions\\2021-09-03-16-26-54.csv\n",
      "INFO:edfi_lms_extractor_lib.csv_generation.write:Generated file => c-data\\section=2\\assignment=2-3\\submissions\\2021-09-03-16-26-54.csv\n",
      "INFO:edfi_lms_extractor_lib.csv_generation.write:Generated file => c-data\\section=2\\assignment=2-4\\submissions\\2021-09-03-16-26-54.csv\n",
      "INFO:edfi_lms_extractor_lib.csv_generation.write:Generated file => c-data\\section=2\\assignment=2-5\\submissions\\2021-09-03-16-26-54.csv\n",
      "INFO:edfi_lms_extractor_lib.csv_generation.write:Generated file => c-data\\section=2\\assignment=2-6\\submissions\\2021-09-03-16-26-54.csv\n",
      "INFO:edfi_lms_extractor_lib.csv_generation.write:Generated file => c-data\\section=2\\assignment=2-8\\submissions\\2021-09-03-16-26-54.csv\n",
      "INFO:edfi_canvas_extractor.extract_facade:Finishing Ed-Fi LMS Canvas Extractor\n"
     ]
    }
   ],
   "source": [
    "from edfi_canvas_extractor.helpers.arg_parser import MainArguments as c_args\n",
    "from edfi_canvas_extractor import extract_facade\n",
    "\n",
    "arguments = c_args(\n",
    "    base_url=CANVAS_BASE_URL,\n",
    "    access_token=TOKEN,\n",
    "    output_directory=OUTPUT_DIRECTORY,\n",
    "    log_level=LOG_LEVEL,\n",
    "    start_date=START_DATE,\n",
    "    end_date=END_DATE,\n",
    "    sync_database_directory=SYNC_DATABASE_DIRECTORY,\n",
    "    extract_assignments=EXTRACT_ASSIGNMENTS,\n",
    "    extract_activities=EXTRACT_ACTIVITIES,\n",
    "    extract_attendance=EXTRACT_ATTENDANCE,\n",
    "    extract_grades=EXTRACT_GRADES,\n",
    ")\n",
    "\n",
    "extract_facade.run(arguments)"
   ]
  },
  {
   "cell_type": "markdown",
   "metadata": {},
   "source": [
    "## Run the Learning Management System Data Store Loader (LMS-DS-Loader)\n",
    "\n",
    "The default setup below uses Windows integrated security. For username/password security, please review the commented-out code."
   ]
  },
  {
   "cell_type": "code",
   "execution_count": 3,
   "metadata": {},
   "outputs": [],
   "source": [
    "from edfi_lms_ds_loader.helpers.argparser import MainArguments as lms_args\n",
    "from edfi_lms_ds_loader import loader_facade\n",
    "\n",
    "arguments = lms_args(\n",
    "    OUTPUT_DIRECTORY,\n",
    "    DB_ENGINE,\n",
    "    LOG_LEVEL,\n",
    "    DB_SERVER,\n",
    "    DB_NAME,\n",
    "    DB_PORT,\n",
    ")\n",
    "arguments.build_mssql_adapter_with_integrated_security()\n",
    "\n",
    "# For password auth, comment out the lines above and uncomment the next ones:\n",
    "# arguments = lms_args(\n",
    "#     OUTPUT_DIRECTORY,\n",
    "#     DB_ENGINE,\n",
    "#     LOG_LEVEL,\n",
    "#     DB_SERVER,\n",
    "#     DB_PORT,\n",
    "#     DB_NAME,\n",
    "# )\n",
    "# arguments.build_mssql_adapter(your_db_user, your_db_password)\n",
    "\n",
    "\n",
    "loader_facade.run_loader(arguments)"
   ]
  },
  {
   "cell_type": "code",
   "execution_count": null,
   "metadata": {},
   "outputs": [],
   "source": []
  }
 ],
 "metadata": {
  "kernelspec": {
   "display_name": "Python 3",
   "language": "python",
   "name": "python3"
  },
  "language_info": {
   "codemirror_mode": {
    "name": "ipython",
    "version": 3
   },
   "file_extension": ".py",
   "mimetype": "text/x-python",
   "name": "python",
   "nbconvert_exporter": "python",
   "pygments_lexer": "ipython3",
   "version": "3.9.4"
  },
  "metadata": {
   "interpreter": {
    "hash": "a96b0b913fd91a22b3595c406d18ae3dcd942740dffd5b27bdd6ca9a9da6c2ae"
   }
  }
 },
 "nbformat": 4,
 "nbformat_minor": 2
}
