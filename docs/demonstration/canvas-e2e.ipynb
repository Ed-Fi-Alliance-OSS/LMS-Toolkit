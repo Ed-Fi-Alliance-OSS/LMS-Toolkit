{
 "cells": [
  {
   "cell_type": "markdown",
   "metadata": {},
   "source": [
    "# End-to-End Demonstration: Canvas\n",
    "\n",
    "*Goal*: run the Canvas Extractor and then upload the results into an `LMS` database.\n",
    "\n",
    "## Software Requirements\n",
    "\n",
    "1. Be sure to install Python 3.9; if you have multiple versions, make sure that the `python` command runs version 3.9.x. You can confirm your version by running `python --version` at a command prompt.\n",
    "1. Microsoft SQL Server 2017 or 2019, in Windows or Linux.\n",
    "\n",
    "## Getting Started\n",
    "\n",
    "1. Confirm you have [poetry](https://python-poetry.org) installed (`poetry --version`).\n",
    "1. Follow the [notebook instructions](README.md) to install dependencies used by this notebook.\n",
    "1. Create an `LMS` database in SQL Server.\n",
    "1. Please read through the notebook and fill in the two text boxes below before executing the entire notebook."
   ]
  },
  {
   "cell_type": "code",
   "execution_count": 1,
   "metadata": {},
   "outputs": [],
   "source": [
    "# Load some utilities\n",
    "from IPython.display import display, Markdown\n",
    "import ipywidgets as widgets\n",
    "\n",
    "# Setup logging\n",
    "import logging\n",
    "import sys\n",
    "\n",
    "logging.basicConfig(stream=sys.stdout, level=logging.INFO)"
   ]
  },
  {
   "cell_type": "markdown",
   "metadata": {},
   "source": [
    "## Prepare Input Data\n",
    "\n",
    "Update the variables in the next block as needed. Below that, there will be are runtime text input boxes to provide the agency's Canvas URL and a Canvas access token. [Instructions for acquiring an access token](https://community.canvaslms.com/t5/Student-Guide/How-do-I-manage-API-access-tokens-as-a-student/ta-p/273)."
   ]
  },
  {
   "cell_type": "code",
   "execution_count": 2,
   "metadata": {},
   "outputs": [],
   "source": [
    "LOG_LEVEL = \"INFO\"\n",
    "OUTPUT_DIRECTORY = \"c-data\"\n",
    "START_DATE=\"2021-02-01\"\n",
    "END_DATE=\"2021-07-28\"\n",
    "DB_ENGINE = \"mssql\"\n",
    "DB_SERVER = \"localhost\"\n",
    "DB_NAME = \"LMS\"\n",
    "DB_PORT = 1433"
   ]
  },
  {
   "cell_type": "code",
   "execution_count": 3,
   "metadata": {},
   "outputs": [
    {
     "data": {
      "application/vnd.jupyter.widget-view+json": {
       "model_id": "cf988e725c364eb19125cfeee5766754",
       "version_major": 2,
       "version_minor": 0
      },
      "text/plain": [
       "interactive(children=(Text(value='', description='Access Token'), Text(value='', description='Base URL'), Outp…"
      ]
     },
     "metadata": {},
     "output_type": "display_data"
    }
   ],
   "source": [
    "def get_access_token(token, base_url):\n",
    "    return token, base_url\n",
    "\n",
    "token_widget = widgets.Text(\n",
    "    description=\"Access Token\"\n",
    ")\n",
    "base_url_widget = widgets.Text(\n",
    "    description=\"Base URL\"\n",
    ")\n",
    "result = widgets.interactive(get_access_token, token=token_widget, base_url=base_url_widget)\n",
    "display(result)"
   ]
  },
  {
   "cell_type": "code",
   "execution_count": 5,
   "metadata": {},
   "outputs": [],
   "source": [
    "TOKEN = result.children[0].value\n",
    "CANVAS_BASE_URL = result.children[1].value"
   ]
  },
  {
   "cell_type": "markdown",
   "metadata": {},
   "source": [
    "## Run the Canvas Extractor"
   ]
  },
  {
   "cell_type": "code",
   "execution_count": 8,
   "metadata": {},
   "outputs": [
    {
     "name": "stdout",
     "output_type": "stream",
     "text": [
      "INFO:edfi_canvas_extractor.extract_facade:Starting Ed-Fi LMS Canvas Extractor\n",
      "INFO:edfi_canvas_extractor.extract_facade:Extracting Courses from Canvas API\n",
      "INFO:edfi_canvas_extractor.api.courses:Pulling course data\n",
      "INFO:canvasapi.requester:Request: GET https://YOURSCHOOL.instructure.com/api/v1/accounts\n",
      "INFO:canvasapi.requester:Response: GET https://YOURSCHOOL.instructure.com/api/v1/accounts 200\n",
      "INFO:canvasapi.requester:Request: GET https://YOURSCHOOL.instructure.com/api/v1/accounts/1/courses\n",
      "INFO:canvasapi.requester:Response: GET https://YOURSCHOOL.instructure.com/api/v1/accounts/1/courses 200\n",
      "INFO:canvasapi.requester:Request: GET https://YOURSCHOOL.instructure.com/api/v1/accounts/1/courses?ends_after=2021-02-01&starts_before=2021-07-28&state%5B%5D=available&state%5B%5D=completed&page=2&per_page=100\n",
      "INFO:canvasapi.requester:Response: GET https://YOURSCHOOL.instructure.com/api/v1/accounts/1/courses?ends_after=2021-02-01&starts_before=2021-07-28&state%5B%5D=available&state%5B%5D=completed&page=2&per_page=100 200\n",
      "INFO:edfi_canvas_extractor.extract_facade:Extracting Sections from Canvas API\n",
      "INFO:edfi_canvas_extractor.api.sections:Pulling section data\n",
      "... remaining messages have been cleared to keep this notebook from being too large\n"
     ]
    }
   ],
   "source": [
    "from edfi_canvas_extractor.helpers.arg_parser import MainArguments as c_args\n",
    "from edfi_canvas_extractor import extract_facade\n",
    "\n",
    "arguments = c_args(\n",
    "    base_url=CANVAS_BASE_URL,\n",
    "    access_token=TOKEN,\n",
    "    output_directory=OUTPUT_DIRECTORY,\n",
    "    log_level=LOG_LEVEL,\n",
    "    start_date=START_DATE,\n",
    "    end_date=END_DATE\n",
    ")\n",
    "\n",
    "extract_facade.run(arguments)"
   ]
  },
  {
   "cell_type": "markdown",
   "metadata": {},
   "source": [
    "## Run the Learning Management System Data Store Loader (LMS-DS-Loader)\n",
    "\n",
    "The default setup below uses Windows integrated security. For username/password security, please review the commented-out code."
   ]
  },
  {
   "cell_type": "code",
   "execution_count": 9,
   "metadata": {},
   "outputs": [
    {
     "name": "stdout",
     "output_type": "stream",
     "text": [
      "INFO:edfi_lms_ds_loader.loader_facade:Begin loading files into the LMS Data Store (DS)...\n",
      "INFO:edfi_lms_ds_loader.migrator:Begin database auto-migration...\n",
      "INFO:edfi_lms_ds_loader.migrator:Done with database auto-migration.\n",
      "INFO:edfi_lms_ds_loader.df_to_db:Uploading LMSUser file ...\n",
      "INFO:edfi_lms_ds_loader.df_to_db:Done with LMSUser file.\n",
      "INFO:edfi_lms_ds_loader.df_to_db:Uploading LMSSection file ...\n",
      "INFO:edfi_lms_ds_loader.df_to_db:Done with LMSSection file.\n",
      "INFO:edfi_lms_ds_loader.loader_facade:No sections loaded. Skipping assignments.\n",
      "INFO:edfi_lms_ds_loader.loader_facade:No assignments loaded. Skipping assignment submissions.\n",
      "INFO:edfi_lms_ds_loader.loader_facade:No sections loaded. Skipping section associations.\n",
      "INFO:edfi_lms_ds_loader.loader_facade:No sections loaded. Skipping section associations.\n",
      "INFO:edfi_lms_ds_loader.loader_facade:No sections loaded. Skipping section associations.\n",
      "INFO:edfi_lms_ds_loader.loader_facade:Done loading files into the LMS Data Store.\n"
     ]
    }
   ],
   "source": [
    "from edfi_lms_ds_loader.helpers.argparser import MainArguments as lms_args\n",
    "from edfi_lms_ds_loader import loader_facade\n",
    "\n",
    "arguments = lms_args(\n",
    "    OUTPUT_DIRECTORY,\n",
    "    DB_ENGINE,\n",
    "    LOG_LEVEL\n",
    ")\n",
    "arguments.set_connection_string_using_integrated_security(\n",
    "    DB_SERVER,\n",
    "    DB_PORT,\n",
    "    DB_NAME,\n",
    ")\n",
    "# For password auth, comment out the line above and uncomment this one:\n",
    "# arguments.set_connection_string(\n",
    "#     DB_SERVER,\n",
    "#     DB_PORT,\n",
    "#     DB_NAME,\n",
    "#     USERNAME,\n",
    "#     PASSWORD,\n",
    "# )\n",
    "\n",
    "loader_facade.run_loader(arguments)"
   ]
  }
 ],
 "metadata": {
  "kernelspec": {
   "display_name": "Python 3",
   "language": "python",
   "name": "python3"
  },
  "language_info": {
   "codemirror_mode": {
    "name": "ipython",
    "version": 3
   },
   "file_extension": ".py",
   "mimetype": "text/x-python",
   "name": "python",
   "nbconvert_exporter": "python",
   "pygments_lexer": "ipython3",
   "version": "3.9.4"
  },
  "metadata": {
   "interpreter": {
    "hash": "a96b0b913fd91a22b3595c406d18ae3dcd942740dffd5b27bdd6ca9a9da6c2ae"
   }
  }
 },
 "nbformat": 4,
 "nbformat_minor": 2
}
