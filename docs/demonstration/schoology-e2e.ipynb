{
 "cells": [
  {
   "cell_type": "markdown",
   "metadata": {},
   "source": [
    "# End-to-End Demonstration: Schoology\n",
    "\n",
    "*Goal*: run the Schoology Extractor and then upload the results into an `LMS` database.\n",
    "\n",
    "Execution time is highly dependent on the number of students and the number of sections in your installation of Schoology.\n",
    "\n",
    "## Software Requirements\n",
    "\n",
    "1. Be sure to install Python 3.9; if you have multiple versions, make sure that the `python` command runs version 3.9.x. You can confirm your version by running `python --version` at a command prompt.\n",
    "1. Microsoft SQL Server 2017 or 2019, in Windows or Linux.\n",
    "\n",
    "## Getting Started\n",
    "\n",
    "1. Confirm you have [poetry](https://python-poetry.org) installed (`poetry --version`).\n",
    "1. Follow the [notebook instructions](README.md) to install dependencies used by this notebook.\n",
    "1. Create an `LMS` database in SQL Server.\n",
    "1. Please read through the notebook and fill in the two text boxes below before executing the entire notebook."
   ]
  },
  {
   "cell_type": "code",
   "execution_count": null,
   "metadata": {},
   "outputs": [],
   "source": [
    "# Load some utilities\n",
    "from IPython.display import display, Markdown\n",
    "import ipywidgets as widgets\n",
    "\n",
    "# Setup logging\n",
    "import logging\n",
    "import sys\n",
    "\n",
    "logging.basicConfig(stream=sys.stdout, level=logging.INFO)"
   ]
  },
  {
   "cell_type": "markdown",
   "metadata": {},
   "source": [
    "## Prepare Input Data\n",
    "\n",
    "Update the variables in the next block as needed."
   ]
  },
  {
   "cell_type": "code",
   "execution_count": null,
   "metadata": {},
   "outputs": [],
   "source": [
    "LOG_LEVEL = \"INFO\"\n",
    "OUTPUT_DIRECTORY = \"s-data\"\n",
    "SYNC_DATABASE_DIRECTORY=OUTPUT_DIRECTORY\n",
    "DB_ENGINE = \"mssql\"\n",
    "DB_SERVER = \"localhost\"\n",
    "DB_NAME = \"LMS\"\n",
    "DB_PORT = 1433\n",
    "EXTRACT_ASSIGNMENTS = True\n",
    "EXTRACT_ACTIVITIES = False\n",
    "EXTRACT_ATTENDANCE = False\n",
    "EXTRACT_GRADES = False"
   ]
  },
  {
   "cell_type": "markdown",
   "metadata": {},
   "source": [
    "Run the next cell to create text input boxes for providing the agency's Schoology API key and secret. You can find your key and secret at [https://app.schoology.com/api](https://app.schoology.com/api). Then run the next cell down to capture the values before running the last cells."
   ]
  },
  {
   "cell_type": "code",
   "execution_count": null,
   "metadata": {},
   "outputs": [],
   "source": [
    "def get_key_secret(key, secret):\n",
    "    return key, secret\n",
    "\n",
    "key_widget = widgets.Text(\n",
    "    description=\"Key\"\n",
    ")\n",
    "secret_widget = widgets.Text(\n",
    "    description=\"Secret\"\n",
    ")\n",
    "result = widgets.interactive(get_key_secret, key=key_widget, secret=secret_widget)\n",
    "display(result)"
   ]
  },
  {
   "cell_type": "code",
   "execution_count": null,
   "metadata": {},
   "outputs": [],
   "source": [
    "KEY = result.children[0].value\n",
    "SECRET = result.children[1].value\n",
    "print(\"Captured token and base URL.\")"
   ]
  },
  {
   "cell_type": "markdown",
   "metadata": {},
   "source": [
    "## Run the Schoology Extractor"
   ]
  },
  {
   "cell_type": "code",
   "execution_count": null,
   "metadata": {},
   "outputs": [],
   "source": [
    "from edfi_schoology_extractor.helpers.arg_parser import MainArguments as s_args\n",
    "from edfi_schoology_extractor import extract_facade\n",
    "\n",
    "arguments = s_args(\n",
    "    client_key=KEY,\n",
    "    client_secret=SECRET,\n",
    "    output_directory=OUTPUT_DIRECTORY,\n",
    "    log_level=LOG_LEVEL,\n",
    "    page_size=200,\n",
    "    input_directory=None,\n",
    "    sync_database_directory=SYNC_DATABASE_DIRECTORY,\n",
    "    extract_assignments=EXTRACT_ASSIGNMENTS,\n",
    "    extract_activities=EXTRACT_ACTIVITIES,\n",
    "    extract_attendance=EXTRACT_ATTENDANCE,\n",
    "    extract_grades=EXTRACT_GRADES,\n",
    ")\n",
    "\n",
    "extract_facade.run(arguments)"
   ]
  },
  {
   "cell_type": "markdown",
   "metadata": {},
   "source": [
    "## Run the Learning Management System Data Store Loader (LMS-DS-Loader)\n",
    "\n",
    "The default setup below uses Windows integrated security. For username/password security, please review the commented-out code."
   ]
  },
  {
   "cell_type": "code",
   "execution_count": null,
   "metadata": {},
   "outputs": [],
   "source": [
    "from edfi_lms_ds_loader.helpers.argparser import MainArguments as lms_args\n",
    "from edfi_lms_ds_loader import loader_facade\n",
    "\n",
    "arguments = lms_args(\n",
    "    OUTPUT_DIRECTORY,\n",
    "    DB_ENGINE,\n",
    "    LOG_LEVEL\n",
    ")\n",
    "arguments.set_connection_string_using_integrated_security(\n",
    "    DB_SERVER,\n",
    "    DB_PORT,\n",
    "    DB_NAME,\n",
    ")\n",
    "# For password auth, comment out the line above and uncomment this one:\n",
    "# arguments.set_connection_string(\n",
    "#     DB_SERVER,\n",
    "#     DB_PORT,\n",
    "#     DB_NAME,\n",
    "#     USERNAME,\n",
    "#     PASSWORD,\n",
    "# )\n",
    "\n",
    "loader_facade.run_loader(arguments)"
   ]
  }
 ],
 "metadata": {
  "kernelspec": {
   "display_name": "Python 3",
   "language": "python",
   "name": "python3"
  },
  "language_info": {
   "codemirror_mode": {
    "name": "ipython",
    "version": 3
   },
   "file_extension": ".py",
   "mimetype": "text/x-python",
   "name": "python",
   "nbconvert_exporter": "python",
   "pygments_lexer": "ipython3",
   "version": "3.9.4"
  },
  "metadata": {
   "interpreter": {
    "hash": "a96b0b913fd91a22b3595c406d18ae3dcd942740dffd5b27bdd6ca9a9da6c2ae"
   }
  }
 },
 "nbformat": 4,
 "nbformat_minor": 2
}
