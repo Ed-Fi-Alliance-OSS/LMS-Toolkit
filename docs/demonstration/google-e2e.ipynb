{
 "metadata": {
  "language_info": {
   "codemirror_mode": {
    "name": "ipython",
    "version": 3
   },
   "file_extension": ".py",
   "mimetype": "text/x-python",
   "name": "python",
   "nbconvert_exporter": "python",
   "pygments_lexer": "ipython3",
   "version": "3.9.4-final"
  },
  "orig_nbformat": 2,
  "kernelspec": {
   "name": "python394jvsc74a57bd0803ce852709fcb31d67db2297af7e5230d71be8a12e8b15cdc3f73d75305c975",
   "display_name": "Python 3.9.4 64-bit ('.venv')"
  },
  "metadata": {
   "interpreter": {
    "hash": "a96b0b913fd91a22b3595c406d18ae3dcd942740dffd5b27bdd6ca9a9da6c2ae"
   }
  }
 },
 "nbformat": 4,
 "nbformat_minor": 2,
 "cells": [
  {
   "source": [
    "# End-to-End Demonstration: Google Classroom\n",
    "\n",
    "*Goal*: run the Google Classroom Extractor and then upload the results into an `LMS` database.\n",
    "\n",
    "## Software Requirements\n",
    "\n",
    "1. Be sure to install Python 3.9; if you have multiple versions, make sure that the `python` command runs version 3.9.x. You can confirm your version by running `python --version` at a command prompt.\n",
    "1. Microsoft SQL Server 2017 or 2019, in Windows or Linux.\n",
    "\n",
    "## Getting Started\n",
    "\n",
    "1. Confirm you have [poetry](https://python-poetry.org) installed (`poetry --version`).\n",
    "1. Follow the [Google Classroom setup instructions](../google-classroom/README.md) in order to create a `service-account.json` file.\n",
    "1. Follow the [notebook instructions](README.md) to install dependencies used by this notebook.\n",
    "1. Create an `LMS` database in SQL Server."
   ],
   "cell_type": "markdown",
   "metadata": {}
  },
  {
   "cell_type": "code",
   "execution_count": 3,
   "metadata": {},
   "outputs": [],
   "source": [
    "# Load some utilities\n",
    "from IPython.display import display, Markdown\n",
    "\n",
    "# Setup logging\n",
    "import logging\n",
    "import sys\n",
    "\n",
    "logging.basicConfig(stream=sys.stdout, level=logging.INFO)"
   ]
  },
  {
   "source": [
    "## Prepare Input Data\n",
    "\n",
    "Update the variables in the next block as needed."
   ],
   "cell_type": "markdown",
   "metadata": {}
  },
  {
   "cell_type": "code",
   "execution_count": 4,
   "metadata": {},
   "outputs": [],
   "source": [
    "CLASSROOM_ACCOUNT = \"admin@ibamonitoring.org\"\n",
    "START_DATE = \"2020-08-17\"\n",
    "END_DATE = \"2021-05-23\"\n",
    "LOG_LEVEL = \"INFO\"\n",
    "OUTPUT_DIRECTORY = \"gc-data\"\n",
    "DB_ENGINE = \"mssql\"\n",
    "DB_SERVER = \"localhost\"\n",
    "DB_NAME = \"LMS\"\n",
    "DB_PORT = 1433"
   ]
  },
  {
   "source": [
    "## Run the Google Classroom Extractor"
   ],
   "cell_type": "markdown",
   "metadata": {}
  },
  {
   "cell_type": "code",
   "execution_count": 6,
   "metadata": {},
   "outputs": [
    {
     "output_type": "stream",
     "name": "stdout",
     "text": [
      "INFO:edfi_google_classroom_extractor.facade:Starting Ed-Fi LMS Google Classroom Extractor\n",
      "INFO:edfi_google_classroom_extractor.api.courses:Pulling course data\n",
      "INFO:edfi_google_classroom_extractor.api.usage:Pulling usage data\n",
      "ERROR:edfi_google_classroom_extractor.facade:An exception occurred while connecting to the API\n",
      "Traceback (most recent call last):\n",
      "  File \"c:\\source\\oss\\lms\\demonstration\\.venv\\lib\\site-packages\\edfi_google_classroom_extractor\\facade.py\", line 60, in request\n",
      "    return request_all(\n",
      "  File \"c:\\source\\oss\\lms\\demonstration\\.venv\\lib\\site-packages\\edfi_google_classroom_extractor\\request.py\", line 48, in request_all\n",
      "    request_all_usage_as_df(\n",
      "  File \"c:\\source\\oss\\lms\\demonstration\\.venv\\lib\\site-packages\\edfi_google_classroom_extractor\\api\\usage.py\", line 120, in request_all_usage_as_df\n",
      "    usage_df: DataFrame = request_latest_usage_as_df(\n",
      "  File \"c:\\source\\oss\\lms\\demonstration\\.venv\\lib\\site-packages\\edfi_google_classroom_extractor\\api\\usage.py\", line 72, in request_latest_usage_as_df\n",
      "    reports.extend(request_usage(resource, date.strftime(\"%Y-%m-%d\")))\n",
      "  File \"c:\\source\\oss\\lms\\demonstration\\.venv\\lib\\site-packages\\edfi_google_classroom_extractor\\api\\usage.py\", line 24, in request_usage\n",
      "    return call_api(\n",
      "  File \"c:\\source\\oss\\lms\\demonstration\\.venv\\lib\\site-packages\\edfi_google_classroom_extractor\\api\\api_caller.py\", line 130, in call_api\n",
      "    return _call_api_recursive(resource_method, resource_parameters, response_property, results)  # type: ignore\n",
      "  File \"c:\\source\\oss\\lms\\demonstration\\.venv\\lib\\site-packages\\tail_recursive\\__init__.py\", line 352, in __call__\n",
      "    return self.tail_call(*args, **kwargs)._resolve()\n",
      "  File \"c:\\source\\oss\\lms\\demonstration\\.venv\\lib\\site-packages\\tail_recursive\\__init__.py\", line 308, in _resolve\n",
      "    resolution = tail_call_stack.pop_item_resolution()\n",
      "  File \"c:\\source\\oss\\lms\\demonstration\\.venv\\lib\\site-packages\\tail_recursive\\__init__.py\", line 234, in pop_item_resolution\n",
      "    return tail_call_with_fully_resolved_args_and_kwargs._func(\n",
      "  File \"c:\\source\\oss\\lms\\demonstration\\.venv\\lib\\site-packages\\edfi_google_classroom_extractor\\api\\api_caller.py\", line 85, in _call_api_recursive\n",
      "    response = _execute(resource_method(**resource_parameters))\n",
      "  File \"c:\\source\\oss\\lms\\demonstration\\.venv\\lib\\site-packages\\opnieuw\\retries.py\", line 239, in wrapper\n",
      "    raise last_exception\n",
      "  File \"c:\\source\\oss\\lms\\demonstration\\.venv\\lib\\site-packages\\opnieuw\\retries.py\", line 221, in wrapper\n",
      "    return f(*args, **kwargs)\n",
      "  File \"c:\\source\\oss\\lms\\demonstration\\.venv\\lib\\site-packages\\edfi_google_classroom_extractor\\api\\api_caller.py\", line 54, in _execute\n",
      "    return executable_resource.execute()\n",
      "  File \"c:\\source\\oss\\lms\\demonstration\\.venv\\lib\\site-packages\\googleapiclient\\_helpers.py\", line 134, in positional_wrapper\n",
      "    return wrapped(*args, **kwargs)\n",
      "  File \"c:\\source\\oss\\lms\\demonstration\\.venv\\lib\\site-packages\\googleapiclient\\http.py\", line 915, in execute\n",
      "    raise HttpError(resp, content, uri=self.uri)\n",
      "googleapiclient.errors.HttpError: <HttpError 400 when requesting https://admin.googleapis.com/admin/reports/v1/usage/users/all/dates/2021-04-20?parameters=classroom%3Atimestamp_last_interaction%2Cclassroom%3Anum_posts_created%2Caccounts%3Atimestamp_last_login&alt=json returned \"Start date can not be later than 2021-04-19\". Details: \"Start date can not be later than 2021-04-19\">\n"
     ]
    }
   ],
   "source": [
    "from edfi_google_classroom_extractor.helpers.arg_parser import MainArguments as gc_args\n",
    "from edfi_google_classroom_extractor import facade\n",
    "\n",
    "arguments = gc_args(\n",
    "    CLASSROOM_ACCOUNT,\n",
    "    LOG_LEVEL,\n",
    "    OUTPUT_DIRECTORY,\n",
    "    START_DATE,\n",
    "    END_DATE\n",
    ")\n",
    "\n",
    "facade.run(arguments)"
   ]
  },
  {
   "source": [
    "## Run the Learning Management System Data Store Loader (LMS-DS-Loader)\n",
    "\n",
    "The default setup below uses Windows integrated security. For username/password security, please review the commented-out code."
   ],
   "cell_type": "markdown",
   "metadata": {}
  },
  {
   "cell_type": "code",
   "execution_count": 6,
   "metadata": {},
   "outputs": [
    {
     "output_type": "stream",
     "name": "stdout",
     "text": [
      "INFO:edfi_lms_ds_loader.loader_facade:Begin loading files into the LMS Data Store (DS)...\n",
      "INFO:edfi_lms_ds_loader.migrator:Begin database auto-migration...\n",
      "INFO:edfi_lms_ds_loader.migrator:Done with database auto-migration.\n",
      "INFO:edfi_lms_ds_loader.loader_facade:No sections loaded. Skipping assignments.\n",
      "INFO:edfi_lms_ds_loader.loader_facade:No assignments loaded. Skipping assignment submissions.\n",
      "INFO:edfi_lms_ds_loader.loader_facade:No sections loaded. Skipping section associations.\n",
      "INFO:edfi_lms_ds_loader.loader_facade:No sections loaded. Skipping section associations.\n",
      "INFO:edfi_lms_ds_loader.loader_facade:No sections loaded. Skipping section associations.\n",
      "INFO:edfi_lms_ds_loader.loader_facade:Done loading files into the LMS Data Store.\n"
     ]
    }
   ],
   "source": [
    "from edfi_lms_ds_loader.helpers.argparser import MainArguments as lms_args\n",
    "from edfi_lms_ds_loader import loader_facade\n",
    "\n",
    "arguments = lms_args(\n",
    "    OUTPUT_DIRECTORY,\n",
    "    DB_ENGINE,\n",
    "    LOG_LEVEL\n",
    ")\n",
    "arguments.set_connection_string_using_integrated_security(\n",
    "    DB_SERVER,\n",
    "    DB_PORT,\n",
    "    DB_NAME,\n",
    ")\n",
    "# For password auth, comment out the line above and uncomment this one:\n",
    "# arguments.set_connection_string(\n",
    "#     DB_SERVER,\n",
    "#     DB_PORT,\n",
    "#     DB_NAME,\n",
    "#     USERNAME,\n",
    "#     PASSWORD,\n",
    "# )\n",
    "\n",
    "loader_facade.run_loader(arguments)"
   ]
  }
 ]
}