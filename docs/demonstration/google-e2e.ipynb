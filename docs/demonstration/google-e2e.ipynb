{
 "cells": [
  {
   "cell_type": "markdown",
   "metadata": {},
   "source": [
    "# End-to-End Demonstration: Google Classroom\n",
    "\n",
    "*Goal*: run the Google Classroom Extractor and then upload the results into an `LMS` database.\n",
    "\n",
    "## Software Requirements\n",
    "\n",
    "1. Be sure to install Python 3.9; if you have multiple versions, make sure that the `python` command runs version 3.9.x. You can confirm your version by running `python --version` at a command prompt.\n",
    "1. Microsoft SQL Server 2017 or 2019, in Windows or Linux.\n",
    "\n",
    "## Getting Started\n",
    "\n",
    "1. Confirm you have [poetry](https://python-poetry.org) installed (`poetry --version`).\n",
    "1. Follow the [Google Classroom setup instructions](../google-classroom/README.md) in order to create a `service-account.json` file.\n",
    "1. Follow the [notebook instructions](README.md) to install dependencies used by this notebook.\n",
    "1. Create an `LMS` database in SQL Server."
   ]
  },
  {
   "cell_type": "code",
   "execution_count": 1,
   "metadata": {},
   "outputs": [],
   "source": [
    "# Load some utilities\n",
    "from IPython.display import display, Markdown\n",
    "\n",
    "# Setup logging\n",
    "import logging\n",
    "import sys\n",
    "\n",
    "logging.basicConfig(stream=sys.stdout, level=logging.INFO)"
   ]
  },
  {
   "cell_type": "markdown",
   "metadata": {},
   "source": [
    "## Prepare Input Data\n",
    "\n",
    "Update the variables in the next block as needed."
   ]
  },
  {
   "cell_type": "code",
   "execution_count": 2,
   "metadata": {},
   "outputs": [],
   "source": [
    "CLASSROOM_ACCOUNT = \"admin@ibamonitoring.org\"\n",
    "START_DATE = \"2020-08-17\"\n",
    "END_DATE = \"2021-05-23\"\n",
    "LOG_LEVEL = \"INFO\"\n",
    "OUTPUT_DIRECTORY = \"gc-data\"\n",
    "SYNC_DATABASE_DIRECTORY=OUTPUT_DIRECTORY\n",
    "DB_ENGINE = \"mssql\"\n",
    "DB_SERVER = \"localhost\"\n",
    "DB_NAME = \"LMS\"\n",
    "DB_PORT = 1433\n",
    "EXTRACT_ASSIGNMENTS = True\n",
    "EXTRACT_ACTIVITIES = False\n",
    "EXTRACT_ATTENDANCE = False\n",
    "EXTRACT_GRADES = False"
   ]
  },
  {
   "cell_type": "markdown",
   "metadata": {},
   "source": [
    "## Run the Google Classroom Extractor"
   ]
  },
  {
   "cell_type": "code",
   "execution_count": 3,
   "metadata": {},
   "outputs": [
    {
     "name": "stdout",
     "output_type": "stream",
     "text": [
      "INFO:edfi_google_classroom_extractor.facade:Starting Ed-Fi LMS Google Classroom Extractor\n",
      "INFO:edfi_google_classroom_extractor.api.courses:Pulling course data\n",
      "INFO:edfi_google_classroom_extractor.facade:Writing LMS UDM Sections to CSV file\n",
      "INFO:edfi_lms_extractor_lib.csv_generation.write:Generated file => gc-data\\sections\\2021-09-03-16-39-48.csv\n",
      "INFO:edfi_google_classroom_extractor.api.students:Pulling student data\n",
      "INFO:edfi_google_classroom_extractor.api.teachers:Pulling teacher data\n",
      "INFO:edfi_google_classroom_extractor.facade:Writing LMS UDM Users to CSV file\n",
      "INFO:edfi_lms_extractor_lib.csv_generation.write:Generated file => gc-data\\users\\2021-09-03-16-39-48.csv\n",
      "INFO:edfi_google_classroom_extractor.facade:Writing LMS UDM UserSectionAssociations to CSV files\n",
      "INFO:edfi_lms_extractor_lib.csv_generation.write:Generated file => gc-data\\section=126946994497\\section-associations\\2021-09-03-16-39-48.csv\n",
      "INFO:edfi_lms_extractor_lib.csv_generation.write:Generated file => gc-data\\section=127236763887\\section-associations\\2021-09-03-16-39-48.csv\n",
      "INFO:edfi_lms_extractor_lib.csv_generation.write:Generated file => gc-data\\section=127238202206\\section-associations\\2021-09-03-16-39-48.csv\n",
      "INFO:edfi_lms_extractor_lib.csv_generation.write:Generated file => gc-data\\section=231254077972\\section-associations\\2021-09-03-16-39-48.csv\n",
      "INFO:edfi_lms_extractor_lib.csv_generation.write:Generated file => gc-data\\section=231298987450\\section-associations\\2021-09-03-16-39-48.csv\n",
      "INFO:edfi_lms_extractor_lib.csv_generation.write:Generated file => gc-data\\section=231310684477\\section-associations\\2021-09-03-16-39-48.csv\n",
      "INFO:edfi_lms_extractor_lib.csv_generation.write:Generated file => gc-data\\section=231328256332\\section-associations\\2021-09-03-16-39-48.csv\n",
      "INFO:edfi_lms_extractor_lib.csv_generation.write:Generated file => gc-data\\section=374007729023\\section-associations\\2021-09-03-16-39-48.csv\n",
      "INFO:edfi_google_classroom_extractor.facade:Writing LMS UDM Assignments to CSV files\n",
      "INFO:edfi_google_classroom_extractor.api.coursework:Pulling coursework data\n",
      "INFO:edfi_lms_extractor_lib.csv_generation.write:Generated file => gc-data\\section=127236763887\\assignments\\2021-09-03-16-39-48.csv\n",
      "INFO:edfi_lms_extractor_lib.csv_generation.write:Generated file => gc-data\\section=127238202206\\assignments\\2021-09-03-16-39-48.csv\n",
      "INFO:edfi_lms_extractor_lib.csv_generation.write:Generated file => gc-data\\section=374007729023\\assignments\\2021-09-03-16-39-48.csv\n",
      "INFO:edfi_lms_extractor_lib.csv_generation.write:Generated file => gc-data\\section=231328256332\\assignments\\2021-09-03-16-39-48.csv\n",
      "INFO:edfi_lms_extractor_lib.csv_generation.write:Generated file => gc-data\\section=231310684477\\assignments\\2021-09-03-16-39-48.csv\n",
      "INFO:edfi_lms_extractor_lib.csv_generation.write:Generated file => gc-data\\section=231298987450\\assignments\\2021-09-03-16-39-48.csv\n",
      "INFO:edfi_lms_extractor_lib.csv_generation.write:Generated file => gc-data\\section=231254077972\\assignments\\2021-09-03-16-39-48.csv\n",
      "INFO:edfi_lms_extractor_lib.csv_generation.write:Generated file => gc-data\\section=126946994497\\assignments\\2021-09-03-16-39-48.csv\n",
      "INFO:edfi_google_classroom_extractor.facade:Writing LMS UDM AssignmentSubmissions to CSV files\n",
      "INFO:edfi_google_classroom_extractor.api.submissions:Pulling student submission data\n",
      "INFO:edfi_lms_extractor_lib.csv_generation.write:Generated file => gc-data\\section=127236763887\\assignment=127236763887-127248343283\\submissions\\2021-09-03-16-39-48.csv\n",
      "INFO:edfi_lms_extractor_lib.csv_generation.write:Generated file => gc-data\\section=127236763887\\assignment=127236763887-127670271048\\submissions\\2021-09-03-16-39-48.csv\n",
      "INFO:edfi_lms_extractor_lib.csv_generation.write:Generated file => gc-data\\section=127236763887\\assignment=127236763887-139464559850\\submissions\\2021-09-03-16-39-48.csv\n",
      "INFO:edfi_lms_extractor_lib.csv_generation.write:Generated file => gc-data\\section=127238202206\\assignment=127238202206-127245097607\\submissions\\2021-09-03-16-39-48.csv\n",
      "INFO:edfi_lms_extractor_lib.csv_generation.write:Generated file => gc-data\\section=127238202206\\assignment=127238202206-127670231850\\submissions\\2021-09-03-16-39-48.csv\n",
      "INFO:edfi_lms_extractor_lib.csv_generation.write:Generated file => gc-data\\section=127238202206\\assignment=127238202206-365888960948\\submissions\\2021-09-03-16-39-48.csv\n",
      "INFO:edfi_lms_extractor_lib.csv_generation.write:Generated file => gc-data\\section=127238202206\\assignment=127238202206-387113617427\\submissions\\2021-09-03-16-39-48.csv\n",
      "INFO:edfi_google_classroom_extractor.facade:Finishing Ed-Fi LMS Google Classroom Extractor\n"
     ]
    }
   ],
   "source": [
    "from edfi_google_classroom_extractor.helpers.arg_parser import MainArguments as gc_args\n",
    "from edfi_google_classroom_extractor import facade\n",
    "\n",
    "arguments = gc_args(\n",
    "    classroom_account=CLASSROOM_ACCOUNT,\n",
    "    log_level=LOG_LEVEL,\n",
    "    output_directory=OUTPUT_DIRECTORY,\n",
    "    usage_start_date=START_DATE,\n",
    "    usage_end_date=END_DATE,\n",
    "    sync_database_directory=SYNC_DATABASE_DIRECTORY,\n",
    "    extract_assignments=EXTRACT_ASSIGNMENTS,\n",
    "    extract_activities=EXTRACT_ACTIVITIES,\n",
    "    extract_attendance=EXTRACT_ATTENDANCE,\n",
    "    extract_grades=EXTRACT_GRADES,\n",
    ")\n",
    "\n",
    "facade.run(arguments)"
   ]
  },
  {
   "cell_type": "markdown",
   "metadata": {},
   "source": [
    "## Run the Learning Management System Data Store Loader (LMS-DS-Loader)\n",
    "\n",
    "The default setup below uses Windows integrated security. For username/password security, please review the commented-out code."
   ]
  },
  {
   "cell_type": "code",
   "execution_count": 5,
   "metadata": {},
   "outputs": [
    {
     "name": "stdout",
     "output_type": "stream",
     "text": [
      "INFO:edfi_lms_ds_loader.loader_facade:Begin loading files into the LMS Data Store (DS)...\n",
      "INFO:edfi_lms_ds_loader.migrator:Begin database auto-migration...\n",
      "INFO:edfi_sql_adapter.sql_adapter:Updating migration journal table\n",
      "INFO:edfi_sql_adapter.sql_adapter:Updating migration journal table\n",
      "INFO:edfi_sql_adapter.sql_adapter:Updating migration journal table\n",
      "INFO:edfi_sql_adapter.sql_adapter:Updating migration journal table\n",
      "INFO:edfi_sql_adapter.sql_adapter:Updating migration journal table\n",
      "INFO:edfi_sql_adapter.sql_adapter:Updating migration journal table\n",
      "INFO:edfi_sql_adapter.sql_adapter:Updating migration journal table\n",
      "INFO:edfi_sql_adapter.sql_adapter:Updating migration journal table\n",
      "INFO:edfi_sql_adapter.sql_adapter:Updating migration journal table\n",
      "INFO:edfi_sql_adapter.sql_adapter:Updating migration journal table\n",
      "INFO:edfi_sql_adapter.sql_adapter:Updating migration journal table\n",
      "INFO:edfi_sql_adapter.sql_adapter:Updating migration journal table\n",
      "INFO:edfi_lms_ds_loader.migrator:Done with database auto-migration.\n",
      "INFO:edfi_lms_ds_loader.df_to_db:Uploading LMSUser file ...\n",
      "INFO:edfi_lms_ds_loader.df_to_db:Done with LMSUser file.\n",
      "INFO:edfi_lms_ds_loader.df_to_db:Uploading LMSSection file ...\n",
      "INFO:edfi_lms_ds_loader.df_to_db:Done with LMSSection file.\n",
      "INFO:edfi_lms_ds_loader.df_to_db:Uploading LMSUserLMSSectionAssociation file ...\n",
      "INFO:edfi_lms_ds_loader.df_to_db:Done with LMSUserLMSSectionAssociation file.\n",
      "INFO:edfi_lms_ds_loader.df_to_db:Uploading LMSUserLMSSectionAssociation file ...\n",
      "INFO:edfi_lms_ds_loader.df_to_db:Done with LMSUserLMSSectionAssociation file.\n",
      "INFO:edfi_lms_ds_loader.df_to_db:Uploading LMSUserLMSSectionAssociation file ...\n",
      "INFO:edfi_lms_ds_loader.df_to_db:Done with LMSUserLMSSectionAssociation file.\n",
      "INFO:edfi_lms_ds_loader.df_to_db:Uploading LMSUserLMSSectionAssociation file ...\n",
      "INFO:edfi_lms_ds_loader.df_to_db:Done with LMSUserLMSSectionAssociation file.\n",
      "INFO:edfi_lms_ds_loader.df_to_db:Uploading LMSUserLMSSectionAssociation file ...\n",
      "INFO:edfi_lms_ds_loader.df_to_db:Done with LMSUserLMSSectionAssociation file.\n",
      "INFO:edfi_lms_ds_loader.df_to_db:Uploading LMSUserLMSSectionAssociation file ...\n",
      "INFO:edfi_lms_ds_loader.df_to_db:Done with LMSUserLMSSectionAssociation file.\n",
      "INFO:edfi_lms_ds_loader.df_to_db:Uploading LMSUserLMSSectionAssociation file ...\n",
      "INFO:edfi_lms_ds_loader.df_to_db:Done with LMSUserLMSSectionAssociation file.\n",
      "INFO:edfi_lms_ds_loader.df_to_db:Uploading LMSUserLMSSectionAssociation file ...\n",
      "INFO:edfi_lms_ds_loader.df_to_db:Done with LMSUserLMSSectionAssociation file.\n",
      "INFO:edfi_lms_ds_loader.df_to_db:Uploading Assignment file ...\n",
      "INFO:edfi_lms_ds_loader.df_to_db:Done with Assignment file.\n",
      "INFO:edfi_lms_ds_loader.df_to_db:Uploading AssignmentSubmissionType file ...\n",
      "INFO:edfi_lms_ds_loader.df_to_db:Done with AssignmentSubmissionType file.\n",
      "INFO:edfi_lms_ds_loader.df_to_db:Uploading Assignment file ...\n",
      "INFO:edfi_lms_ds_loader.df_to_db:Done with Assignment file.\n",
      "INFO:edfi_lms_ds_loader.df_to_db:Uploading AssignmentSubmissionType file ...\n",
      "INFO:edfi_lms_ds_loader.df_to_db:Done with AssignmentSubmissionType file.\n",
      "INFO:edfi_lms_ds_loader.df_to_db:Uploading AssignmentSubmission file ...\n",
      "INFO:edfi_lms_ds_loader.df_to_db:Done with AssignmentSubmission file.\n",
      "INFO:edfi_lms_ds_loader.df_to_db:Uploading AssignmentSubmission file ...\n",
      "INFO:edfi_lms_ds_loader.df_to_db:Done with AssignmentSubmission file.\n",
      "INFO:edfi_lms_ds_loader.df_to_db:Uploading AssignmentSubmission file ...\n",
      "INFO:edfi_lms_ds_loader.df_to_db:Done with AssignmentSubmission file.\n",
      "INFO:edfi_lms_ds_loader.df_to_db:Uploading AssignmentSubmission file ...\n",
      "INFO:edfi_lms_ds_loader.df_to_db:Done with AssignmentSubmission file.\n",
      "INFO:edfi_lms_ds_loader.df_to_db:Uploading AssignmentSubmission file ...\n",
      "INFO:edfi_lms_ds_loader.df_to_db:Done with AssignmentSubmission file.\n",
      "INFO:edfi_lms_ds_loader.df_to_db:Uploading AssignmentSubmission file ...\n",
      "INFO:edfi_lms_ds_loader.df_to_db:Done with AssignmentSubmission file.\n",
      "INFO:edfi_lms_ds_loader.df_to_db:Uploading AssignmentSubmission file ...\n",
      "INFO:edfi_lms_ds_loader.df_to_db:Done with AssignmentSubmission file.\n",
      "INFO:edfi_lms_ds_loader.loader_facade:Done loading files into the LMS Data Store.\n"
     ]
    }
   ],
   "source": [
    "from edfi_lms_ds_loader.helpers.argparser import MainArguments as lms_args\n",
    "from edfi_lms_ds_loader import loader_facade\n",
    "\n",
    "arguments = lms_args(\n",
    "    OUTPUT_DIRECTORY,\n",
    "    DB_ENGINE,\n",
    "    LOG_LEVEL,\n",
    "    DB_SERVER,\n",
    "    DB_NAME,\n",
    "    DB_PORT,\n",
    ")\n",
    "arguments.build_mssql_adapter_with_integrated_security()\n",
    "\n",
    "# For password auth, comment out the lines above and uncomment the next ones:\n",
    "# arguments = lms_args(\n",
    "#     OUTPUT_DIRECTORY,\n",
    "#     DB_ENGINE,\n",
    "#     LOG_LEVEL,\n",
    "#     DB_SERVER,\n",
    "#     DB_PORT,\n",
    "#     DB_NAME,\n",
    "# )\n",
    "# arguments.build_mssql_adapter(your_db_user, your_db_password)\n",
    "\n",
    "loader_facade.run_loader(arguments)"
   ]
  },
  {
   "cell_type": "code",
   "execution_count": null,
   "metadata": {},
   "outputs": [],
   "source": []
  }
 ],
 "metadata": {
  "kernelspec": {
   "display_name": "Python 3",
   "language": "python",
   "name": "python3"
  },
  "language_info": {
   "codemirror_mode": {
    "name": "ipython",
    "version": 3
   },
   "file_extension": ".py",
   "mimetype": "text/x-python",
   "name": "python",
   "nbconvert_exporter": "python",
   "pygments_lexer": "ipython3",
   "version": "3.9.4"
  },
  "metadata": {
   "interpreter": {
    "hash": "a96b0b913fd91a22b3595c406d18ae3dcd942740dffd5b27bdd6ca9a9da6c2ae"
   }
  }
 },
 "nbformat": 4,
 "nbformat_minor": 2
}
