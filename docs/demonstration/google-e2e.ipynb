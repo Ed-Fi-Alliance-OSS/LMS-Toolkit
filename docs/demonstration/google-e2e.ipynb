{
 "cells": [
  {
   "cell_type": "markdown",
   "metadata": {},
   "source": [
    "# End-to-End Demonstration: Google Classroom\n",
    "\n",
    "*Goal*: run the Google Classroom Extractor and then upload the results into an `LMS` database.\n",
    "\n",
    "## Software Requirements\n",
    "\n",
    "1. Be sure to install Python 3.9; if you have multiple versions, make sure that the `python` command runs version 3.9.x. You can confirm your version by running `python --version` at a command prompt.\n",
    "1. Microsoft SQL Server 2017 or 2019, in Windows or Linux.\n",
    "\n",
    "## Getting Started\n",
    "\n",
    "1. Confirm you have [poetry](https://python-poetry.org) installed (`poetry --version`).\n",
    "1. Follow the [Google Classroom setup instructions](../google-classroom/README.md) in order to create a `service-account.json` file.\n",
    "1. Follow the [notebook instructions](README.md) to install dependencies used by this notebook.\n",
    "1. Create an `LMS` database in SQL Server."
   ]
  },
  {
   "cell_type": "code",
   "execution_count": 1,
   "metadata": {},
   "outputs": [],
   "source": [
    "# Load some utilities\n",
    "from IPython.display import display, Markdown\n",
    "\n",
    "# Setup logging\n",
    "import logging\n",
    "import sys\n",
    "\n",
    "logging.basicConfig(stream=sys.stdout, level=logging.INFO)"
   ]
  },
  {
   "cell_type": "markdown",
   "metadata": {},
   "source": [
    "## Prepare Input Data\n",
    "\n",
    "Update the variables in the next block as needed."
   ]
  },
  {
   "cell_type": "code",
   "execution_count": 2,
   "metadata": {},
   "outputs": [],
   "source": [
    "CLASSROOM_ACCOUNT = \"admin@ibamonitoring.org\"\n",
    "START_DATE = \"2020-08-17\"\n",
    "END_DATE = \"2021-05-23\"\n",
    "LOG_LEVEL = \"INFO\"\n",
    "OUTPUT_DIRECTORY = \"gc-data\"\n",
    "SYNC_DATABASE_DIRECTORY=OUTPUT_DIRECTORY\n",
    "DB_ENGINE = \"mssql\"\n",
    "DB_SERVER = \"localhost\"\n",
    "DB_NAME = \"LMS\"\n",
    "DB_PORT = 1433"
   ]
  },
  {
   "cell_type": "markdown",
   "metadata": {},
   "source": [
    "## Run the Google Classroom Extractor"
   ]
  },
  {
   "cell_type": "code",
   "execution_count": 3,
   "metadata": {},
   "outputs": [
    {
     "name": "stdout",
     "output_type": "stream",
     "text": [
      "INFO:edfi_google_classroom_extractor.facade:Starting Ed-Fi LMS Google Classroom Extractor\n",
      "INFO:edfi_google_classroom_extractor.api.courses:Pulling course data\n",
      "INFO:edfi_google_classroom_extractor.api.usage:Pulling usage data\n",
      "... remaining messages have been cleared to keep this notebook from being too large\n"
     ]
    }
   ],
   "source": [
    "from edfi_google_classroom_extractor.helpers.arg_parser import MainArguments as gc_args\n",
    "from edfi_google_classroom_extractor import facade\n",
    "\n",
    "arguments = gc_args(\n",
    "    CLASSROOM_ACCOUNT,\n",
    "    LOG_LEVEL,\n",
    "    OUTPUT_DIRECTORY,\n",
    "    START_DATE,\n",
    "    END_DATE,\n",
    "    sync_database_directory=SYNC_DATABASE_DIRECTORY\n",
    ")\n",
    "\n",
    "facade.run(arguments)"
   ]
  },
  {
   "cell_type": "markdown",
   "metadata": {},
   "source": [
    "## Run the Learning Management System Data Store Loader (LMS-DS-Loader)\n",
    "\n",
    "The default setup below uses Windows integrated security. For username/password security, please review the commented-out code."
   ]
  },
  {
   "cell_type": "code",
   "execution_count": 6,
   "metadata": {},
   "outputs": [
    {
     "name": "stdout",
     "output_type": "stream",
     "text": [
      "INFO:edfi_lms_ds_loader.loader_facade:Begin loading files into the LMS Data Store (DS)...\n",
      "INFO:edfi_lms_ds_loader.migrator:Begin database auto-migration...\n",
      "INFO:edfi_lms_ds_loader.migrator:Done with database auto-migration.\n",
      "INFO:edfi_lms_ds_loader.loader_facade:No sections loaded. Skipping assignments.\n",
      "INFO:edfi_lms_ds_loader.loader_facade:No assignments loaded. Skipping assignment submissions.\n",
      "INFO:edfi_lms_ds_loader.loader_facade:No sections loaded. Skipping section associations.\n",
      "INFO:edfi_lms_ds_loader.loader_facade:No sections loaded. Skipping section associations.\n",
      "INFO:edfi_lms_ds_loader.loader_facade:No sections loaded. Skipping section associations.\n",
      "INFO:edfi_lms_ds_loader.loader_facade:Done loading files into the LMS Data Store.\n"
     ]
    }
   ],
   "source": [
    "from edfi_lms_ds_loader.helpers.argparser import MainArguments as lms_args\n",
    "from edfi_lms_ds_loader import loader_facade\n",
    "\n",
    "arguments = lms_args(\n",
    "    OUTPUT_DIRECTORY,\n",
    "    DB_ENGINE,\n",
    "    LOG_LEVEL\n",
    ")\n",
    "arguments.set_connection_string_using_integrated_security(\n",
    "    DB_SERVER,\n",
    "    DB_PORT,\n",
    "    DB_NAME,\n",
    ")\n",
    "# For password auth, comment out the line above and uncomment this one:\n",
    "# arguments.set_connection_string(\n",
    "#     DB_SERVER,\n",
    "#     DB_PORT,\n",
    "#     DB_NAME,\n",
    "#     USERNAME,\n",
    "#     PASSWORD,\n",
    "# )\n",
    "\n",
    "loader_facade.run_loader(arguments)"
   ]
  }
 ],
 "metadata": {
  "kernelspec": {
   "display_name": "Python 3",
   "language": "python",
   "name": "python3"
  },
  "language_info": {
   "codemirror_mode": {
    "name": "ipython",
    "version": 3
   },
   "file_extension": ".py",
   "mimetype": "text/x-python",
   "name": "python",
   "nbconvert_exporter": "python",
   "pygments_lexer": "ipython3",
   "version": "3.9.4"
  },
  "metadata": {
   "interpreter": {
    "hash": "a96b0b913fd91a22b3595c406d18ae3dcd942740dffd5b27bdd6ca9a9da6c2ae"
   }
  }
 },
 "nbformat": 4,
 "nbformat_minor": 2
}
