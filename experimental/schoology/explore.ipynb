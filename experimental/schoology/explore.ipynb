{
 "metadata": {
  "language_info": {
   "codemirror_mode": {
    "name": "ipython",
    "version": 3
   },
   "file_extension": ".py",
   "mimetype": "text/x-python",
   "name": "python",
   "nbconvert_exporter": "python",
   "pygments_lexer": "ipython3",
   "version": "3.8.5-final"
  },
  "orig_nbformat": 2,
  "kernelspec": {
   "name": "python_defaultSpec_1598628092232",
   "display_name": "Python 3.8.5 64-bit ('schoology-Nh2XWbVc': venv)"
  }
 },
 "nbformat": 4,
 "nbformat_minor": 2,
 "cells": [
  {
   "cell_type": "markdown",
   "metadata": {},
   "source": [
    "# Schoology API Exploration\n",
    "\n",
    "Pull in settings from .env file."
   ]
  },
  {
   "cell_type": "code",
   "execution_count": 5,
   "metadata": {},
   "outputs": [],
   "source": [
    "from dotenv import load_dotenv\n",
    "load_dotenv()\n",
    "\n",
    "API_KEY = os.getenv(\"SCHOOLOGY_KEY\")\n",
    "API_SECRET = os.getenv(\"SCHOOLOGY_SECRET\")"
   ]
  },
  {
   "cell_type": "markdown",
   "metadata": {},
   "source": [
    "Establish connection to the API"
   ]
  },
  {
   "cell_type": "code",
   "execution_count": 6,
   "metadata": {
    "tags": []
   },
   "outputs": [
    {
     "output_type": "stream",
     "name": "stdout",
     "text": "<schoolopy.main.Schoology object at 0x00000164F79B60D0>\n"
    }
   ],
   "source": [
    "import schoolopy\n",
    "from prettyprinter import pprint\n",
    "\n",
    "sc = schoolopy.Schoology(schoolopy.Auth(API_KEY, API_SECRET))\n",
    "pprint(sc)"
   ]
  },
  {
   "cell_type": "markdown",
   "metadata": {},
   "source": [
    "Pull in a list of courses"
   ]
  },
  {
   "cell_type": "code",
   "execution_count": 7,
   "metadata": {
    "tags": []
   },
   "outputs": [
    {
     "output_type": "stream",
     "name": "stdout",
     "text": "[\n    schoolopy.models.Course({\n        'id': 2941242684,\n        'title': 'English I',\n        'course_code': 'ENG-1',\n        'department': '',\n        'description': '',\n        'credits': 0,\n        'subject_area': 2,\n        'grade_level_range_start': 11,\n        'grade_level_range_end': 0,\n        'synced': 0\n    })\n]\n"
    }
   ],
   "source": [
    "courses = sc.get_courses()\n",
    "\n",
    "pprint(courses)"
   ]
  },
  {
   "cell_type": "markdown",
   "metadata": {},
   "source": [
    "Now pull in a list of all users"
   ]
  },
  {
   "cell_type": "code",
   "execution_count": 10,
   "metadata": {
    "tags": []
   },
   "outputs": [
    {
     "output_type": "stream",
     "name": "stdout",
     "text": "[\n    {'Banister', 'Brad', 99785799},\n    {99588912, 'Fuqua', 'Stephen'},\n    {99785801, 'Gabrielle'},\n    {99515016, 'Eric', 'Jansson'},\n    {'Luis', 'Richmond Guzmán', 99785803}\n]\n"
    }
   ],
   "source": [
    "users = sc.get_users()\n",
    "pprint([{u.id, u.name_first, u.name_last} for u in users])"
   ]
  },
  {
   "cell_type": "code",
   "execution_count": null,
   "metadata": {},
   "outputs": [],
   "source": []
  }
 ]
}