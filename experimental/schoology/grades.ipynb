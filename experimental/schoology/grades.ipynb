{
 "metadata": {
  "language_info": {
   "codemirror_mode": {
    "name": "ipython",
    "version": 3
   },
   "file_extension": ".py",
   "mimetype": "text/x-python",
   "name": "python",
   "nbconvert_exporter": "python",
   "pygments_lexer": "ipython3",
   "version": "3.8.5-final"
  },
  "orig_nbformat": 2,
  "kernelspec": {
   "name": "Python 3.8.5 64-bit ('.venv')",
   "display_name": "Python 3.8.5 64-bit ('.venv')",
   "metadata": {
    "interpreter": {
     "hash": "2e6a1c21316f4724e738ae14e1726bfc177718ab4ab904857c00e3d3ff9bb4af"
    }
   }
  }
 },
 "nbformat": 4,
 "nbformat_minor": 2,
 "cells": [
  {
   "cell_type": "markdown",
   "metadata": {},
   "source": [
    "# Schoology Grades Investigation\n",
    "\n",
    "The output from the following request is saved in `grades.json`. The cell below loads this file into object `raw_grades`.\n",
    "\n",
    "```none\n",
    "GET /v1/users/100032898/grades HTTP/1.1\n",
    "Host: api.schoology.com\n",
    "```"
   ]
  },
  {
   "cell_type": "code",
   "execution_count": 20,
   "metadata": {},
   "outputs": [],
   "source": [
    "file = \"grades.json\"\n",
    "raw_grades = dict()\n",
    "\n",
    "with open(file,) as f:\n",
    "    raw_grades = json.load(f)"
   ]
  },
  {
   "source": [
    "The following screenshots were captured at the same time as the payload above, showing fictional student Mary Archer's grades in two sections: Algebra-I and English.\n",
    "\n",
    "**Mary Archer's Algebra-I grades**\n",
    "\n",
    "![Mary Archer's Algebra grades](mary-archer-grades-algebra.jpg)\n",
    "\n",
    "**Mary Archer's English grades**\n",
    "\n",
    "![Mary Archer's English grades](mary-archer-grades-english.jpg)\n",
    "\n",
    "Now let's parse the payload from JSON into Python and see if we can find those interim and final grades."
   ],
   "cell_type": "markdown",
   "metadata": {}
  },
  {
   "cell_type": "code",
   "execution_count": 17,
   "metadata": {},
   "outputs": [
    {
     "output_type": "display_data",
     "data": {
      "text/plain": "<IPython.core.display.Markdown object>",
      "text/markdown": "## Section 2941242697"
     },
     "metadata": {}
    },
    {
     "output_type": "display_data",
     "data": {
      "text/plain": "<IPython.core.display.Markdown object>",
      "text/markdown": "### Period: p822639"
     },
     "metadata": {}
    },
    {
     "output_type": "display_data",
     "data": {
      "text/plain": "{'period_id': 'p822639',\n 'grade': 1,\n 'weight': 100,\n 'comment': '',\n 'scale_id': 0,\n 'grading_category': [{'category_id': 38619916, 'grade': 1}]}"
     },
     "metadata": {}
    },
    {
     "output_type": "display_data",
     "data": {
      "text/plain": "<IPython.core.display.Markdown object>",
      "text/markdown": "### Period: final"
     },
     "metadata": {}
    },
    {
     "output_type": "display_data",
     "data": {
      "text/plain": "{'period_id': 'final',\n 'grade': 1,\n 'comment': '',\n 'comment_status': None,\n 'scale_id': 0}"
     },
     "metadata": {}
    },
    {
     "output_type": "display_data",
     "data": {
      "text/plain": "<IPython.core.display.Markdown object>",
      "text/markdown": "## Section 2942191527"
     },
     "metadata": {}
    },
    {
     "output_type": "display_data",
     "data": {
      "text/plain": "<IPython.core.display.Markdown object>",
      "text/markdown": "### Period: a2979142114"
     },
     "metadata": {}
    },
    {
     "output_type": "display_data",
     "data": {
      "text/plain": "{'period_id': 'a2979142114',\n 'grade': 9,\n 'weight': 50,\n 'comment': '',\n 'scale_id': 0}"
     },
     "metadata": {}
    },
    {
     "output_type": "display_data",
     "data": {
      "text/plain": "<IPython.core.display.Markdown object>",
      "text/markdown": "### Period: p822639"
     },
     "metadata": {}
    },
    {
     "output_type": "display_data",
     "data": {
      "text/plain": "{'period_id': 'p822639',\n 'grade': 91.33,\n 'weight': 50,\n 'comment': '',\n 'scale_id': 0,\n 'grading_category': [{'category_id': 38619838, 'grade': 91.33}]}"
     },
     "metadata": {}
    },
    {
     "output_type": "display_data",
     "data": {
      "text/plain": "<IPython.core.display.Markdown object>",
      "text/markdown": "### Period: final"
     },
     "metadata": {}
    },
    {
     "output_type": "display_data",
     "data": {
      "text/plain": "{'period_id': 'final',\n 'grade': 83.17,\n 'comment': '',\n 'comment_status': None,\n 'scale_id': 0}"
     },
     "metadata": {}
    }
   ],
   "source": [
    "import json\n",
    "import pandas as pd\n",
    "from IPython.display import display, Markdown\n",
    "\n",
    "for section in raw_grades[\"section\"]:\n",
    "    section_id = section[\"section_id\"]\n",
    "    final_grade = section[\"final_grade\"]\n",
    "\n",
    "    display(Markdown(f\"## Section {section_id}\"))\n",
    "\n",
    "    for grade in final_grade:\n",
    "        display(Markdown(f\"### Period: {grade['period_id']}\"))\n",
    "        display(grade)"
   ]
  },
  {
   "source": [
    "In each case, we have a period called \"final\". The grades for those \"final periods\" are 1 and 83.17%, matching the screenshots. Now, the UDM envisions both \"current\" and \"final\" grades. What is the difference? \"Current\" is the grade during the grading period, \"Final\" is a grade for a completed grading period. How can we distinguish? In Schoology there is no \"term\" concept, but there are grading periods. A section can be in multiple grading periods, as we see above: The first section is in two grading periods and the second section is in one. Can we cross-check the grading periods, and assume that a section is \"finished\" (final) if all grading periods are complete?\n",
    "\n",
    "Note: if all grading periods are closed, then the section won't show in our Extractor's section file, because of this API setting that we're not using:\n",
    "\n",
    "> \"`include_past`: Set this to 1 to include sections from expired/past grading periods\"\n",
    "\n",
    "But, what happens to student grades for such a section? I took the Algebra-I section and temporarily changed its grading period to spring 2020 (this notebook is being written in autumn 2020). Then I changed the homework assignments to be in that same grading period, and changed the Grade Setup to keep the weighting: 50% of final grade from homework done in the spring 2020 grading period and 50% from the mid-term. Now the grade list has:"
   ],
   "cell_type": "markdown",
   "metadata": {}
  },
  {
   "cell_type": "code",
   "execution_count": 23,
   "metadata": {},
   "outputs": [
    {
     "output_type": "display_data",
     "data": {
      "text/plain": "<IPython.core.display.Markdown object>",
      "text/markdown": "## Section 2941242697"
     },
     "metadata": {}
    },
    {
     "output_type": "display_data",
     "data": {
      "text/plain": "<IPython.core.display.Markdown object>",
      "text/markdown": "### Period: p822639"
     },
     "metadata": {}
    },
    {
     "output_type": "display_data",
     "data": {
      "text/plain": "{'period_id': 'p822639',\n 'grade': 1,\n 'weight': 100,\n 'comment': '',\n 'scale_id': 0,\n 'grading_category': [{'category_id': 38619916, 'grade': 1}]}"
     },
     "metadata": {}
    },
    {
     "output_type": "display_data",
     "data": {
      "text/plain": "<IPython.core.display.Markdown object>",
      "text/markdown": "### Period: final"
     },
     "metadata": {}
    },
    {
     "output_type": "display_data",
     "data": {
      "text/plain": "{'period_id': 'final',\n 'grade': 1,\n 'comment': '',\n 'comment_status': None,\n 'scale_id': 0}"
     },
     "metadata": {}
    },
    {
     "output_type": "display_data",
     "data": {
      "text/plain": "<IPython.core.display.Markdown object>",
      "text/markdown": "## Section 2942191527"
     },
     "metadata": {}
    },
    {
     "output_type": "display_data",
     "data": {
      "text/plain": "<IPython.core.display.Markdown object>",
      "text/markdown": "### Period: a2979142114"
     },
     "metadata": {}
    },
    {
     "output_type": "display_data",
     "data": {
      "text/plain": "{'period_id': 'a2979142114',\n 'grade': 9,\n 'weight': 50,\n 'comment': '',\n 'scale_id': 0}"
     },
     "metadata": {}
    },
    {
     "output_type": "display_data",
     "data": {
      "text/plain": "<IPython.core.display.Markdown object>",
      "text/markdown": "### Period: p825791"
     },
     "metadata": {}
    },
    {
     "output_type": "display_data",
     "data": {
      "text/plain": "{'period_id': 'p825791',\n 'grade': 89.5,\n 'weight': 50,\n 'comment': '',\n 'scale_id': 0,\n 'grading_category': [{'category_id': 38619838, 'grade': 89.5}]}"
     },
     "metadata": {}
    },
    {
     "output_type": "display_data",
     "data": {
      "text/plain": "<IPython.core.display.Markdown object>",
      "text/markdown": "### Period: final"
     },
     "metadata": {}
    },
    {
     "output_type": "display_data",
     "data": {
      "text/plain": "{'period_id': 'final',\n 'grade': 82.25,\n 'comment': '',\n 'comment_status': None,\n 'scale_id': 0}"
     },
     "metadata": {}
    }
   ],
   "source": [
    "file = \"grades-after-grading-period-change.json\"\n",
    "new_response = dict()\n",
    "with open(file,) as f:\n",
    "    new_response = json.load(f)\n",
    "\n",
    "for section in new_response[\"section\"]:\n",
    "    section_id = section[\"section_id\"]\n",
    "    final_grade = section[\"final_grade\"]\n",
    "\n",
    "    display(Markdown(f\"## Section {section_id}\"))\n",
    "\n",
    "    for grade in final_grade:\n",
    "        display(Markdown(f\"### Period: {grade['period_id']}\"))\n",
    "        display(grade)"
   ]
  },
  {
   "source": [
    "The final grade is now 82.25. Why is this changed? The mid-term didn't change. The homework in grading period p825791 now as a grade of 89.5, which is lower than before. **This is because I missed updating one homework assignment**. So it was user error. If I had gotten that right, then the final grade would not have changed.\n",
    "\n",
    "Problem: how do we know it is a final grade, and not a current grade?\n",
    "\n",
    "Answer: because the section is no longer in the section list.\n",
    "\n",
    "Turn this into an algorithm, in psuedo code:\n",
    "\n",
    "```\n",
    "for student in Users[type==\"Student\"]:\n",
    "    grades = get_grades(student)\n",
    "\n",
    "    for section in grades.section:\n",
    "        grade = section.grades[period==\"final\"]\n",
    "        if section.section_id in active_sections:\n",
    "            grade.status = \"current\"\n",
    "        elif\n",
    "            grade.status = \"final\"\n",
    "```\n",
    "\n",
    "While the grades are written out nested under a section directory, this is a special case: other section data are not written after a section falls out of an active grading period. This grades file, therefore, needs to be created outside of the normal loop through sections, which is used for building assignments, attendance events, submissions, and user activities files.\n",
    "\n",
    "Also of note, the API call has a few options for limiting results.\n",
    "\n",
    "> View a list of grades for the given user. The following query strings can (optionally) be appended to the path to filter results:\n",
    "> * `section_id`: Specifying a section id limits results to that section.\n",
    "> * `timestamp`: Specifying a timestamp limits results to recorded grades that have been updated since the given timestamp, according to the server time.\n",
    "> * `grading_period_ids`: Specifying a comma-delimited list of grading period ids limits results to those grading periods. Use 'other' for the 'Other' grading period, and 'final' for final grades.\n",
    "\n",
    "We might consider limiting the data in some way in the future, for instance by timestamp. We could limit by section, but then we need a separate process to detect the finished sections and query for their data. We can revisit that if we have a performance problem with too much data coming back for an individual student."
   ],
   "cell_type": "markdown",
   "metadata": {}
  }
 ]
}