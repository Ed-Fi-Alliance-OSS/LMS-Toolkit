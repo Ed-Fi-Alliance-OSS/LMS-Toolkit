{
 "metadata": {
  "language_info": {
   "codemirror_mode": {
    "name": "ipython",
    "version": 3
   },
   "file_extension": ".py",
   "mimetype": "text/x-python",
   "name": "python",
   "nbconvert_exporter": "python",
   "pygments_lexer": "ipython3",
   "version": "3.8.5-final"
  },
  "orig_nbformat": 2,
  "kernelspec": {
   "name": "python_defaultSpec_1598997245264",
   "display_name": "Python 3.8.5 64-bit ('schoology-Nh2XWbVc': venv)"
  }
 },
 "nbformat": 4,
 "nbformat_minor": 2,
 "cells": [
  {
   "cell_type": "markdown",
   "metadata": {},
   "source": [
    "# Schoology Assignment Data\n",
    "\n",
    "## Settings"
   ]
  },
  {
   "cell_type": "code",
   "execution_count": 2,
   "metadata": {
    "tags": []
   },
   "outputs": [],
   "source": [
    "from dotenv import load_dotenv\n",
    "load_dotenv()\n",
    "\n",
    "API_KEY = os.getenv(\"SCHOOLOGY_KEY\")\n",
    "API_SECRET = os.getenv(\"SCHOOLOGY_SECRET\")\n",
    "\n",
    "# Ed-Fi/MSDF users may have this env var set, which causes problems and is unnecessary for the code below\n",
    "os.environ[\"REQUESTS_CA_BUNDLE\"] = \"\""
   ]
  },
  {
   "cell_type": "markdown",
   "metadata": {},
   "source": [
    "## Establish connection to the API"
   ]
  },
  {
   "cell_type": "code",
   "execution_count": 3,
   "metadata": {
    "tags": []
   },
   "outputs": [],
   "source": [
    "import schoolopy\n",
    "from prettyprinter import pprint\n",
    "\n",
    "sc = schoolopy.Schoology(schoolopy.Auth(API_KEY, API_SECRET), verbose = True)"
   ]
  },
  {
   "cell_type": "markdown",
   "metadata": {},
   "source": [
    "## Lists of courses and sections\n",
    "\n",
    "The following returns 403 forbidden: `section = sc.get_sections()`. The URL used was `https://api.schoology.com/v1/sections`.\n",
    "\n",
    "Instead, we need to query for sections from within courses, with URL like `https://api.schoology.com/v1/courses/%course_id/sections`. Will add a method into the API to support asking a course for its sections. Because of the way that schoolopy creates models, this new method is most easily added as an extension (aka monkey patch)."
   ]
  },
  {
   "cell_type": "code",
   "execution_count": 4,
   "metadata": {
    "tags": []
   },
   "outputs": [
    {
     "output_type": "stream",
     "name": "stdout",
     "text": "--> calling https://api.schoology.com/v1/courses?limit=20&start=0\n--> calling https://api.schoology.com/v1/courses/2941242684/sections?limit=20&start=0\n--> calling https://api.schoology.com/v1/courses/2942191514/sections?limit=20&start=0\n[Section({'id': '2941242697', 'course_title': 'English I', 'course_code': 'ENG-1', 'course_id': '2941242684', 'school_id': '2908525646', 'access_code': 'Z4P9X-9FW6H9ZP', 'section_title': 'English I', 'section_code': 'ENG-1-1', 'section_school_code': '', 'synced': '0', 'active': 1, 'description': '', 'parent_id': None, 'grading_periods': [822639], 'profile_url': 'https://api.schoology.com/sites/all/themes/schoology_theme/images/course-default.svg', 'location': '', 'meeting_days': [''], 'start_time': '', 'end_time': '', 'weight': '0', 'options': {'weighted_grading_categories': '0', 'upload_documents': '0', 'create_discussion': '0', 'member_post': '1', 'member_post_comment': '1', 'default_grading_scale_id': 0, 'content_index_visibility': {'topics': 0, 'assignments': 0, 'assessments': 0, 'course_assessment': 0, 'common_assessments': 0, 'documents': 0, 'discussion': 0, 'album': 0, 'pages': 0}, 'hide_overall_grade': 0, 'hide_grading_period_grade': 0, 'allow_custom_overall_grade': 0, 'allow_custom_overall_grade_text': 0}, 'links': {'self': 'https://api.schoology.com/v1/sections/2941242697'}, 'admin': 1}), Section({'id': '2942191527', 'course_title': 'Algebra I', 'course_code': 'ALG-1', 'course_id': '2942191514', 'school_id': '2908525646', 'access_code': '5K2GB-MK35PSXJ', 'section_title': 'Algebra I', 'section_code': 'ALG-1-1', 'section_school_code': '', 'synced': '0', 'active': 1, 'description': '', 'parent_id': None, 'grading_periods': [822639], 'profile_url': 'https://api.schoology.com/sites/all/themes/schoology_theme/images/course-default.svg', 'location': '', 'meeting_days': [''], 'start_time': '', 'end_time': '', 'weight': '0', 'options': {'weighted_grading_categories': '0', 'upload_documents': '0', 'create_discussion': '0', 'member_post': '1', 'member_post_comment': '1', 'default_grading_scale_id': 0, 'content_index_visibility': {'topics': 0, 'assignments': 0, 'assessments': 0, 'course_assessment': 0, 'common_assessments': 0, 'documents': 0, 'discussion': 0, 'album': 0, 'pages': 0}, 'hide_overall_grade': 0, 'hide_grading_period_grade': 0, 'allow_custom_overall_grade': 0, 'allow_custom_overall_grade_text': 0}, 'links': {'self': 'https://api.schoology.com/v1/sections/2942191527'}, 'admin': 1})]\n"
    }
   ],
   "source": [
    "courses = sc.get_courses()\n",
    "\n",
    "# Extend the Course object with a new method for retrieving course sections\n",
    "from schoolopy.models import Section\n",
    "def get_sections_for_course(Self):\n",
    "    resource = \"courses/{}/sections\".format(Self.id)\n",
    "\n",
    "    # TODO: make sure this handles situation where there are no sections for a course\n",
    "    return [Section(raw) for raw in sc.get(resource)['section']]\n",
    "\n",
    "schoolopy.models.Course.get_sections = get_sections_for_course\n",
    "del get_sections_for_course\n",
    "# End extension\n",
    "\n",
    "sections = []\n",
    "for c in courses:\n",
    "    sections += c.get_sections()\n",
    "\n",
    "print(sections)"
   ]
  },
  {
   "cell_type": "markdown",
   "metadata": {},
   "source": [
    "## List of all students\n",
    "\n",
    "The call `sc.get_users()` returns all users, not just students. A new `get_students` method was added to the schoolopy module."
   ]
  },
  {
   "cell_type": "code",
   "execution_count": 5,
   "metadata": {
    "tags": []
   },
   "outputs": [
    {
     "output_type": "stream",
     "name": "stdout",
     "text": "--> calling https://api.schoology.com/v1/roles?limit=20&start=0\n--> calling https://api.schoology.com/v1/users/?role_id=796380?limit=20&start=0\n[\n    schoolopy.models.User({\n        'uid': '100032890',\n        'id': 100032890,\n        'school_id': 2908525646,\n        'synced': 0,\n        'school_uid': '604863',\n        'name_title': '',\n        'name_title_show': 0,\n        'name_first': 'Mary',\n        'name_first_preferred': '',\n        'use_preferred_first_name': '1',\n        'name_middle': '',\n        'name_middle_show': 0,\n        'name_last': 'Archer',\n        'name_display': 'Mary Archer',\n        'username': 'mary.archer',\n        'primary_email': 'mary.archer@studentgps.org',\n        'picture_url':\n            'https://asset-cdn.schoology.com/system/files/imagecache/profile_reg/'\n            'sites/all/themes/schoology_theme/images/user-default.gif',\n        'gender': None,\n        'position': None,\n        'grad_year': '',\n        'password': '',\n        'role_id': 796380,\n        'tz_offset': -5,\n        'tz_name': 'America/Chicago',\n        'parents': None,\n        'child_uids': None,\n        'language': '',\n        'additional_buildings': ''\n    }),\n    schoolopy.models.User({\n        'uid': '99785799',\n        'id': 99785799,\n        'school_id': 2908525646,\n        'synced': 0,\n        'school_uid': '222222',\n        'name_title': '',\n        'name_title_show': 0,\n        'name_first': 'Brad',\n        'name_first_preferred': '',\n        'use_preferred_first_name': '1',\n        'name_middle': '',\n        'name_middle_show': 0,\n        'name_last': 'Banister',\n        'name_display': 'Brad Banister',\n        'username': 'brad.banister',\n        'primary_email': 'brad@doublelinepartners.com',\n        'picture_url':\n            'https://asset-cdn.schoology.com/system/files/imagecache/profile_reg/'\n            'sites/all/themes/schoology_theme/images/user-default.gif',\n        'gender': None,\n        'position': None,\n        'grad_year': '',\n        'password': '',\n        'role_id': 796378,\n        'tz_offset': -5,\n        'tz_name': 'America/Chicago',\n        'parents': None,\n        'child_uids': None,\n        'language': '',\n        'additional_buildings': ''\n    }),\n    schoolopy.models.User({\n        'uid': '100032895',\n        'id': 100032895,\n        'school_id': 2908525646,\n        'synced': 0,\n        'school_uid': '604969',\n        'name_title': '',\n        'name_title_show': 0,\n        'name_first': 'Stephen',\n        'name_first_preferred': '',\n        'use_preferred_first_name': '1',\n        'name_middle': '',\n        'name_middle_show': 0,\n        'name_last': 'Caldwell',\n        'name_display': 'Stephen Caldwell',\n        'username': 'stephen.caldwell',\n        'primary_email': 'stephen.caldwell@studentgps.org',\n        'picture_url':\n            'https://asset-cdn.schoology.com/system/files/imagecache/profile_reg/'\n            'sites/all/themes/schoology_theme/images/user-default.gif',\n        'gender': None,\n        'position': None,\n        'grad_year': '',\n        'password': '',\n        'role_id': 796380,\n        'tz_offset': -5,\n        'tz_name': 'America/Chicago',\n        'parents': None,\n        'child_uids': None,\n        'language': '',\n        'additional_buildings': ''\n    }),\n    schoolopy.models.User({\n        'uid': '100032898',\n        'id': 100032898,\n        'school_id': 2908525646,\n        'synced': 0,\n        'school_uid': '207270',\n        'name_title': '',\n        'name_title_show': 0,\n        'name_first': 'Kelley',\n        'name_first_preferred': '',\n        'use_preferred_first_name': '1',\n        'name_middle': '',\n        'name_middle_show': 0,\n        'name_last': 'Christian',\n        'name_display': 'Kelley Christian',\n        'username': 'kelley.christian',\n        'primary_email': 'kelley.christian@studentgps.org',\n        'picture_url':\n            'https://asset-cdn.schoology.com/system/files/imagecache/profile_reg/'\n            'sites/all/themes/schoology_theme/images/user-default.gif',\n        'gender': None,\n        'position': None,\n        'grad_year': '',\n        'password': '',\n        'role_id': 796379,\n        'tz_offset': -5,\n        'tz_name': 'America/Chicago',\n        'parents': None,\n        'child_uids': None,\n        'language': '',\n        'additional_buildings': ''\n    }),\n    schoolopy.models.User({\n        'uid': '99588912',\n        'id': 99588912,\n        'school_id': 2908525646,\n        'synced': 0,\n        'school_uid': '111111',\n        'name_title': 'Professor',\n        'name_title_show': 1,\n        'name_first': 'Stephen',\n        'name_first_preferred': '',\n        'use_preferred_first_name': '1',\n        'name_middle': '',\n        'name_middle_show': 0,\n        'name_last': 'Fuqua',\n        'name_display': 'Stephen Fuqua',\n        'username': 'stephen.fuqua',\n        'primary_email': 'stephen.fuqua@ed-fi.org',\n        'picture_url':\n            'https://asset-cdn.schoology.com/system/files/imagecache/profile_reg/'\n            'sites/all/themes/schoology_theme/images/user-default.gif',\n        'gender': None,\n        'position': None,\n        'grad_year': '',\n        'password': '',\n        'role_id': 796378,\n        'tz_offset': -5,\n        'tz_name': 'America/Chicago',\n        'parents': None,\n        'child_uids': None,\n        'language': '',\n        'additional_buildings': ''\n    }),\n    schoolopy.models.User({\n        'uid': '99785801',\n        'id': 99785801,\n        'school_id': 2908525646,\n        'synced': 0,\n        'school_uid': '333333',\n        'name_title': '',\n        'name_title_show': 0,\n        'name_first': 'Gabrielle',\n        'name_first_preferred': '',\n        'use_preferred_first_name': '1',\n        'name_middle': '',\n        'name_middle_show': 0,\n        'name_last': 'Gabrielle',\n        'name_display': 'Gabrielle Gabrielle',\n        'username': 'garonzik.garonzik',\n        'primary_email': 'g.garonzik@wearedoubleline.com',\n        'picture_url':\n            'https://asset-cdn.schoology.com/system/files/imagecache/profile_reg/'\n            'sites/all/themes/schoology_theme/images/user-default.gif',\n        'gender': None,\n        'position': None,\n        'grad_year': '',\n        'password': '',\n        'role_id': 796378,\n        'tz_offset': -5,\n        'tz_name': 'America/Chicago',\n        'parents': None,\n        'child_uids': None,\n        'language': '',\n        'additional_buildings': ''\n    }),\n    schoolopy.models.User({\n        'uid': '100032896',\n        'id': 100032896,\n        'school_id': 2908525646,\n        'synced': 0,\n        'school_uid': '604974',\n        'name_title': '',\n        'name_title_show': 0,\n        'name_first': 'Olivia',\n        'name_first_preferred': '',\n        'use_preferred_first_name': '1',\n        'name_middle': '',\n        'name_middle_show': 0,\n        'name_last': 'Hardy',\n        'name_display': 'Olivia Hardy',\n        'username': 'olivia.hardy',\n        'primary_email': 'olivia.hardy@studentgps.org',\n        'picture_url':\n            'https://asset-cdn.schoology.com/system/files/imagecache/profile_reg/'\n            'sites/all/themes/schoology_theme/images/user-default.gif',\n        'gender': None,\n        'position': None,\n        'grad_year': '',\n        'password': '',\n        'role_id': 796380,\n        'tz_offset': -5,\n        'tz_name': 'America/Chicago',\n        'parents': None,\n        'child_uids': None,\n        'language': '',\n        'additional_buildings': ''\n    }),\n    schoolopy.models.User({\n        'uid': '100032891',\n        'id': 100032891,\n        'school_id': 2908525646,\n        'synced': 0,\n        'school_uid': '604874',\n        'name_title': '',\n        'name_title_show': 0,\n        'name_first': 'Kyle',\n        'name_first_preferred': '',\n        'use_preferred_first_name': '1',\n        'name_middle': '',\n        'name_middle_show': 0,\n        'name_last': 'Hughes',\n        'name_display': 'Kyle Hughes',\n        'username': 'kyle.hughes',\n        'primary_email': 'kyle.hughes@studentgps.org',\n        'picture_url':\n            'https://asset-cdn.schoology.com/system/files/imagecache/profile_reg/'\n            'sites/all/themes/schoology_theme/images/user-default.gif',\n        'gender': None,\n        'position': None,\n        'grad_year': '',\n        'password': '',\n        'role_id': 796380,\n        'tz_offset': -5,\n        'tz_name': 'America/Chicago',\n        'parents': None,\n        'child_uids': None,\n        'language': '',\n        'additional_buildings': ''\n    }),\n    schoolopy.models.User({\n        'uid': '99515016',\n        'id': 99515016,\n        'school_id': 2908525646,\n        'synced': 0,\n        'school_uid': '',\n        'name_title': '',\n        'name_title_show': 0,\n        'name_first': 'Eric',\n        'name_first_preferred': '',\n        'use_preferred_first_name': '1',\n        'name_middle': '',\n        'name_middle_show': 0,\n        'name_last': 'Jansson',\n        'name_display': 'Eric Jansson',\n        'username': '',\n        'primary_email': 'eric.jansson@ed-fi.org',\n        'picture_url':\n            'https://asset-cdn.schoology.com/system/files/imagecache/profile_reg/'\n            'sites/all/themes/schoology_theme/images/user-default.gif',\n        'gender': None,\n        'position': None,\n        'grad_year': '',\n        'password': '',\n        'role_id': 796378,\n        'tz_offset': -5,\n        'tz_name': 'America/Chicago',\n        'parents': None,\n        'child_uids': None,\n        'language': '',\n        'additional_buildings': ''\n    }),\n    schoolopy.models.User({\n        'uid': '100032893',\n        'id': 100032893,\n        'school_id': 2908525646,\n        'synced': 0,\n        'school_uid': '604927',\n        'name_title': '',\n        'name_title_show': 0,\n        'name_first': 'Larry',\n        'name_first_preferred': '',\n        'use_preferred_first_name': '1',\n        'name_middle': '',\n        'name_middle_show': 0,\n        'name_last': 'Mahoney',\n        'name_display': 'Larry Mahoney',\n        'username': 'larry.mahoney',\n        'primary_email': 'larry.mahoney@studentgps.org',\n        'picture_url':\n            'https://asset-cdn.schoology.com/system/files/imagecache/profile_reg/'\n            'sites/all/themes/schoology_theme/images/user-default.gif',\n        'gender': None,\n        'position': None,\n        'grad_year': '',\n        'password': '',\n        'role_id': 796380,\n        'tz_offset': -5,\n        'tz_name': 'America/Chicago',\n        'parents': None,\n        'child_uids': None,\n        'language': '',\n        'additional_buildings': ''\n    }),\n    schoolopy.models.User({\n        'uid': '100032892',\n        'id': 100032892,\n        'school_id': 2908525646,\n        'synced': 0,\n        'school_uid': '604918',\n        'name_title': '',\n        'name_title_show': 0,\n        'name_first': 'Peter',\n        'name_first_preferred': '',\n        'use_preferred_first_name': '1',\n        'name_middle': '',\n        'name_middle_show': 0,\n        'name_last': 'Nash',\n        'name_display': 'Peter Nash',\n        'username': 'peter.nash',\n        'primary_email': 'peter.nash@studentgps.org',\n        'picture_url':\n            'https://asset-cdn.schoology.com/system/files/imagecache/profile_reg/'\n            'sites/all/themes/schoology_theme/images/user-default.gif',\n        'gender': None,\n        'position': None,\n        'grad_year': '',\n        'password': '',\n        'role_id': 796380,\n        'tz_offset': -5,\n        'tz_name': 'America/Chicago',\n        'parents': None,\n        'child_uids': None,\n        'language': '',\n        'additional_buildings': ''\n    }),\n    schoolopy.models.User({\n        'uid': '100032894',\n        'id': 100032894,\n        'school_id': 2908525646,\n        'synced': 0,\n        'school_uid': '604938',\n        'name_title': '',\n        'name_title_show': 0,\n        'name_first': 'Roland',\n        'name_first_preferred': '',\n        'use_preferred_first_name': '1',\n        'name_middle': '',\n        'name_middle_show': 0,\n        'name_last': 'Phillips',\n        'name_display': 'Roland Phillips',\n        'username': 'roland.phillips',\n        'primary_email': 'roland.phillips@studentgps.org',\n        'picture_url':\n            'https://asset-cdn.schoology.com/system/files/imagecache/profile_reg/'\n            'sites/all/themes/schoology_theme/images/user-default.gif',\n        'gender': None,\n        'position': None,\n        'grad_year': '',\n        'password': '',\n        'role_id': 796380,\n        'tz_offset': -5,\n        'tz_name': 'America/Chicago',\n        'parents': None,\n        'child_uids': None,\n        'language': '',\n        'additional_buildings': ''\n    }),\n    schoolopy.models.User({\n        'uid': '100032899',\n        'id': 100032899,\n        'school_id': 2908525646,\n        'synced': 0,\n        'school_uid': '207268',\n        'name_title': '',\n        'name_title_show': 0,\n        'name_first': 'Sara',\n        'name_first_preferred': '',\n        'use_preferred_first_name': '1',\n        'name_middle': '',\n        'name_middle_show': 0,\n        'name_last': 'Preston',\n        'name_display': 'Sara Preston',\n        'username': 'sara.preston',\n        'primary_email': 'sara.preston@studentgps.org',\n        'picture_url':\n            'https://asset-cdn.schoology.com/system/files/imagecache/profile_reg/'\n            'sites/all/themes/schoology_theme/images/user-default.gif',\n        'gender': None,\n        'position': None,\n        'grad_year': '',\n        'password': '',\n        'role_id': 796379,\n        'tz_offset': -5,\n        'tz_name': 'America/Chicago',\n        'parents': None,\n        'child_uids': None,\n        'language': '',\n        'additional_buildings': ''\n    }),\n    schoolopy.models.User({\n        'uid': '99785803',\n        'id': 99785803,\n        'school_id': 2908525646,\n        'synced': 0,\n        'school_uid': '444444',\n        'name_title': '',\n        'name_title_show': 0,\n        'name_first': 'Luis',\n        'name_first_preferred': '',\n        'use_preferred_first_name': '1',\n        'name_middle': '',\n        'name_middle_show': 0,\n        'name_last': 'Richmond Guzmán',\n        'name_display': 'Luis Richmond Guzmán',\n        'username': 'luis.richmond',\n        'primary_email': 'lrichmond@growthaccelerationpartners.com',\n        'picture_url':\n            'https://asset-cdn.schoology.com/system/files/imagecache/profile_reg/'\n            'sites/all/themes/schoology_theme/images/user-default.gif',\n        'gender': None,\n        'position': None,\n        'grad_year': '',\n        'password': '',\n        'role_id': 796378,\n        'tz_offset': -5,\n        'tz_name': 'America/Chicago',\n        'parents': None,\n        'child_uids': None,\n        'language': '',\n        'additional_buildings': ''\n    }),\n    schoolopy.models.User({\n        'uid': '100032897',\n        'id': 100032897,\n        'school_id': 2908525646,\n        'synced': 0,\n        'school_uid': '605015',\n        'name_title': '',\n        'name_title_show': 0,\n        'name_first': 'Micheal',\n        'name_first_preferred': '',\n        'use_preferred_first_name': '1',\n        'name_middle': '',\n        'name_middle_show': 0,\n        'name_last': 'Turner',\n        'name_display': 'Micheal Turner',\n        'username': 'micheal.turner',\n        'primary_email': 'micheal.turner@studentgps.org',\n        'picture_url':\n            'https://asset-cdn.schoology.com/system/files/imagecache/profile_reg/'\n            'sites/all/themes/schoology_theme/images/user-default.gif',\n        'gender': None,\n        'position': None,\n        'grad_year': '',\n        'password': '',\n        'role_id': 796380,\n        'tz_offset': -5,\n        'tz_name': 'America/Chicago',\n        'parents': None,\n        'child_uids': None,\n        'language': '',\n        'additional_buildings': ''\n    })\n]\n"
    }
   ],
   "source": [
    "students = sc.get_students()\n",
    "\n",
    "pprint(students)"
   ]
  },
  {
   "cell_type": "markdown",
   "metadata": {},
   "source": [
    "## List of all assignments\n",
    "\n",
    "Assignments are retrieved for sections. "
   ]
  },
  {
   "cell_type": "code",
   "execution_count": 6,
   "metadata": {
    "tags": []
   },
   "outputs": [
    {
     "output_type": "stream",
     "name": "stdout",
     "text": "2\n--> calling https://api.schoology.com/v1/sections/2941242697/assignments?limit=20&start=0\n--> calling https://api.schoology.com/v1/sections/2942191527/assignments?limit=20&start=0\n[Assignment({'id': 2942237212, 'title': 'Anna Karenina - Character Study', 'description': \"Write an essay summarizing character attributes, including comparative analysis where appropriate, for Tolstoy's <i>Anna Karenina</i>.\", 'due': '2020-08-21 23:59:00', 'grading_scale': '0', 'grading_period': '822639', 'grading_category': '38619916', 'max_points': '100', 'factor': '1', 'is_final': '0', 'show_comments': '0', 'grade_stats': '0', 'allow_dropbox': '1', 'allow_discussion': '1', 'published': 1, 'type': 'assignment', 'grade_item_id': 2942237212, 'available': 1, 'completed': 0, 'dropbox_locked': 0, 'grading_scale_type': 0, 'show_rubric': False, 'display_weight': '0', 'folder_id': '0', 'assignment_type': 'basic', 'web_url': 'https://app.schoology.com/assignment/2942237212', 'num_assignees': 0, 'assignees': [], 'grading_group_ids': [], 'last_updated': '1598632307', 'completion_status': '', 'links': {'self': 'https://api.schoology.com/v1/sections/2941242697/assignments/2942237212'}}), Assignment({'id': 2942243563, 'title': 'Redundancy in War and Peace', 'description': 'Describe with statistical examples how Tolstoy could have written a shorter novel by not repeating his theme so frequently.', 'due': '2021-05-01 23:59:00', 'grading_scale': '0', 'grading_period': '822639', 'grading_category': '38619916', 'max_points': '100', 'factor': '1', 'is_final': '0', 'show_comments': '0', 'grade_stats': '0', 'allow_dropbox': '1', 'allow_discussion': '1', 'published': 1, 'type': 'assignment', 'grade_item_id': 2942243563, 'available': 1, 'completed': 0, 'dropbox_locked': 0, 'grading_scale_type': 0, 'show_rubric': False, 'display_weight': '1', 'folder_id': '0', 'assignment_type': 'basic', 'web_url': 'https://app.schoology.com/assignment/2942243563', 'num_assignees': 0, 'assignees': [], 'grading_group_ids': [], 'last_updated': '1598632312', 'completion_status': '', 'links': {'self': 'https://api.schoology.com/v1/sections/2941242697/assignments/2942243563'}}), Assignment({'id': 2942251001, 'title': 'Algebra foundations', 'description': 'Complete the Khan Academy unit: Algebra Foundations. Post a screenshot of your test results as the homework.', 'due': '2020-08-28 23:59:00', 'grading_scale': '0', 'grading_period': '822639', 'grading_category': '38619838', 'max_points': '100', 'factor': '1', 'is_final': '0', 'show_comments': '0', 'grade_stats': '0', 'allow_dropbox': '1', 'allow_discussion': '1', 'published': 1, 'type': 'assignment', 'grade_item_id': 2942251001, 'available': 1, 'completed': 0, 'dropbox_locked': 0, 'grading_scale_type': 0, 'show_rubric': False, 'display_weight': '0', 'folder_id': '0', 'assignment_type': 'basic', 'web_url': 'https://app.schoology.com/assignment/2942251001', 'num_assignees': 0, 'assignees': [], 'grading_group_ids': [], 'last_updated': '1598632276', 'completion_status': '', 'links': {'self': 'https://api.schoology.com/v1/sections/2942191527/assignments/2942251001'}}), Assignment({'id': 2942255624, 'title': 'Solving Equations and Inequalities', 'description': 'Complete the Khan Academy unit: Solving Equations & inequalities', 'due': '2020-12-31 23:59:00', 'grading_scale': '0', 'grading_period': '822639', 'grading_category': '38619838', 'max_points': '100', 'factor': '1', 'is_final': '0', 'show_comments': '0', 'grade_stats': '0', 'allow_dropbox': '1', 'allow_discussion': '1', 'published': 1, 'type': 'assignment', 'grade_item_id': 2942255624, 'available': 1, 'completed': 0, 'dropbox_locked': 0, 'grading_scale_type': 0, 'show_rubric': False, 'display_weight': '1', 'folder_id': '0', 'assignment_type': 'basic', 'web_url': 'https://app.schoology.com/assignment/2942255624', 'num_assignees': 0, 'assignees': [], 'grading_group_ids': [], 'last_updated': '1598632285', 'completion_status': '', 'links': {'self': 'https://api.schoology.com/v1/sections/2942191527/assignments/2942255624'}})]\n"
    }
   ],
   "source": [
    "# Recall that we already have a `sections` object\n",
    "print(len(sections))\n",
    "\n",
    "assignments = []\n",
    "\n",
    "for s in sections:\n",
    "    assignments += sc.get_assignments(s.id)\n",
    "\n",
    "print(assignments)"
   ]
  },
  {
   "cell_type": "markdown",
   "metadata": {},
   "source": [
    "## List of homework submissions\n",
    "\n",
    "The resource URL for a submission depends on `grade_item_id`, but what is this? We can see it in the assignment results above, and it also exists on Discussions. This appears to allow a submission grade to be associated with an Assignment or a Discussion.\n",
    "\n",
    "Use the extension-method approach as done with the `get_sections` method, this time modifying `Assignment`."
   ]
  },
  {
   "cell_type": "code",
   "execution_count": 9,
   "metadata": {
    "tags": []
   },
   "outputs": [
    {
     "output_type": "stream",
     "name": "stdout",
     "text": "--> calling https://api.schoology.com/v1/sections/2941242697/submissions/2942237212?limit=20&start=0\n--> calling https://api.schoology.com/v1/sections/2941242697/submissions/2942243563?limit=20&start=0\n--> calling https://api.schoology.com/v1/sections/2942191527/submissions/2942251001?limit=20&start=0\n--> calling https://api.schoology.com/v1/sections/2942191527/submissions/2942255624?limit=20&start=0\n[Submission({'revision_id': 1, 'uid': 100032890, 'created': 1598631545, 'num_items': 1, 'late': 1, 'draft': 0}), Submission({'revision_id': 1, 'uid': 100032891, 'created': 1598631744, 'num_items': 1, 'late': 1, 'draft': 0}), Submission({'revision_id': 1, 'uid': 100032895, 'created': 1598631616, 'num_items': 1, 'late': 1, 'draft': 0}), Submission({'revision_id': 1, 'uid': 100032896, 'created': 1598631955, 'num_items': 1, 'late': 1, 'draft': 0}), Submission({'revision_id': 1, 'uid': 100032897, 'created': 1598632008, 'num_items': 1, 'late': 1, 'draft': 0}), Submission({'revision_id': 1, 'uid': 100032895, 'created': 1598631632, 'num_items': 1, 'late': 0, 'draft': 0}), Submission({'revision_id': 1, 'uid': 100032896, 'created': 1598631969, 'num_items': 1, 'late': 0, 'draft': 0}), Submission({'revision_id': 1, 'uid': 100032890, 'created': 1598631433, 'num_items': 1, 'late': 0, 'draft': 0}), Submission({'revision_id': 1, 'uid': 100032891, 'created': 1598631768, 'num_items': 1, 'late': 0, 'draft': 0}), Submission({'revision_id': 1, 'uid': 100032892, 'created': 1598631874, 'num_items': 1, 'late': 0, 'draft': 0}), Submission({'revision_id': 1, 'uid': 100032893, 'created': 1598631823, 'num_items': 1, 'late': 0, 'draft': 0}), Submission({'revision_id': 1, 'uid': 100032894, 'created': 1598631902, 'num_items': 1, 'late': 0, 'draft': 0}), Submission({'revision_id': 1, 'uid': 100032890, 'created': 1598631506, 'num_items': 1, 'late': 0, 'draft': 0}), Submission({'revision_id': 1, 'uid': 100032891, 'created': 1598631785, 'num_items': 1, 'late': 0, 'draft': 0})]\n"
    }
   ],
   "source": [
    "# Extend the Section object with a new method for retrieving course sections\n",
    "from schoolopy.models import Assignment\n",
    "from schoolopy.models import Submission\n",
    "\n",
    "def _get_section_id(self):\n",
    "    \"\"\"\n",
    "    The section ID is not directly stored in an Assignment, but it will be needed\n",
    "    for getting submissions. Extract it from the `links.self` property.\n",
    "    \"\"\"\n",
    "\n",
    "    # Could use a regex, but probably faster to split by / and just count over\n",
    "    # to the correct index.\n",
    "    return self.links['self'].split('/')[5]\n",
    "\n",
    "Assignment._get_section_id = _get_section_id\n",
    "del _get_section_id\n",
    "\n",
    "def get_submissions(self):\n",
    "    resource = \"sections/{}/submissions/{}\".format(self._get_section_id(), self.grade_item_id)\n",
    "\n",
    "    # TODO: make sure this handles situation where there are no submissions\n",
    "    return [Submission(raw) for raw in sc.get(resource)['revision']]\n",
    "\n",
    "Assignment.get_submissions = get_submissions\n",
    "del get_submissions\n",
    "# End extension    \n",
    "\n",
    "submissions = []\n",
    "for a in assignments:\n",
    "    submissions += a.get_submissions()\n",
    "\n",
    "print(submissions)"
   ]
  },
  {
   "cell_type": "markdown",
   "metadata": {},
   "source": [
    "In the results above, note the concept of \"revision_id\". A student can submit multiple versions. Also note that we have a draft status. We must decide what to do with that information - do we return all revisions? Or just the latest? Or perhaps only completed work?\n",
    "\n",
    "### TODO:\n",
    "* All of these show up as not drafts, and yet I thought we had some drafts in play. Need to sign-in as a couple of students and try to ensure we can get drafts.\n",
    "* What do we want to do about getting grades? Not explicitly mentioned in the ticket, but probably intended.\n",
    "* Note the default paging limit of 20 on all of these requests. Need handle paging appropriately.\n",
    "* The ticket describes getting data for a specified year. How would we do that? Sections are associated with a grading period. The `section` resource shows a concept of a `start_time` and an `end_time`, but the UI does not give a way to set these. So inferring school year from grading period might be the only option."
   ]
  }
 ]
}