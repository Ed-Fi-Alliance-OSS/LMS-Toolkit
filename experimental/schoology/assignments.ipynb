{
 "metadata": {
  "language_info": {
   "codemirror_mode": {
    "name": "ipython",
    "version": 3
   },
   "file_extension": ".py",
   "mimetype": "text/x-python",
   "name": "python",
   "nbconvert_exporter": "python",
   "pygments_lexer": "ipython3",
   "version": "3.8.5-final"
  },
  "orig_nbformat": 2,
  "kernelspec": {
   "name": "python_defaultSpec_1599074561756",
   "display_name": "Python 3.8.5 64-bit ('schoology-Nh2XWbVc': venv)"
  }
 },
 "nbformat": 4,
 "nbformat_minor": 2,
 "cells": [
  {
   "cell_type": "markdown",
   "metadata": {},
   "source": [
    "# Schoology Assignment Data\n",
    "\n",
    "## Settings"
   ]
  },
  {
   "cell_type": "code",
   "execution_count": 1,
   "metadata": {
    "tags": []
   },
   "outputs": [],
   "source": [
    "from dotenv import load_dotenv\n",
    "load_dotenv()\n",
    "\n",
    "API_KEY = os.getenv(\"SCHOOLOGY_KEY\")\n",
    "API_SECRET = os.getenv(\"SCHOOLOGY_SECRET\")\n",
    "\n",
    "# Ed-Fi/MSDF users may have this env var set, which causes problems and is unnecessary for the code below\n",
    "os.environ[\"REQUESTS_CA_BUNDLE\"] = \"\""
   ]
  },
  {
   "cell_type": "markdown",
   "metadata": {},
   "source": [
    "## Establish connection to the API"
   ]
  },
  {
   "cell_type": "code",
   "execution_count": 2,
   "metadata": {
    "tags": []
   },
   "outputs": [],
   "source": [
    "import schoolopy\n",
    "from prettyprinter import pprint\n",
    "\n",
    "sc = schoolopy.Schoology(schoolopy.Auth(API_KEY, API_SECRET), verbose = True)"
   ]
  },
  {
   "cell_type": "markdown",
   "metadata": {},
   "source": [
    "## Grading periods\n",
    "\n",
    "Sections belong to grading periods. Past grading periods are not included in the API results, but future ones are. A section might be associated with multiple grading periods, e.g both a quarter or 6-week period and a semester, or even a year. Automatically determining which grading period(s) to use seems ripe for bugs. Therefore, it may be most useful to provide a utility for looking up grading period IDs, and then putting those IDs into the `.env` file before running an extract process."
   ]
  },
  {
   "cell_type": "code",
   "execution_count": 3,
   "metadata": {
    "tags": []
   },
   "outputs": [
    {
     "output_type": "stream",
     "name": "stdout",
     "text": "--> calling https://api.schoology.com/v1/gradingperiods?limit=20&start=0\n[GradingPeriod({'id': 825792, 'title': 'Fall Semester 2021-2022', 'start': '2021-09-01', 'end': '2021-12-20', 'active': 0, 'links': {'self': 'https://api.schoology.com/v1/gradingperiods/825792'}, 'has_children': False, 'parent': '0'}), GradingPeriod({'id': 825790, 'title': 'Spring Semester 2020-2021', 'start': '2021-01-11', 'end': '2021-06-04', 'active': 0, 'links': {'self': 'https://api.schoology.com/v1/gradingperiods/825790'}, 'has_children': False, 'parent': '0'}), GradingPeriod({'id': 822639, 'title': 'Fall Semester 2020-2021', 'start': '2020-08-28', 'end': '2020-12-18', 'active': 1, 'links': {'self': 'https://api.schoology.com/v1/gradingperiods/822639'}, 'has_children': False, 'parent': '0'}), GradingPeriod({'id': 825791, 'title': 'Spring Semester 2019-2020', 'start': '2020-01-13', 'end': '2020-06-05', 'active': 0, 'links': {'self': 'https://api.schoology.com/v1/gradingperiods/825791'}, 'has_children': False, 'parent': '0'})]\n"
    }
   ],
   "source": [
    "print(sc.get_grading_periods())"
   ]
  },
  {
   "cell_type": "markdown",
   "metadata": {},
   "source": [
    "The `.env` file will have an item `SCHOOLOGY_GRADING_PERIODS` that contains a comma-separated list of grading periods of interest."
   ]
  },
  {
   "cell_type": "code",
   "execution_count": 4,
   "metadata": {},
   "outputs": [],
   "source": [
    "valid_grading_periods = os.getenv(\"SCHOOLOGY_GRADING_PERIODS\")\n",
    "assert valid_grading_periods is not None, \"One or more grading periods needs to be defined in CSV format in the .env file, using key SCHOOLOGY_GRADING_PERIODS\"\n",
    "\n",
    "try:\n",
    "    valid_grading_periods = [int(gp) for gp in valid_grading_periods.split(',')]\n",
    "except ValueError as ex:\n",
    "    msg = f\"Grading period environment variable could not be parsed: {ex}\"\n",
    "    raise Exception(msg)"
   ]
  },
  {
   "cell_type": "markdown",
   "metadata": {},
   "source": [
    "## Lists of courses and sections\n",
    "\n",
    "The following returns 403 forbidden: `section = sc.get_sections()`. The URL used was `https://api.schoology.com/v1/sections`.\n",
    "\n",
    "Instead, we need to query for sections from within courses, with URL like `https://api.schoology.com/v1/courses/%course_id/sections`. Will add a method into the API to support asking a course for its sections. Because of the way that schoolopy creates models, this new method is most easily added as an extension (aka monkey patch)."
   ]
  },
  {
   "cell_type": "code",
   "execution_count": 5,
   "metadata": {
    "tags": []
   },
   "outputs": [
    {
     "output_type": "stream",
     "name": "stdout",
     "text": "--> calling https://api.schoology.com/v1/courses?limit=20&start=0\n--> calling https://api.schoology.com/v1/courses/2941242684/sections?limit=20&start=0\n--> calling https://api.schoology.com/v1/courses/2942191514/sections?limit=20&start=0\n[Section({'id': '2975852079', 'course_title': 'Algebra I', 'course_code': 'ALG-1', 'course_id': '2942191514', 'school_id': '2908525646', 'access_code': 'XD43P-TBX6938C', 'section_title': 'Section 2', 'section_code': '', 'section_school_code': '', 'synced': '0', 'active': 1, 'description': '', 'parent_id': None, 'grading_periods': [825792], 'profile_url': 'https://api.schoology.com/sites/all/themes/schoology_theme/images/course-default.svg', 'location': '', 'meeting_days': [''], 'start_time': '', 'end_time': '', 'weight': '0', 'options': {'weighted_grading_categories': '0', 'upload_documents': '0', 'create_discussion': '0', 'member_post': '1', 'member_post_comment': '1', 'default_grading_scale_id': 0, 'content_index_visibility': {'topics': 0, 'assignments': 0, 'assessments': 0, 'course_assessment': 0, 'common_assessments': 0, 'documents': 0, 'discussion': 0, 'album': 0, 'pages': 0}, 'hide_overall_grade': 0, 'hide_grading_period_grade': 0, 'allow_custom_overall_grade': 0, 'allow_custom_overall_grade_text': 0}, 'links': {'self': 'https://api.schoology.com/v1/sections/2975852079'}, 'admin': 1}), Section({'id': '2975852079', 'course_title': 'Algebra I', 'course_code': 'ALG-1', 'course_id': '2942191514', 'school_id': '2908525646', 'access_code': 'XD43P-TBX6938C', 'section_title': 'Section 2', 'section_code': '', 'section_school_code': '', 'synced': '0', 'active': 1, 'description': '', 'parent_id': None, 'grading_periods': [825792], 'profile_url': 'https://api.schoology.com/sites/all/themes/schoology_theme/images/course-default.svg', 'location': '', 'meeting_days': [''], 'start_time': '', 'end_time': '', 'weight': '0', 'options': {'weighted_grading_categories': '0', 'upload_documents': '0', 'create_discussion': '0', 'member_post': '1', 'member_post_comment': '1', 'default_grading_scale_id': 0, 'content_index_visibility': {'topics': 0, 'assignments': 0, 'assessments': 0, 'course_assessment': 0, 'common_assessments': 0, 'documents': 0, 'discussion': 0, 'album': 0, 'pages': 0}, 'hide_overall_grade': 0, 'hide_grading_period_grade': 0, 'allow_custom_overall_grade': 0, 'allow_custom_overall_grade_text': 0}, 'links': {'self': 'https://api.schoology.com/v1/sections/2975852079'}, 'admin': 1})]\nThere are 2 sections\n"
    }
   ],
   "source": [
    "courses = sc.get_courses()\n",
    "\n",
    "# Extend the Course object with a new method for retrieving course sections\n",
    "from schoolopy.models import Section\n",
    "def get_sections_for_course(Self):\n",
    "    resource = \"courses/{}/sections\".format(Self.id)\n",
    "\n",
    "    # TODO: make sure this handles situation where there are no sections for a course\n",
    "    return [Section(raw) for raw in sc.get(resource)['section']]\n",
    "\n",
    "schoolopy.models.Course.get_sections = get_sections_for_course\n",
    "del get_sections_for_course\n",
    "# End extension\n",
    "\n",
    "sections = []\n",
    "for c in courses:\n",
    "    # Filter only sections for the grading periods we care about.\n",
    "    sections += [c for c in c.get_sections() for gp in valid_grading_periods if [gp] < c.grading_periods]\n",
    "\n",
    "print(sections)\n",
    "print(f\"There are {len(sections)} sections\")"
   ]
  },
  {
   "cell_type": "markdown",
   "metadata": {},
   "source": [
    "## List of all students\n",
    "\n",
    "The call `sc.get_users()` returns all users, not just students. A new `get_students` method was added to the schoolopy module."
   ]
  },
  {
   "cell_type": "code",
   "execution_count": 6,
   "metadata": {
    "tags": []
   },
   "outputs": [
    {
     "output_type": "stream",
     "name": "stdout",
     "text": "--> calling https://api.schoology.com/v1/roles?limit=20&start=0\n--> calling https://api.schoology.com/v1/users?limit=20&start=0\nCount: 6. First student:\nschoolopy.models.User({\n    'uid': '100032890',\n    'id': 100032890,\n    'school_id': 2908525646,\n    'synced': 0,\n    'school_uid': '604863',\n    'name_title': '',\n    'name_title_show': 0,\n    'name_first': 'Mary',\n    'name_first_preferred': '',\n    'use_preferred_first_name': '1',\n    'name_middle': '',\n    'name_middle_show': 0,\n    'name_last': 'Archer',\n    'name_display': 'Mary Archer',\n    'username': 'mary.archer',\n    'primary_email': 'mary.archer@studentgps.org',\n    'picture_url':\n        'https://asset-cdn.schoology.com/system/files/imagecache/profile_reg/'\n        'sites/all/themes/schoology_theme/images/user-default.gif',\n    'gender': None,\n    'position': None,\n    'grad_year': '',\n    'password': '',\n    'role_id': 796380,\n    'tz_offset': -5,\n    'tz_name': 'America/Chicago',\n    'parents': None,\n    'child_uids': None,\n    'language': '',\n    'additional_buildings': ''\n})\n"
    }
   ],
   "source": [
    "students = sc.get_students()\n",
    "\n",
    "print(f'Count: {len(students)}. First student:')\n",
    "pprint(students[0])"
   ]
  },
  {
   "cell_type": "markdown",
   "metadata": {},
   "source": [
    "## List of all assignments\n",
    "\n",
    "Assignments are retrieved for sections. "
   ]
  },
  {
   "cell_type": "code",
   "execution_count": 14,
   "metadata": {
    "tags": []
   },
   "outputs": [
    {
     "output_type": "stream",
     "name": "stdout",
     "text": "2\n--> calling https://api.schoology.com/v1/sections/2941242697/assignments?limit=20&start=0\n--> calling https://api.schoology.com/v1/sections/2942191527/assignments?limit=20&start=0\n[Assignment({'id': 2942237212, 'title': 'Anna Karenina - Character Study', 'description': \"Write an essay summarizing character attributes, including comparative analysis where appropriate, for Tolstoy's <i>Anna Karenina</i>.\", 'due': '2020-08-21 23:59:00', 'grading_scale': '0', 'grading_period': '822639', 'grading_category': '38619916', 'max_points': '100', 'factor': '1', 'is_final': '0', 'show_comments': '0', 'grade_stats': '0', 'allow_dropbox': '1', 'allow_discussion': '1', 'published': 1, 'type': 'assignment', 'grade_item_id': 2942237212, 'available': 1, 'completed': 0, 'dropbox_locked': 0, 'grading_scale_type': 0, 'show_rubric': False, 'display_weight': '0', 'folder_id': '0', 'assignment_type': 'basic', 'web_url': 'https://app.schoology.com/assignment/2942237212', 'num_assignees': 0, 'assignees': [], 'grading_group_ids': [], 'last_updated': '1598632307', 'completion_status': '', 'links': {'self': 'https://api.schoology.com/v1/sections/2941242697/assignments/2942237212'}}), Assignment({'id': 2942243563, 'title': 'Redundancy in War and Peace', 'description': 'Describe with statistical examples how Tolstoy could have written a shorter novel by not repeating his theme so frequently.', 'due': '2021-05-01 23:59:00', 'grading_scale': '0', 'grading_period': '822639', 'grading_category': '38619916', 'max_points': '100', 'factor': '1', 'is_final': '0', 'show_comments': '0', 'grade_stats': '0', 'allow_dropbox': '1', 'allow_discussion': '1', 'published': 1, 'type': 'assignment', 'grade_item_id': 2942243563, 'available': 1, 'completed': 0, 'dropbox_locked': 0, 'grading_scale_type': 0, 'show_rubric': False, 'display_weight': '1', 'folder_id': '0', 'assignment_type': 'basic', 'web_url': 'https://app.schoology.com/assignment/2942243563', 'num_assignees': 0, 'assignees': [], 'grading_group_ids': [], 'last_updated': '1598632312', 'completion_status': '', 'links': {'self': 'https://api.schoology.com/v1/sections/2941242697/assignments/2942243563'}}), Assignment({'id': 2942251001, 'title': 'Algebra foundations', 'description': 'Complete the Khan Academy unit: Algebra Foundations. Post a screenshot of your test results as the homework.', 'due': '2020-08-28 23:59:00', 'grading_scale': '0', 'grading_period': '822639', 'grading_category': '38619838', 'max_points': '100', 'factor': '1', 'is_final': '0', 'show_comments': '0', 'grade_stats': '0', 'allow_dropbox': '1', 'allow_discussion': '1', 'published': 1, 'type': 'assignment', 'grade_item_id': 2942251001, 'available': 1, 'completed': 0, 'dropbox_locked': 0, 'grading_scale_type': 0, 'show_rubric': False, 'display_weight': '0', 'folder_id': '0', 'assignment_type': 'basic', 'web_url': 'https://app.schoology.com/assignment/2942251001', 'num_assignees': 0, 'assignees': [], 'grading_group_ids': [], 'last_updated': '1598632276', 'completion_status': '', 'links': {'self': 'https://api.schoology.com/v1/sections/2942191527/assignments/2942251001'}}), Assignment({'id': 2942255624, 'title': 'Solving Equations and Inequalities', 'description': 'Complete the Khan Academy unit: Solving Equations & inequalities', 'due': '2020-12-31 23:59:00', 'grading_scale': '0', 'grading_period': '822639', 'grading_category': '38619838', 'max_points': '100', 'factor': '1', 'is_final': '0', 'show_comments': '0', 'grade_stats': '0', 'allow_dropbox': '1', 'allow_discussion': '1', 'published': 1, 'type': 'assignment', 'grade_item_id': 2942255624, 'available': 1, 'completed': 0, 'dropbox_locked': 0, 'grading_scale_type': 0, 'show_rubric': False, 'display_weight': '1', 'folder_id': '0', 'assignment_type': 'basic', 'web_url': 'https://app.schoology.com/assignment/2942255624', 'num_assignees': 0, 'assignees': [], 'grading_group_ids': [], 'last_updated': '1598632285', 'completion_status': '', 'links': {'self': 'https://api.schoology.com/v1/sections/2942191527/assignments/2942255624'}})]\n"
    }
   ],
   "source": [
    "# Recall that we already have a `sections` object\n",
    "print(len(sections))\n",
    "\n",
    "assignments = []\n",
    "\n",
    "for s in sections:\n",
    "    assignments += sc.get_assignments(s.id)\n",
    "\n",
    "print(assignments)"
   ]
  },
  {
   "cell_type": "markdown",
   "metadata": {},
   "source": [
    "## List of homework submissions\n",
    "\n",
    "The resource URL for a submission depends on `grade_item_id`, but what is this? We can see it in the assignment results above, and it also exists on Discussions. This appears to allow a submission grade to be associated with an Assignment or a Discussion.\n",
    "\n",
    "Use the extension-method approach as done with the `get_sections` method, this time modifying `Assignment`."
   ]
  },
  {
   "cell_type": "code",
   "execution_count": 15,
   "metadata": {
    "tags": []
   },
   "outputs": [
    {
     "output_type": "stream",
     "name": "stdout",
     "text": "--> calling https://api.schoology.com/v1/sections/2941242697/submissions/2942237212?limit=20&start=0\n--> calling https://api.schoology.com/v1/sections/2941242697/submissions/2942243563?limit=20&start=0\n--> calling https://api.schoology.com/v1/sections/2942191527/submissions/2942251001?limit=20&start=0\n--> calling https://api.schoology.com/v1/sections/2942191527/submissions/2942255624?limit=20&start=0\n[Submission({'revision_id': 1, 'uid': 100032890, 'created': 1598631545, 'num_items': 1, 'late': 1, 'draft': 0}), Submission({'revision_id': 1, 'uid': 100032891, 'created': 1598631744, 'num_items': 1, 'late': 1, 'draft': 0}), Submission({'revision_id': 1, 'uid': 100032895, 'created': 1598631616, 'num_items': 1, 'late': 1, 'draft': 0}), Submission({'revision_id': 1, 'uid': 100032896, 'created': 1598631955, 'num_items': 1, 'late': 1, 'draft': 0}), Submission({'revision_id': 1, 'uid': 100032897, 'created': 1598632008, 'num_items': 1, 'late': 1, 'draft': 0}), Submission({'revision_id': 1, 'uid': 100032895, 'created': 1598631632, 'num_items': 1, 'late': 0, 'draft': 0}), Submission({'revision_id': 1, 'uid': 100032896, 'created': 1598631969, 'num_items': 1, 'late': 0, 'draft': 0}), Submission({'revision_id': 1, 'uid': 100032890, 'created': 1598631433, 'num_items': 1, 'late': 0, 'draft': 0}), Submission({'revision_id': 1, 'uid': 100032891, 'created': 1598631768, 'num_items': 1, 'late': 0, 'draft': 0}), Submission({'revision_id': 1, 'uid': 100032892, 'created': 1598631874, 'num_items': 1, 'late': 0, 'draft': 0}), Submission({'revision_id': 1, 'uid': 100032893, 'created': 1598631823, 'num_items': 1, 'late': 0, 'draft': 0}), Submission({'revision_id': 1, 'uid': 100032894, 'created': 1598631902, 'num_items': 1, 'late': 0, 'draft': 0}), Submission({'revision_id': 1, 'uid': 100032890, 'created': 1598631506, 'num_items': 1, 'late': 0, 'draft': 0}), Submission({'revision_id': 1, 'uid': 100032891, 'created': 1598631785, 'num_items': 1, 'late': 0, 'draft': 0})]\n"
    }
   ],
   "source": [
    "# Extend the Section object with a new method for retrieving course sections\n",
    "from schoolopy.models import Assignment\n",
    "from schoolopy.models import Submission\n",
    "\n",
    "def _get_section_id(self):\n",
    "    \"\"\"\n",
    "    The section ID is not directly stored in an Assignment, but it will be needed\n",
    "    for getting submissions. Extract it from the `links.self` property.\n",
    "    \"\"\"\n",
    "\n",
    "    # Could use a regex, but probably faster to split by / and just count over\n",
    "    # to the correct index.\n",
    "    return self.links['self'].split('/')[5]\n",
    "\n",
    "Assignment._get_section_id = _get_section_id\n",
    "del _get_section_id\n",
    "\n",
    "def get_submissions(self):\n",
    "    resource = \"sections/{}/submissions/{}\".format(self._get_section_id(), self.grade_item_id)\n",
    "\n",
    "    # TODO: make sure this handles situation where there are no submissions\n",
    "    return [Submission(raw) for raw in sc.get(resource)['revision']]\n",
    "\n",
    "Assignment.get_submissions = get_submissions\n",
    "del get_submissions\n",
    "# End extension    \n",
    "\n",
    "submissions = []\n",
    "for a in assignments:\n",
    "    submissions += a.get_submissions()\n",
    "\n",
    "print(submissions)"
   ]
  },
  {
   "cell_type": "markdown",
   "metadata": {},
   "source": [
    "In the results above, note the concept of \"revision_id\". A student can submit multiple versions. Also note that we have a draft status. We must decide what to do with that information - do we return all revisions? Or just the latest? Or perhaps only completed work? For now, going to return all available data.\n",
    "\n",
    "Although there _are_ draft submissions, none are included in the result set. Reason unknown. However, we have decided that is acceptable - only need to report on the assignments that _have_ been submitted.\n",
    "\n",
    "### TODO:\n",
    "* Paging support"
   ]
  }
 ]
}