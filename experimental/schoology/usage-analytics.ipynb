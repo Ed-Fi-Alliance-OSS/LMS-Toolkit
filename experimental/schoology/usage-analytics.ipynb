{
 "metadata": {
  "language_info": {
   "codemirror_mode": {
    "name": "ipython",
    "version": 3
   },
   "file_extension": ".py",
   "mimetype": "text/x-python",
   "name": "python",
   "nbconvert_exporter": "python",
   "pygments_lexer": "ipython3",
   "version": "3.8.5-final"
  },
  "orig_nbformat": 2,
  "kernelspec": {
   "name": "python3",
   "display_name": "Python 3.8.5 64-bit ('.venv': venv)",
   "metadata": {
    "interpreter": {
     "hash": "11d9ed005b55ee36e61f7a2370ccfc624b1ae3c6c6c37280333ad113d445749b"
    }
   }
  }
 },
 "nbformat": 4,
 "nbformat_minor": 2,
 "cells": [
  {
   "cell_type": "markdown",
   "metadata": {},
   "source": [
    "# Schoology API Exploration\n",
    "\n",
    "Pull in settings from .env file."
   ]
  },
  {
   "cell_type": "code",
   "execution_count": 4,
   "metadata": {},
   "outputs": [],
   "source": [
    "from dotenv import load_dotenv\n",
    "load_dotenv()\n",
    "\n",
    "API_KEY = os.getenv(\"SCHOOLOGY_KEY\")\n",
    "API_SECRET = os.getenv(\"SCHOOLOGY_SECRET\")\n",
    "\n",
    "# Ed-Fi/MSDF users may have this env var set, which causes problems and is unnecessary for the code below\n",
    "os.environ[\"REQUESTS_CA_BUNDLE\"] = \"\""
   ]
  },
  {
   "cell_type": "markdown",
   "metadata": {},
   "source": [
    "Establish connection to the API"
   ]
  },
  {
   "cell_type": "code",
   "execution_count": 5,
   "metadata": {
    "tags": []
   },
   "outputs": [],
   "source": [
    "import schoolopy\n",
    "from prettyprinter import pprint\n",
    "\n",
    "sc = schoolopy.Schoology(schoolopy.Auth(API_KEY, API_SECRET), verbose = True)"
   ]
  },
  {
   "cell_type": "markdown",
   "metadata": {},
   "source": [
    "Pull in a list of courses"
   ]
  },
  {
   "cell_type": "code",
   "execution_count": 7,
   "metadata": {
    "tags": []
   },
   "outputs": [
    {
     "output_type": "stream",
     "name": "stdout",
     "text": "--> calling https://api.schoology.com/v1/courses?limit=20&start=0\n[\n    schoolopy.models.Course({\n        'id': 2941242684,\n        'title': 'English I',\n        'course_code': 'ENG-1',\n        'department': '',\n        'description': '',\n        'credits': 0,\n        'subject_area': 2,\n        'grade_level_range_start': 11,\n        'grade_level_range_end': 0,\n        'synced': 0\n    }),\n    schoolopy.models.Course({\n        'id': 2942191514,\n        'title': 'Algebra I',\n        'course_code': 'ALG-1',\n        'department': '',\n        'description': '',\n        'credits': 0,\n        'subject_area': 3,\n        'grade_level_range_start': 11,\n        'grade_level_range_end': 0,\n        'synced': 0\n    })\n]\n"
    }
   ],
   "source": [
    "courses = sc.get_courses()\n",
    "\n",
    "pprint(courses)"
   ]
  },
  {
   "cell_type": "markdown",
   "metadata": {},
   "source": [
    "Now pull in a list of all users"
   ]
  },
  {
   "cell_type": "code",
   "execution_count": 8,
   "metadata": {
    "tags": []
   },
   "outputs": [
    {
     "output_type": "stream",
     "name": "stdout",
     "text": "--> calling https://api.schoology.com/v1/users?limit=20&start=0\n[\n    {100032890, 'Archer', 'Mary'},\n    {'Brad', 'Banister', 99785799},\n    {'Stephen', 'Caldwell', 100032895},\n    {100032898, 'Christian', 'Kelley'},\n    {99588912, 'Stephen', 'Fuqua'},\n    {99785801, 'Gabrielle'},\n    {100032896, 'Hardy', 'Olivia'},\n    {100032891, 'Kyle', 'Hughes'},\n    {99515016, 'Eric', 'Jansson'},\n    {'Larry', 100032893, 'Mahoney'},\n    {'Peter', 100032892, 'Nash'},\n    {'Phillips', 'Roland', 100032894},\n    {100032899, 'Preston', 'Sara'},\n    {'Richmond Guzmán', 99785803, 'Luis'},\n    {'Micheal', 100032897, 'Turner'}\n]\n"
    }
   ],
   "source": [
    "users = sc.get_users()\n",
    "pprint([{u.id, u.name_first, u.name_last} for u in users])"
   ]
  },
  {
   "cell_type": "markdown",
   "metadata": {},
   "source": [
    "## Extract login and access data from Schoology\n",
    "\n",
    "_As a school district, I want to know if the student engaged with my my LMS and/or a particular course on a particular school day_\n",
    "\n",
    "A capture of these data points, or an assessment that these are not available:\n",
    "\n",
    "1. If a student logged into the LMS on a particular school day\n",
    "2. A metric of either how long the student was logged in or how many LMSresources (courses, assignments or other system entity) were accessed by a student on a particular day\n",
    "3. If a student logged into a particular LMS course on a particular school day\n",
    "4. A metric of either how long the student was logged in to a course or how many LMS resources in that course the student accessed on a particular day"
   ]
  },
  {
   "cell_type": "code",
   "execution_count": 10,
   "metadata": {
    "tags": []
   },
   "outputs": [
    {
     "output_type": "stream",
     "name": "stdout",
     "text": "--> calling https://api.schoology.com/v1/roles?limit=20&start=0\n--> calling https://api.schoology.com/v1/analytics/users/100032890?start_time=1598897619.450045&end_time=1598984019.450045&start=0&limit=20?limit=20&start=0\n--> calling https://api.schoology.com/v1/analytics/users/100032895?start_time=1598897619.450045&end_time=1598984019.450045&start=0&limit=20?limit=20&start=0\n--> calling https://api.schoology.com/v1/analytics/users/100032896?start_time=1598897619.450045&end_time=1598984019.450045&start=0&limit=20?limit=20&start=0\n--> calling https://api.schoology.com/v1/analytics/users/100032891?start_time=1598897619.450045&end_time=1598984019.450045&start=0&limit=20?limit=20&start=0\n--> calling https://api.schoology.com/v1/analytics/users/100032893?start_time=1598897619.450045&end_time=1598984019.450045&start=0&limit=20?limit=20&start=0\n--> calling https://api.schoology.com/v1/analytics/users/100032892?start_time=1598897619.450045&end_time=1598984019.450045&start=0&limit=20?limit=20&start=0\n--> calling https://api.schoology.com/v1/analytics/users/100032894?start_time=1598897619.450045&end_time=1598984019.450045&start=0&limit=20?limit=20&start=0\n--> calling https://api.schoology.com/v1/analytics/users/100032897?start_time=1598897619.450045&end_time=1598984019.450045&start=0&limit=20?limit=20&start=0\n[\n    {\n        'First': 'Mary',\n        'Last': 'Archer',\n        'Actions': 'null'\n    },\n    {\n        'First': 'Stephen',\n        'Last': 'Caldwell',\n        'Actions': 'null'\n    },\n    {\n        'First': 'Olivia',\n        'Last': 'Hardy',\n        'Actions': 'null'\n    },\n    {\n        'First': 'Kyle',\n        'Last': 'Hughes',\n        'Actions': 'null'\n    },\n    {\n        'First': 'Larry',\n        'Last': 'Mahoney',\n        'Actions': 'null'\n    },\n    {\n        'First': 'Peter',\n        'Last': 'Nash',\n        'Actions': 'null'\n    },\n    {\n        'First': 'Roland',\n        'Last': 'Phillips',\n        'Actions': 'null'\n    },\n    {\n        'First': 'Micheal',\n        'Last': 'Turner',\n        'Actions': 'null'\n    }\n]\n"
    }
   ],
   "source": [
    "# Find available roles so that we can filter out teachers and admins\n",
    "roles = sc.get_roles()\n",
    "\n",
    "ROLE_NAME_STUDENT = \"Student\"\n",
    "try:\n",
    "    role_id_student = next(r.id for r in roles if r.title == ROLE_NAME_STUDENT)\n",
    "    students = [u for u in users if u.role_id == role_id_student]\n",
    "\n",
    "    from datetime import datetime, timedelta\n",
    "    end_time = datetime.now()\n",
    "    start_time = end_time - timedelta(days=1)\n",
    "\n",
    "    get_actions = lambda uid : sc.get_user_actions(uid, datetime.timestamp(start_time), datetime.timestamp(end_time))\n",
    "    \n",
    "    import json\n",
    "    actions = [{'First':s.name_first, 'Last':s.name_last, 'Actions':json.dumps(get_actions(s.uid))} for s in students]\n",
    "    pprint(actions)\n",
    "except StopIteration:\n",
    "    print(\"Role '{role}' does not exist.\".format(role=ROLE_NAME_STUDENT))"
   ]
  },
  {
   "cell_type": "markdown",
   "metadata": {},
   "source": [
    "No analytics available. Have tried many different settings in Schoology, multiple users's key & secret, and cannot find any reason for this. Problems is also born out directly in the site itself: Usage Analytics page returns nothing. \n",
    "\n",
    "**UPDATE**: Schoology confirmed that this API is no longer active and they just haven't updated their documentation. Now must get a usage report through the web application. The next cells demonstrate opening and accessing one of these usage reports. The files are gzipped when downloaded, so the first step will be to unzip the file, and then we can read into a DataFrame."
   ]
  },
  {
   "cell_type": "code",
   "execution_count": 5,
   "metadata": {},
   "outputs": [
    {
     "output_type": "display_data",
     "data": {
      "text/plain": "<IPython.core.display.Markdown object>",
      "text/markdown": "## First Five Lines"
     },
     "metadata": {}
    },
    {
     "output_type": "display_data",
     "data": {
      "text/plain": "      role_name  user_building_id  ... timestamp time spent (seconds)\n0       Student        2908525646  ...     17:28                  NaN\n1       Student        2908525646  ...     17:28                  NaN\n2       Student        2908525646  ...     17:29                  NaN\n3       Student        2908525646  ...     17:29                  NaN\n4  System Admin        2908525646  ...     17:31                  NaN\n\n[5 rows x 34 columns]",
      "text/html": "<div>\n<style scoped>\n    .dataframe tbody tr th:only-of-type {\n        vertical-align: middle;\n    }\n\n    .dataframe tbody tr th {\n        vertical-align: top;\n    }\n\n    .dataframe thead th {\n        text-align: right;\n    }\n</style>\n<table border=\"1\" class=\"dataframe\">\n  <thead>\n    <tr style=\"text-align: right;\">\n      <th></th>\n      <th>role_name</th>\n      <th>user_building_id</th>\n      <th>user_building_name</th>\n      <th>username</th>\n      <th>schoology_user_id</th>\n      <th>unique_user_id</th>\n      <th>action_type</th>\n      <th>item_type</th>\n      <th>item_id</th>\n      <th>item_name</th>\n      <th>course_name</th>\n      <th>course_code</th>\n      <th>section_name</th>\n      <th>last_event_timestamp</th>\n      <th>event_count</th>\n      <th>role_id</th>\n      <th>user_building_code</th>\n      <th>last_name</th>\n      <th>first_name</th>\n      <th>device_type</th>\n      <th>item_building_id</th>\n      <th>item_building_name</th>\n      <th>item_building_code</th>\n      <th>item_parent_type</th>\n      <th>group_id</th>\n      <th>group_name</th>\n      <th>course_id</th>\n      <th>section_id</th>\n      <th>section_school_code</th>\n      <th>section_code</th>\n      <th>month</th>\n      <th>date</th>\n      <th>timestamp</th>\n      <th>time spent (seconds)</th>\n    </tr>\n  </thead>\n  <tbody>\n    <tr>\n      <th>0</th>\n      <td>Student</td>\n      <td>2908525646</td>\n      <td>Ed-Fi Alliance - Grand Bend High school</td>\n      <td>kyle.hughes</td>\n      <td>100032891</td>\n      <td>604874.0</td>\n      <td>CREATE</td>\n      <td>SESSION</td>\n      <td>NaN</td>\n      <td>NaN</td>\n      <td>NaN</td>\n      <td>NaN</td>\n      <td>NaN</td>\n      <td>2020-11-04 17:28:43.097</td>\n      <td>1</td>\n      <td>796380</td>\n      <td>NaN</td>\n      <td>Hughes</td>\n      <td>Kyle</td>\n      <td>WEB</td>\n      <td>2908525646</td>\n      <td>Ed-Fi Alliance - Grand Bend High school</td>\n      <td>NaN</td>\n      <td>USER</td>\n      <td>NaN</td>\n      <td>NaN</td>\n      <td>NaN</td>\n      <td>NaN</td>\n      <td>NaN</td>\n      <td>NaN</td>\n      <td>11</td>\n      <td>11/04/2020</td>\n      <td>17:28</td>\n      <td>NaN</td>\n    </tr>\n    <tr>\n      <th>1</th>\n      <td>Student</td>\n      <td>2908525646</td>\n      <td>Ed-Fi Alliance - Grand Bend High school</td>\n      <td>kyle.hughes</td>\n      <td>100032891</td>\n      <td>604874.0</td>\n      <td>UPDATE</td>\n      <td>SESSION</td>\n      <td>NaN</td>\n      <td>NaN</td>\n      <td>NaN</td>\n      <td>NaN</td>\n      <td>NaN</td>\n      <td>2020-11-04 17:28:43.113</td>\n      <td>1</td>\n      <td>796380</td>\n      <td>NaN</td>\n      <td>Hughes</td>\n      <td>Kyle</td>\n      <td>WEB</td>\n      <td>2908525646</td>\n      <td>Ed-Fi Alliance - Grand Bend High school</td>\n      <td>NaN</td>\n      <td>USER</td>\n      <td>NaN</td>\n      <td>NaN</td>\n      <td>NaN</td>\n      <td>NaN</td>\n      <td>NaN</td>\n      <td>NaN</td>\n      <td>11</td>\n      <td>11/04/2020</td>\n      <td>17:28</td>\n      <td>NaN</td>\n    </tr>\n    <tr>\n      <th>2</th>\n      <td>Student</td>\n      <td>2908525646</td>\n      <td>Ed-Fi Alliance - Grand Bend High school</td>\n      <td>kyle.hughes</td>\n      <td>100032891</td>\n      <td>604874.0</td>\n      <td>SUBMIT</td>\n      <td>ASSIGNMENT</td>\n      <td>2.942244e+09</td>\n      <td>Redundancy in War and Peace</td>\n      <td>English I</td>\n      <td>ENG-1</td>\n      <td>English I</td>\n      <td>2020-11-04 17:29:44.674</td>\n      <td>1</td>\n      <td>796380</td>\n      <td>NaN</td>\n      <td>Hughes</td>\n      <td>Kyle</td>\n      <td>WEB</td>\n      <td>2908525646</td>\n      <td>Ed-Fi Alliance - Grand Bend High school</td>\n      <td>NaN</td>\n      <td>COURSE</td>\n      <td>NaN</td>\n      <td>NaN</td>\n      <td>2.941243e+09</td>\n      <td>2.941243e+09</td>\n      <td>NaN</td>\n      <td>ENG-1-1</td>\n      <td>11</td>\n      <td>11/04/2020</td>\n      <td>17:29</td>\n      <td>NaN</td>\n    </tr>\n    <tr>\n      <th>3</th>\n      <td>Student</td>\n      <td>2908525646</td>\n      <td>Ed-Fi Alliance - Grand Bend High school</td>\n      <td>kyle.hughes</td>\n      <td>100032891</td>\n      <td>604874.0</td>\n      <td>READ</td>\n      <td>ASSIGNMENT</td>\n      <td>2.942244e+09</td>\n      <td>Redundancy in War and Peace</td>\n      <td>English I</td>\n      <td>ENG-1</td>\n      <td>English I</td>\n      <td>2020-11-04 17:29:44.968</td>\n      <td>3</td>\n      <td>796380</td>\n      <td>NaN</td>\n      <td>Hughes</td>\n      <td>Kyle</td>\n      <td>WEB</td>\n      <td>2908525646</td>\n      <td>Ed-Fi Alliance - Grand Bend High school</td>\n      <td>NaN</td>\n      <td>COURSE</td>\n      <td>NaN</td>\n      <td>NaN</td>\n      <td>2.941243e+09</td>\n      <td>2.941243e+09</td>\n      <td>NaN</td>\n      <td>ENG-1-1</td>\n      <td>11</td>\n      <td>11/04/2020</td>\n      <td>17:29</td>\n      <td>NaN</td>\n    </tr>\n    <tr>\n      <th>4</th>\n      <td>System Admin</td>\n      <td>2908525646</td>\n      <td>Ed-Fi Alliance - Grand Bend High school</td>\n      <td>stephen.fuqua</td>\n      <td>99588912</td>\n      <td>111111.0</td>\n      <td>CREATE</td>\n      <td>SESSION</td>\n      <td>NaN</td>\n      <td>NaN</td>\n      <td>NaN</td>\n      <td>NaN</td>\n      <td>NaN</td>\n      <td>2020-11-04 17:31:18.406</td>\n      <td>1</td>\n      <td>796378</td>\n      <td>NaN</td>\n      <td>Fuqua</td>\n      <td>Stephen</td>\n      <td>WEB</td>\n      <td>2908525646</td>\n      <td>Ed-Fi Alliance - Grand Bend High school</td>\n      <td>NaN</td>\n      <td>USER</td>\n      <td>NaN</td>\n      <td>NaN</td>\n      <td>NaN</td>\n      <td>NaN</td>\n      <td>NaN</td>\n      <td>NaN</td>\n      <td>11</td>\n      <td>11/04/2020</td>\n      <td>17:31</td>\n      <td>NaN</td>\n    </tr>\n  </tbody>\n</table>\n</div>"
     },
     "metadata": {}
    },
    {
     "output_type": "display_data",
     "data": {
      "text/plain": "<IPython.core.display.Markdown object>",
      "text/markdown": "## System sign-in events"
     },
     "metadata": {}
    },
    {
     "output_type": "display_data",
     "data": {
      "text/plain": "       role_name       username  schoology_user_id     last_event_timestamp\n0        Student    kyle.hughes          100032891  2020-11-04 17:28:43.097\n4   System Admin  stephen.fuqua           99588912  2020-11-04 17:31:18.406\n8        Student    mary.archer          100032890  2020-11-04 20:05:32.084\n18  System Admin  stephen.fuqua           99588912  2020-11-05 20:22:33.714\n19  System Admin  stephen.fuqua           99588912  2020-11-09 20:39:22.945\n23       Student    mary.archer          100032890  2020-11-09 21:02:51.807\n29       Student    kyle.hughes          100032891  2020-11-10 20:19:44.649\n43  System Admin  stephen.fuqua           99588912  2020-11-11 14:57:54.229",
      "text/html": "<div>\n<style scoped>\n    .dataframe tbody tr th:only-of-type {\n        vertical-align: middle;\n    }\n\n    .dataframe tbody tr th {\n        vertical-align: top;\n    }\n\n    .dataframe thead th {\n        text-align: right;\n    }\n</style>\n<table border=\"1\" class=\"dataframe\">\n  <thead>\n    <tr style=\"text-align: right;\">\n      <th></th>\n      <th>role_name</th>\n      <th>username</th>\n      <th>schoology_user_id</th>\n      <th>last_event_timestamp</th>\n    </tr>\n  </thead>\n  <tbody>\n    <tr>\n      <th>0</th>\n      <td>Student</td>\n      <td>kyle.hughes</td>\n      <td>100032891</td>\n      <td>2020-11-04 17:28:43.097</td>\n    </tr>\n    <tr>\n      <th>4</th>\n      <td>System Admin</td>\n      <td>stephen.fuqua</td>\n      <td>99588912</td>\n      <td>2020-11-04 17:31:18.406</td>\n    </tr>\n    <tr>\n      <th>8</th>\n      <td>Student</td>\n      <td>mary.archer</td>\n      <td>100032890</td>\n      <td>2020-11-04 20:05:32.084</td>\n    </tr>\n    <tr>\n      <th>18</th>\n      <td>System Admin</td>\n      <td>stephen.fuqua</td>\n      <td>99588912</td>\n      <td>2020-11-05 20:22:33.714</td>\n    </tr>\n    <tr>\n      <th>19</th>\n      <td>System Admin</td>\n      <td>stephen.fuqua</td>\n      <td>99588912</td>\n      <td>2020-11-09 20:39:22.945</td>\n    </tr>\n    <tr>\n      <th>23</th>\n      <td>Student</td>\n      <td>mary.archer</td>\n      <td>100032890</td>\n      <td>2020-11-09 21:02:51.807</td>\n    </tr>\n    <tr>\n      <th>29</th>\n      <td>Student</td>\n      <td>kyle.hughes</td>\n      <td>100032891</td>\n      <td>2020-11-10 20:19:44.649</td>\n    </tr>\n    <tr>\n      <th>43</th>\n      <td>System Admin</td>\n      <td>stephen.fuqua</td>\n      <td>99588912</td>\n      <td>2020-11-11 14:57:54.229</td>\n    </tr>\n  </tbody>\n</table>\n</div>"
     },
     "metadata": {}
    }
   ],
   "source": [
    "# note that the reference input file is only on the developer's \n",
    "# computer and will not be kept in source control.\n",
    "import os\n",
    "from gzip import open as gz_open\n",
    "import pandas as pd\n",
    "\n",
    "input_file = os.path.join(\"..\", \"..\", \"src\", \"schoology-extractor\", \"data\", \"usage-input\", \"42137161-444c-4f09-b450-6410605b8365000.csv.gz\")\n",
    "assert os.path.exists(input_file)\n",
    "\n",
    "df: pd.DataFrame\n",
    "with gz_open(input_file) as file:\n",
    "    df = pd.read_csv(file)\n",
    "\n",
    "from IPython.display import display, Markdown\n",
    "df.drop(columns=\"email\", inplace=True)\n",
    "display(Markdown(\"## First Five Lines\"))\n",
    "display(df.head())\n",
    "\n",
    "display(Markdown(\"## System sign-in events\"))\n",
    "filter = (\n",
    "    (df[\"action_type\"] == \"CREATE\") &\n",
    "    (df[\"item_type\"] == \"SESSION\")\n",
    ")\n",
    "display(df[filter][[\"role_name\", \"username\", \"schoology_user_id\", \"last_event_timestamp\"]])\n",
    "\n"
   ]
  },
  {
   "cell_type": "code",
   "execution_count": null,
   "metadata": {},
   "outputs": [],
   "source": []
  }
 ]
}