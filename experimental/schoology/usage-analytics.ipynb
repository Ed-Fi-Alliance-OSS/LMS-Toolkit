{
 "metadata": {
  "language_info": {
   "codemirror_mode": {
    "name": "ipython",
    "version": 3
   },
   "file_extension": ".py",
   "mimetype": "text/x-python",
   "name": "python",
   "nbconvert_exporter": "python",
   "pygments_lexer": "ipython3",
   "version": "3.8.5-final"
  },
  "orig_nbformat": 2,
  "kernelspec": {
   "name": "python_defaultSpec_1598983938949",
   "display_name": "Python 3.8.5 64-bit ('schoology-Nh2XWbVc': venv)"
  }
 },
 "nbformat": 4,
 "nbformat_minor": 2,
 "cells": [
  {
   "cell_type": "markdown",
   "metadata": {},
   "source": [
    "# Schoology API Exploration\n",
    "\n",
    "Pull in settings from .env file."
   ]
  },
  {
   "cell_type": "code",
   "execution_count": 4,
   "metadata": {},
   "outputs": [],
   "source": [
    "from dotenv import load_dotenv\n",
    "load_dotenv()\n",
    "\n",
    "API_KEY = os.getenv(\"SCHOOLOGY_KEY\")\n",
    "API_SECRET = os.getenv(\"SCHOOLOGY_SECRET\")\n",
    "\n",
    "# Ed-Fi/MSDF users may have this env var set, which causes problems and is unnecessary for the code below\n",
    "os.environ[\"REQUESTS_CA_BUNDLE\"] = \"\""
   ]
  },
  {
   "cell_type": "markdown",
   "metadata": {},
   "source": [
    "Establish connection to the API"
   ]
  },
  {
   "cell_type": "code",
   "execution_count": 5,
   "metadata": {
    "tags": []
   },
   "outputs": [],
   "source": [
    "import schoolopy\n",
    "from prettyprinter import pprint\n",
    "\n",
    "sc = schoolopy.Schoology(schoolopy.Auth(API_KEY, API_SECRET), verbose = True)"
   ]
  },
  {
   "cell_type": "markdown",
   "metadata": {},
   "source": [
    "Pull in a list of courses"
   ]
  },
  {
   "cell_type": "code",
   "execution_count": 7,
   "metadata": {
    "tags": []
   },
   "outputs": [
    {
     "output_type": "stream",
     "name": "stdout",
     "text": "--> calling https://api.schoology.com/v1/courses?limit=20&start=0\n[\n    schoolopy.models.Course({\n        'id': 2941242684,\n        'title': 'English I',\n        'course_code': 'ENG-1',\n        'department': '',\n        'description': '',\n        'credits': 0,\n        'subject_area': 2,\n        'grade_level_range_start': 11,\n        'grade_level_range_end': 0,\n        'synced': 0\n    }),\n    schoolopy.models.Course({\n        'id': 2942191514,\n        'title': 'Algebra I',\n        'course_code': 'ALG-1',\n        'department': '',\n        'description': '',\n        'credits': 0,\n        'subject_area': 3,\n        'grade_level_range_start': 11,\n        'grade_level_range_end': 0,\n        'synced': 0\n    })\n]\n"
    }
   ],
   "source": [
    "courses = sc.get_courses()\n",
    "\n",
    "pprint(courses)"
   ]
  },
  {
   "cell_type": "markdown",
   "metadata": {},
   "source": [
    "Now pull in a list of all users"
   ]
  },
  {
   "cell_type": "code",
   "execution_count": 8,
   "metadata": {
    "tags": []
   },
   "outputs": [
    {
     "output_type": "stream",
     "name": "stdout",
     "text": "--> calling https://api.schoology.com/v1/users?limit=20&start=0\n[\n    {100032890, 'Archer', 'Mary'},\n    {'Brad', 'Banister', 99785799},\n    {'Stephen', 'Caldwell', 100032895},\n    {100032898, 'Christian', 'Kelley'},\n    {99588912, 'Stephen', 'Fuqua'},\n    {99785801, 'Gabrielle'},\n    {100032896, 'Hardy', 'Olivia'},\n    {100032891, 'Kyle', 'Hughes'},\n    {99515016, 'Eric', 'Jansson'},\n    {'Larry', 100032893, 'Mahoney'},\n    {'Peter', 100032892, 'Nash'},\n    {'Phillips', 'Roland', 100032894},\n    {100032899, 'Preston', 'Sara'},\n    {'Richmond Guzmán', 99785803, 'Luis'},\n    {'Micheal', 100032897, 'Turner'}\n]\n"
    }
   ],
   "source": [
    "users = sc.get_users()\n",
    "pprint([{u.id, u.name_first, u.name_last} for u in users])"
   ]
  },
  {
   "cell_type": "markdown",
   "metadata": {},
   "source": [
    "## Extract login and access data from Schoology\n",
    "\n",
    "_As a school district, I want to know if the student engaged with my my LMS and/or a particular course on a particular school day_\n",
    "\n",
    "A capture of these data points, or an assessment that these are not available:\n",
    "\n",
    "1. If a student logged into the LMS on a particular school day\n",
    "2. A metric of either how long the student was logged in or how many LMSresources (courses, assignments or other system entity) were accessed by a student on a particular day\n",
    "3. If a student logged into a particular LMS course on a particular school day\n",
    "4. A metric of either how long the student was logged in to a course or how many LMS resources in that course the student accessed on a particular day"
   ]
  },
  {
   "cell_type": "code",
   "execution_count": 10,
   "metadata": {
    "tags": []
   },
   "outputs": [
    {
     "output_type": "stream",
     "name": "stdout",
     "text": "--> calling https://api.schoology.com/v1/roles?limit=20&start=0\n--> calling https://api.schoology.com/v1/analytics/users/100032890?start_time=1598897619.450045&end_time=1598984019.450045&start=0&limit=20?limit=20&start=0\n--> calling https://api.schoology.com/v1/analytics/users/100032895?start_time=1598897619.450045&end_time=1598984019.450045&start=0&limit=20?limit=20&start=0\n--> calling https://api.schoology.com/v1/analytics/users/100032896?start_time=1598897619.450045&end_time=1598984019.450045&start=0&limit=20?limit=20&start=0\n--> calling https://api.schoology.com/v1/analytics/users/100032891?start_time=1598897619.450045&end_time=1598984019.450045&start=0&limit=20?limit=20&start=0\n--> calling https://api.schoology.com/v1/analytics/users/100032893?start_time=1598897619.450045&end_time=1598984019.450045&start=0&limit=20?limit=20&start=0\n--> calling https://api.schoology.com/v1/analytics/users/100032892?start_time=1598897619.450045&end_time=1598984019.450045&start=0&limit=20?limit=20&start=0\n--> calling https://api.schoology.com/v1/analytics/users/100032894?start_time=1598897619.450045&end_time=1598984019.450045&start=0&limit=20?limit=20&start=0\n--> calling https://api.schoology.com/v1/analytics/users/100032897?start_time=1598897619.450045&end_time=1598984019.450045&start=0&limit=20?limit=20&start=0\n[\n    {\n        'First': 'Mary',\n        'Last': 'Archer',\n        'Actions': 'null'\n    },\n    {\n        'First': 'Stephen',\n        'Last': 'Caldwell',\n        'Actions': 'null'\n    },\n    {\n        'First': 'Olivia',\n        'Last': 'Hardy',\n        'Actions': 'null'\n    },\n    {\n        'First': 'Kyle',\n        'Last': 'Hughes',\n        'Actions': 'null'\n    },\n    {\n        'First': 'Larry',\n        'Last': 'Mahoney',\n        'Actions': 'null'\n    },\n    {\n        'First': 'Peter',\n        'Last': 'Nash',\n        'Actions': 'null'\n    },\n    {\n        'First': 'Roland',\n        'Last': 'Phillips',\n        'Actions': 'null'\n    },\n    {\n        'First': 'Micheal',\n        'Last': 'Turner',\n        'Actions': 'null'\n    }\n]\n"
    }
   ],
   "source": [
    "# Find available roles so that we can filter out teachers and admins\n",
    "roles = sc.get_roles()\n",
    "\n",
    "ROLE_NAME_STUDENT = \"Student\"\n",
    "try:\n",
    "    role_id_student = next(r.id for r in roles if r.title == ROLE_NAME_STUDENT)\n",
    "    students = [u for u in users if u.role_id == role_id_student]\n",
    "\n",
    "    from datetime import datetime, timedelta\n",
    "    end_time = datetime.now()\n",
    "    start_time = end_time - timedelta(days=1)\n",
    "\n",
    "    get_actions = lambda uid : sc.get_user_actions(uid, datetime.timestamp(start_time), datetime.timestamp(end_time))\n",
    "    \n",
    "    import json\n",
    "    actions = [{'First':s.name_first, 'Last':s.name_last, 'Actions':json.dumps(get_actions(s.uid))} for s in students]\n",
    "    pprint(actions)\n",
    "except StopIteration:\n",
    "    print(\"Role '{role}' does not exist.\".format(role=ROLE_NAME_STUDENT))"
   ]
  },
  {
   "cell_type": "markdown",
   "metadata": {},
   "source": [
    "No analytics available. Have tried many different settings in Schoology, multiple users's key & secret, and cannot find any reason for this. Problems is also born out directly in the site itself: Usage Analytics page returns nothing. Have not been able to reach Schoology for help thus far."
   ]
  }
 ]
}