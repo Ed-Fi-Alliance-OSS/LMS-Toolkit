{
 "metadata": {
  "language_info": {
   "codemirror_mode": {
    "name": "ipython",
    "version": 3
   },
   "file_extension": ".py",
   "mimetype": "text/x-python",
   "name": "python",
   "nbconvert_exporter": "python",
   "pygments_lexer": "ipython3",
   "version": "3.8.5-final"
  },
  "orig_nbformat": 2,
  "kernelspec": {
   "name": "python_defaultSpec_1599796614929",
   "display_name": "Python 3.8.5 32-bit ('.venv': venv)"
  }
 },
 "nbformat": 4,
 "nbformat_minor": 2,
 "cells": [
  {
   "cell_type": "markdown",
   "metadata": {},
   "source": [
    "## FIZZ-21 Generate visualizations with the data from canvas"
   ]
  },
  {
   "cell_type": "markdown",
   "metadata": {},
   "source": [
    "Basic configuration and import csv files"
   ]
  },
  {
   "cell_type": "code",
   "execution_count": 1,
   "metadata": {
    "tags": []
   },
   "outputs": [],
   "source": [
    "import pandas as pd\n",
    "from dotenv import load_dotenv\n",
    "import os\n",
    "\n",
    "load_dotenv()\n",
    "os.chdir(os.getenv(\"ANALIZE_CSV_INPUT_PATH\"))\n",
    "\n",
    "assignments_df = pd.read_csv('assignments.csv')\n",
    "courses_df = pd.read_csv('courses.csv')\n",
    "enrollments_df = pd.read_csv('enrollments.csv')\n",
    "students_df = pd.read_csv('students.csv')\n",
    "submissions_df = pd.read_csv('submissions.csv')"
   ]
  },
  {
   "cell_type": "markdown",
   "metadata": {},
   "source": [
    "## Clean unnecessary rows"
   ]
  },
  {
   "cell_type": "code",
   "execution_count": 2,
   "metadata": {
    "tags": []
   },
   "outputs": [],
   "source": [
    "submissions_df = submissions_df[[\"id\", \"score\", \"assignment_id\", \"user_id\", \"late\", \"missing\", \"preview_url\"]]\n",
    "\n",
    "students_df = students_df[[\"id\", \"sortable_name\", \"email\"]]\n",
    "\n",
    "enrollments_df = enrollments_df[[\"user_id\", \"course_id\", \"type\"]]\n",
    "\n",
    "courses_df = courses_df[[\"id\", \"name\", \"course_code\"]]\n",
    "\n",
    "assignments_df = assignments_df[[\"id\", \"description\", \"due_at\", \"unlock_at\", \"lock_at\", \"course_id\", \"name\"]]"
   ]
  },
  {
   "cell_type": "markdown",
   "metadata": {},
   "source": [
    "## Join rows by id"
   ]
  },
  {
   "cell_type": "code",
   "execution_count": 3,
   "metadata": {
    "tags": []
   },
   "outputs": [
    {
     "output_type": "execute_result",
     "data": {
      "text/plain": "   user_id  course_id  assignment_id\n0       13         14              7\n1       13         14              3\n2       18         14              7\n3       18         14              3\n4       19         14              7",
      "text/html": "<div>\n<style scoped>\n    .dataframe tbody tr th:only-of-type {\n        vertical-align: middle;\n    }\n\n    .dataframe tbody tr th {\n        vertical-align: top;\n    }\n\n    .dataframe thead th {\n        text-align: right;\n    }\n</style>\n<table border=\"1\" class=\"dataframe\">\n  <thead>\n    <tr style=\"text-align: right;\">\n      <th></th>\n      <th>user_id</th>\n      <th>course_id</th>\n      <th>assignment_id</th>\n    </tr>\n  </thead>\n  <tbody>\n    <tr>\n      <th>0</th>\n      <td>13</td>\n      <td>14</td>\n      <td>7</td>\n    </tr>\n    <tr>\n      <th>1</th>\n      <td>13</td>\n      <td>14</td>\n      <td>3</td>\n    </tr>\n    <tr>\n      <th>2</th>\n      <td>18</td>\n      <td>14</td>\n      <td>7</td>\n    </tr>\n    <tr>\n      <th>3</th>\n      <td>18</td>\n      <td>14</td>\n      <td>3</td>\n    </tr>\n    <tr>\n      <th>4</th>\n      <td>19</td>\n      <td>14</td>\n      <td>7</td>\n    </tr>\n  </tbody>\n</table>\n</div>"
     },
     "metadata": {},
     "execution_count": 3
    }
   ],
   "source": [
    "student_assignments = pd.merge(enrollments_df, assignments_df, on=\"course_id\", how=\"inner\")\n",
    "student_assignments.drop([\"due_at\", \"unlock_at\", \"lock_at\", \"description\", \"name\", \"type\"], axis=1, inplace=True)\n",
    "student_assignments.rename({'id': 'assignment_id'}, axis=1, inplace=True)\n",
    "\n",
    "student_assignments.head()"
   ]
  },
  {
   "cell_type": "markdown",
   "metadata": {},
   "source": [
    "## Get students with missing assignments' information"
   ]
  },
  {
   "cell_type": "code",
   "execution_count": 4,
   "metadata": {
    "tags": []
   },
   "outputs": [
    {
     "output_type": "execute_result",
     "data": {
      "text/plain": "   user_id  assignment_id  submission_id        sortable_name  \\\n0       19              7            NaN  Hardy, Olivia Doris   \n1       20              7            NaN      Turner, Micheal   \n2       20              3            NaN      Turner, Micheal   \n3       14              5            NaN         Hughes, Kyle   \n4       16              6            NaN       Mahoney, Larry   \n5       15              6            NaN     Nash, Peter Ivan   \n6       17              5            NaN     Phillips, Roland   \n\n                            email  course_id assignment_name course_name  \\\n0     Olivia.Hardy@studentgps.org         14  ENG Homework 1   English I   \n1   Micheal.Turner@studentgps.org         14  ENG Homework 1   English I   \n2   Micheal.Turner@studentgps.org         14   ENG Reading 1   English I   \n3      Kyle.Hughes@studentgps.org         16  ALG Homework 1   Algebra I   \n4    Larry.Mahoney@studentgps.org         16  ALG Homework 2   Algebra I   \n5       Peter.Nash@studentgps.org         16  ALG Homework 2   Algebra I   \n6  Roland.Phillips@studentgps.org         16  ALG Homework 1   Algebra I   \n\n  course_code  \n0       ENG-1  \n1       ENG-1  \n2       ENG-1  \n3    03100500  \n4    03100500  \n5    03100500  \n6    03100500  ",
      "text/html": "<div>\n<style scoped>\n    .dataframe tbody tr th:only-of-type {\n        vertical-align: middle;\n    }\n\n    .dataframe tbody tr th {\n        vertical-align: top;\n    }\n\n    .dataframe thead th {\n        text-align: right;\n    }\n</style>\n<table border=\"1\" class=\"dataframe\">\n  <thead>\n    <tr style=\"text-align: right;\">\n      <th></th>\n      <th>user_id</th>\n      <th>assignment_id</th>\n      <th>submission_id</th>\n      <th>sortable_name</th>\n      <th>email</th>\n      <th>course_id</th>\n      <th>assignment_name</th>\n      <th>course_name</th>\n      <th>course_code</th>\n    </tr>\n  </thead>\n  <tbody>\n    <tr>\n      <th>0</th>\n      <td>19</td>\n      <td>7</td>\n      <td>NaN</td>\n      <td>Hardy, Olivia Doris</td>\n      <td>Olivia.Hardy@studentgps.org</td>\n      <td>14</td>\n      <td>ENG Homework 1</td>\n      <td>English I</td>\n      <td>ENG-1</td>\n    </tr>\n    <tr>\n      <th>1</th>\n      <td>20</td>\n      <td>7</td>\n      <td>NaN</td>\n      <td>Turner, Micheal</td>\n      <td>Micheal.Turner@studentgps.org</td>\n      <td>14</td>\n      <td>ENG Homework 1</td>\n      <td>English I</td>\n      <td>ENG-1</td>\n    </tr>\n    <tr>\n      <th>2</th>\n      <td>20</td>\n      <td>3</td>\n      <td>NaN</td>\n      <td>Turner, Micheal</td>\n      <td>Micheal.Turner@studentgps.org</td>\n      <td>14</td>\n      <td>ENG Reading 1</td>\n      <td>English I</td>\n      <td>ENG-1</td>\n    </tr>\n    <tr>\n      <th>3</th>\n      <td>14</td>\n      <td>5</td>\n      <td>NaN</td>\n      <td>Hughes, Kyle</td>\n      <td>Kyle.Hughes@studentgps.org</td>\n      <td>16</td>\n      <td>ALG Homework 1</td>\n      <td>Algebra I</td>\n      <td>03100500</td>\n    </tr>\n    <tr>\n      <th>4</th>\n      <td>16</td>\n      <td>6</td>\n      <td>NaN</td>\n      <td>Mahoney, Larry</td>\n      <td>Larry.Mahoney@studentgps.org</td>\n      <td>16</td>\n      <td>ALG Homework 2</td>\n      <td>Algebra I</td>\n      <td>03100500</td>\n    </tr>\n    <tr>\n      <th>5</th>\n      <td>15</td>\n      <td>6</td>\n      <td>NaN</td>\n      <td>Nash, Peter Ivan</td>\n      <td>Peter.Nash@studentgps.org</td>\n      <td>16</td>\n      <td>ALG Homework 2</td>\n      <td>Algebra I</td>\n      <td>03100500</td>\n    </tr>\n    <tr>\n      <th>6</th>\n      <td>17</td>\n      <td>5</td>\n      <td>NaN</td>\n      <td>Phillips, Roland</td>\n      <td>Roland.Phillips@studentgps.org</td>\n      <td>16</td>\n      <td>ALG Homework 1</td>\n      <td>Algebra I</td>\n      <td>03100500</td>\n    </tr>\n  </tbody>\n</table>\n</div>"
     },
     "metadata": {},
     "execution_count": 4
    }
   ],
   "source": [
    "student_assignments_submissions = pd.merge(student_assignments, submissions_df, on=[\"user_id\", \"assignment_id\"], how=\"left\")\n",
    "student_assignments_submissions.drop([\"preview_url\",\"late\",\"missing\",\"score\"], axis=1, inplace= True)\n",
    "student_assignments_submissions.rename({'id': 'submission_id'}, axis=1, inplace=True)\n",
    "student_assignments_submissions = student_assignments_submissions[student_assignments_submissions['submission_id'].isnull()]\n",
    "\n",
    "student_with_missing_submissions = pd.merge(\n",
    "    student_assignments_submissions, \n",
    "    students_df.rename({'id': 'user_id'}, axis=1),\n",
    "    on=\"user_id\", how=\"left\")\n",
    "\n",
    "student_with_missing_submissions = pd.merge(\n",
    "    student_with_missing_submissions,\n",
    "    assignments_df.rename({'id': 'assignment_id'}, axis=1),\n",
    "    on=\"assignment_id\", how=\"left\")\n",
    "\n",
    "student_with_missing_submissions.rename({'course_id_y': 'course_id'}, axis=1, inplace=True)\n",
    "\n",
    "student_with_missing_submissions = pd.merge(\n",
    "    student_with_missing_submissions,\n",
    "    courses_df.rename({'id': 'course_id'}, axis=1),\n",
    "    on=\"course_id\", how=\"left\")\n",
    "\n",
    "\n",
    "student_with_missing_submissions.drop(\n",
    "    [\"course_id_x\", \"due_at\", \"unlock_at\", \"lock_at\", \"description\", \"description\"],\n",
    "    axis=1, inplace=True)\n",
    "\n",
    "student_with_missing_submissions.rename({'name_x': 'assignment_name', 'name_y': 'course_name'}, axis=1, inplace=True)\n",
    "\n",
    "output_path = os.getenv(\"ANALIZE_CSV_OUTPUT_PATH\")+\"\\students_with_missing_submissions.csv\"\n",
    "\n",
    "student_with_missing_submissions.to_csv(output_path,index=False)\n",
    "student_with_missing_submissions.head(20)"
   ]
  },
  {
   "cell_type": "code",
   "execution_count": null,
   "metadata": {},
   "outputs": [],
   "source": []
  }
 ]
}