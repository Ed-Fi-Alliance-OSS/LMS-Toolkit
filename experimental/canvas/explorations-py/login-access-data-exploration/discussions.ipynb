{
 "metadata": {
  "language_info": {
   "codemirror_mode": {
    "name": "ipython",
    "version": 3
   },
   "file_extension": ".py",
   "mimetype": "text/x-python",
   "name": "python",
   "nbconvert_exporter": "python",
   "pygments_lexer": "ipython3",
   "version": "3.8.5-final"
  },
  "orig_nbformat": 2,
  "kernelspec": {
   "name": "python_defaultSpec_1599852352422",
   "display_name": "Python 3.8.5 32-bit ('.venv': venv)"
  }
 },
 "nbformat": 4,
 "nbformat_minor": 2,
 "cells": [
  {
   "cell_type": "markdown",
   "metadata": {},
   "source": [
    "# Digging Into Discussion Data\n",
    "\n",
    "Discussion data in Canvas might be used by a teacher for a participation grade, or to identify students who are less engaged and target interventions to them.\n",
    "\n",
    "## Getting Started\n",
    "\n",
    "Initialize access to the Canvas API and setup helper function(s)."
   ]
  },
  {
   "cell_type": "code",
   "execution_count": 1,
   "metadata": {
    "tags": []
   },
   "outputs": [],
   "source": [
    "from canvasapi import Canvas, exceptions\n",
    "import os\n",
    "import pprint\n",
    "from datetime import datetime\n",
    "from dotenv import load_dotenv\n",
    "load_dotenv()\n",
    "\n",
    "API_URL = os.getenv(\"CANVAS_BASE_URL\")\n",
    "API_KEY = os.getenv(\"CANVAS_ACCESS_TOKEN\")\n",
    "OUTPUT_PATH = os.getenv(\"LOGIN_ACCESS_DATA_OUTPUT_PATH\")\n",
    "\n",
    "canvas = Canvas(API_URL, API_KEY)\n",
    "accounts = canvas.get_accounts()\n",
    "\n",
    "def flatten(pages):\n",
    "    flat = []\n",
    "    for p in pages:\n",
    "        for p2 in p:\n",
    "            flat.append(p2)\n",
    "    return flat"
   ]
  },
  {
   "cell_type": "markdown",
   "metadata": {},
   "source": [
    "Get all courses so that we can look through them for discussion topics."
   ]
  },
  {
   "cell_type": "code",
   "execution_count": 2,
   "metadata": {
    "tags": []
   },
   "outputs": [
    {
     "output_type": "stream",
     "name": "stdout",
     "text": "[{'English I', 14}, {16, 'Algebra I'}]\n"
    }
   ],
   "source": [
    "courses = accounts[0].get_courses()\n",
    "pprint.pprint([{u.name, u. id} for u in courses])"
   ]
  },
  {
   "cell_type": "markdown",
   "metadata": {},
   "source": [
    "## Discussion Topics\n",
    "\n",
    "The response is a nested set of pages; it is easier to work with them if they are \"flattened\" from a two dimensional array to a one dimensional array."
   ]
  },
  {
   "cell_type": "code",
   "execution_count": 3,
   "metadata": {
    "tags": []
   },
   "outputs": [
    {
     "output_type": "stream",
     "name": "stdout",
     "text": "DiscussionTopic(_requester=<canvasapi.requester.Requester object at 0x05482F10>, id=3, title=ಠ_ಠ, last_reply_at=2020-08-27T13:15:53Z, last_reply_at_date=2020-08-27 13:15:53+00:00, created_at=2020-08-27T13:15:53Z, created_at_date=2020-08-27 13:15:53+00:00, delayed_post_at=None, posted_at=2020-08-27T13:15:53Z, posted_at_date=2020-08-27 13:15:53+00:00, assignment_id=None, root_topic_id=None, position=None, podcast_has_student_posts=False, discussion_type=side_comment, lock_at=None, allow_rating=False, only_graders_can_rate=False, sort_by_rating=False, is_section_specific=False, user_name=Kyle Hughes, discussion_subentry_count=0, permissions={'attach': True, 'update': True, 'reply': True, 'delete': True}, require_initial_post=None, user_can_see_posts=True, podcast_url=None, read_state=unread, unread_count=0, subscribed=False, attachments=[], published=True, can_unpublish=True, locked=False, can_lock=True, comments_disabled=False, author={'id': 14, 'display_name': 'Kyle Hughes', 'avatar_image_url': 'http://fizz-canvas.centralus.cloudapp.azure.com/images/messages/avatar-50.png', 'html_url': 'http://fizz-canvas.centralus.cloudapp.azure.com/courses/14/users/14', 'pronouns': None}, html_url=http://fizz-canvas.centralus.cloudapp.azure.com/courses/14/discussion_topics/3, url=http://fizz-canvas.centralus.cloudapp.azure.com/courses/14/discussion_topics/3, pinned=False, group_category_id=None, can_group=True, topic_children=[], group_topic_children=[], locked_for_user=False, message=<p>༼ つ ◕_◕ ༽つ</p>, todo_date=None, course_id=14)\n"
    }
   ],
   "source": [
    "topics = [c.get_discussion_topics() for c in courses]\n",
    "\n",
    "flat_topics = flatten(topics)\n",
    "pprint.pprint(flat_topics[0])"
   ]
  },
  {
   "cell_type": "markdown",
   "metadata": {},
   "source": [
    "Restructure the above responses in a JSON object that contains only the properties we care about."
   ]
  },
  {
   "cell_type": "code",
   "execution_count": 4,
   "metadata": {
    "tags": []
   },
   "outputs": [
    {
     "output_type": "stream",
     "name": "stdout",
     "text": "'ಠ_ಠ'\n'My Second Discussion Topic'\n'Hi everyone!'\n"
    },
    {
     "output_type": "execute_result",
     "data": {
      "text/plain": "[None, None, None]"
     },
     "metadata": {},
     "execution_count": 4
    }
   ],
   "source": [
    "topic_data = [{'title': t.title, 'date': t.created_at_date, 'author_name': t.user_name, 'author_id': t.author['id'], 'message': t.message} for t in flat_topics]\n",
    "[pprint.pprint(t.title) for t in flat_topics]"
   ]
  },
  {
   "cell_type": "markdown",
   "metadata": {},
   "source": [
    "## Pandas: Word Counts\n",
    "\n",
    "Introducing use of Pandas. Use it to do a count of spaces in the message, as a rough estimate of the number of words. Then remove the message from the new Pandas data frame object so that the message is not including in further output."
   ]
  },
  {
   "cell_type": "code",
   "execution_count": 5,
   "metadata": {
    "tags": []
   },
   "outputs": [
    {
     "output_type": "stream",
     "name": "stdout",
     "text": "title                      date  author_name  \\\n0                         ಠ_ಠ 2020-08-27 13:15:53+00:00  Kyle Hughes   \n1  My Second Discussion Topic 2020-08-27 13:12:28+00:00  Mary Archer   \n2                Hi everyone! 2020-08-27 13:11:38+00:00  Mary Archer   \n\n   author_id  word_count  \n0         14           4  \n1         13          99  \n2         13         111  \n"
    }
   ],
   "source": [
    "import pandas as pd\n",
    "df = pd.DataFrame(data=topic_data)\n",
    "\n",
    "df['word_count'] = df['message'].str.count(' ') + 1\n",
    "\n",
    "df = df.drop(['message'], axis=1)\n",
    "\n",
    "pprint.pprint(df)"
   ]
  },
  {
   "cell_type": "markdown",
   "metadata": {},
   "source": [
    "## Pandas: Write CSV File\n",
    "\n",
    "Write the data frame to a CSV file."
   ]
  },
  {
   "cell_type": "code",
   "execution_count": 6,
   "metadata": {},
   "outputs": [],
   "source": [
    "df.to_csv(f\"{OUTPUT_PATH}/discussions.csv\")"
   ]
  },
  {
   "cell_type": "markdown",
   "metadata": {},
   "source": [
    "Open and read the file just to prove that it worked"
   ]
  },
  {
   "cell_type": "code",
   "execution_count": 7,
   "metadata": {
    "tags": []
   },
   "outputs": [
    {
     "output_type": "stream",
     "name": "stdout",
     "text": ",title,date,author_name,author_id,word_count\n0,à² _à² ,2020-08-27 13:15:53+00:00,Kyle Hughes,14,4\n1,My Second Discussion Topic,2020-08-27 13:12:28+00:00,Mary Archer,13,99\n2,Hi everyone!,2020-08-27 13:11:38+00:00,Mary Archer,13,111\n\n"
    }
   ],
   "source": [
    "print(open(f\"{OUTPUT_PATH}/discussions.csv\", 'r').read())"
   ]
  },
  {
   "cell_type": "markdown",
   "metadata": {},
   "source": [
    "## What's Next?\n",
    "\n",
    "* The messages contain HTML, which artificially inflate word count. Look for a module, or just write a regex, to strip out HTML before doing the word count.\n",
    "* Are there any other elements in the message that should be \"normalized\" away before counting?\n",
    "* Did the discussion topic elicit replies?\n",
    "* And were those replies from someone other than the original author?\n",
    "* For each should we list out the replies and likewise the word counts?"
   ]
  }
 ]
}