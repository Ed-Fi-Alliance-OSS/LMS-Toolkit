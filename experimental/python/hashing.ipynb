{
 "metadata": {
  "language_info": {
   "codemirror_mode": {
    "name": "ipython",
    "version": 3
   },
   "file_extension": ".py",
   "mimetype": "text/x-python",
   "name": "python",
   "nbconvert_exporter": "python",
   "pygments_lexer": "ipython3",
   "version": "3.8.5-final"
  },
  "orig_nbformat": 2,
  "kernelspec": {
   "name": "python3",
   "display_name": "Python 3"
  }
 },
 "nbformat": 4,
 "nbformat_minor": 2,
 "cells": [
  {
   "cell_type": "code",
   "execution_count": 7,
   "metadata": {},
   "outputs": [
    {
     "output_type": "display_data",
     "data": {
      "text/plain": "   FIPS Admin2 Province_State Country_Region          Last_Update       Lat  \\\n0   NaN    NaN            NaN    Afghanistan  2020-11-16 05:25:57  33.93911   \n1   NaN    NaN            NaN        Albania  2020-11-16 05:25:57  41.15330   \n2   NaN    NaN            NaN        Algeria  2020-11-16 05:25:57  28.03390   \n3   NaN    NaN            NaN        Andorra  2020-11-16 05:25:57  42.50630   \n4   NaN    NaN            NaN         Angola  2020-11-16 05:25:57 -11.20270   \n\n       Long_  Confirmed  Deaths  Recovered   Active Combined_Key  \\\n0  67.709953      43240    1617      35092   6531.0  Afghanistan   \n1  20.168300      27830     623      12889  14318.0      Albania   \n2   1.659600      67679    2154      44633  20892.0      Algeria   \n3   1.521800       5872      76       4747   1049.0      Andorra   \n4  17.873900      13451     322       6444   6685.0       Angola   \n\n   Incident_Rate  Case_Fatality_Ratio  \n0     111.075887             3.739593  \n1     967.058169             2.238591  \n2     154.338404             3.182671  \n3    7599.818805             1.294278  \n4      40.926460             2.393874  ",
      "text/html": "<div>\n<style scoped>\n    .dataframe tbody tr th:only-of-type {\n        vertical-align: middle;\n    }\n\n    .dataframe tbody tr th {\n        vertical-align: top;\n    }\n\n    .dataframe thead th {\n        text-align: right;\n    }\n</style>\n<table border=\"1\" class=\"dataframe\">\n  <thead>\n    <tr style=\"text-align: right;\">\n      <th></th>\n      <th>FIPS</th>\n      <th>Admin2</th>\n      <th>Province_State</th>\n      <th>Country_Region</th>\n      <th>Last_Update</th>\n      <th>Lat</th>\n      <th>Long_</th>\n      <th>Confirmed</th>\n      <th>Deaths</th>\n      <th>Recovered</th>\n      <th>Active</th>\n      <th>Combined_Key</th>\n      <th>Incident_Rate</th>\n      <th>Case_Fatality_Ratio</th>\n    </tr>\n  </thead>\n  <tbody>\n    <tr>\n      <th>0</th>\n      <td>NaN</td>\n      <td>NaN</td>\n      <td>NaN</td>\n      <td>Afghanistan</td>\n      <td>2020-11-16 05:25:57</td>\n      <td>33.93911</td>\n      <td>67.709953</td>\n      <td>43240</td>\n      <td>1617</td>\n      <td>35092</td>\n      <td>6531.0</td>\n      <td>Afghanistan</td>\n      <td>111.075887</td>\n      <td>3.739593</td>\n    </tr>\n    <tr>\n      <th>1</th>\n      <td>NaN</td>\n      <td>NaN</td>\n      <td>NaN</td>\n      <td>Albania</td>\n      <td>2020-11-16 05:25:57</td>\n      <td>41.15330</td>\n      <td>20.168300</td>\n      <td>27830</td>\n      <td>623</td>\n      <td>12889</td>\n      <td>14318.0</td>\n      <td>Albania</td>\n      <td>967.058169</td>\n      <td>2.238591</td>\n    </tr>\n    <tr>\n      <th>2</th>\n      <td>NaN</td>\n      <td>NaN</td>\n      <td>NaN</td>\n      <td>Algeria</td>\n      <td>2020-11-16 05:25:57</td>\n      <td>28.03390</td>\n      <td>1.659600</td>\n      <td>67679</td>\n      <td>2154</td>\n      <td>44633</td>\n      <td>20892.0</td>\n      <td>Algeria</td>\n      <td>154.338404</td>\n      <td>3.182671</td>\n    </tr>\n    <tr>\n      <th>3</th>\n      <td>NaN</td>\n      <td>NaN</td>\n      <td>NaN</td>\n      <td>Andorra</td>\n      <td>2020-11-16 05:25:57</td>\n      <td>42.50630</td>\n      <td>1.521800</td>\n      <td>5872</td>\n      <td>76</td>\n      <td>4747</td>\n      <td>1049.0</td>\n      <td>Andorra</td>\n      <td>7599.818805</td>\n      <td>1.294278</td>\n    </tr>\n    <tr>\n      <th>4</th>\n      <td>NaN</td>\n      <td>NaN</td>\n      <td>NaN</td>\n      <td>Angola</td>\n      <td>2020-11-16 05:25:57</td>\n      <td>-11.20270</td>\n      <td>17.873900</td>\n      <td>13451</td>\n      <td>322</td>\n      <td>6444</td>\n      <td>6685.0</td>\n      <td>Angola</td>\n      <td>40.926460</td>\n      <td>2.393874</td>\n    </tr>\n  </tbody>\n</table>\n</div>"
     },
     "metadata": {}
    },
    {
     "output_type": "display_data",
     "data": {
      "text/plain": "               FIPS          Lat        Long_     Confirmed        Deaths  \\\ncount   3263.000000  3889.000000  3889.000000  3.974000e+03   3974.000000   \nmean   32405.273675    36.005269   -71.993140  1.368148e+04    331.439104   \nstd    18007.161500    12.935577    53.497468  7.260975e+04   2016.619474   \nmin       66.000000   -52.368000  -174.159600  0.000000e+00      0.000000   \n25%    19052.000000    33.272157   -96.580954  3.522500e+02      4.000000   \n50%    30069.000000    37.952303   -86.853681  1.037000e+03     16.000000   \n75%    47040.000000    42.209345   -77.492245  4.207500e+03     70.000000   \nmax    99999.000000    71.706900   178.065000  1.867721e+06  45974.000000   \n\n          Recovered        Active  Incident_Rate  Case_Fatality_Ratio  \ncount  3.974000e+03  3.972000e+03    3889.000000          3931.000000  \nmean   8.795961e+03  4.554705e+03    3198.273805             1.985763  \nstd    8.751911e+04  7.827965e+04    2173.424277             3.483595  \nmin    0.000000e+00 -4.174884e+06       0.000000             0.000000  \n25%    0.000000e+00  3.010000e+02    1591.420170             0.772268  \n50%    0.000000e+00  9.080000e+02    2977.631096             1.501619  \n75%    0.000000e+00  2.938500e+03    4363.614738             2.538429  \nmax    4.174884e+06  1.712508e+06   18559.970155           162.820368  ",
      "text/html": "<div>\n<style scoped>\n    .dataframe tbody tr th:only-of-type {\n        vertical-align: middle;\n    }\n\n    .dataframe tbody tr th {\n        vertical-align: top;\n    }\n\n    .dataframe thead th {\n        text-align: right;\n    }\n</style>\n<table border=\"1\" class=\"dataframe\">\n  <thead>\n    <tr style=\"text-align: right;\">\n      <th></th>\n      <th>FIPS</th>\n      <th>Lat</th>\n      <th>Long_</th>\n      <th>Confirmed</th>\n      <th>Deaths</th>\n      <th>Recovered</th>\n      <th>Active</th>\n      <th>Incident_Rate</th>\n      <th>Case_Fatality_Ratio</th>\n    </tr>\n  </thead>\n  <tbody>\n    <tr>\n      <th>count</th>\n      <td>3263.000000</td>\n      <td>3889.000000</td>\n      <td>3889.000000</td>\n      <td>3.974000e+03</td>\n      <td>3974.000000</td>\n      <td>3.974000e+03</td>\n      <td>3.972000e+03</td>\n      <td>3889.000000</td>\n      <td>3931.000000</td>\n    </tr>\n    <tr>\n      <th>mean</th>\n      <td>32405.273675</td>\n      <td>36.005269</td>\n      <td>-71.993140</td>\n      <td>1.368148e+04</td>\n      <td>331.439104</td>\n      <td>8.795961e+03</td>\n      <td>4.554705e+03</td>\n      <td>3198.273805</td>\n      <td>1.985763</td>\n    </tr>\n    <tr>\n      <th>std</th>\n      <td>18007.161500</td>\n      <td>12.935577</td>\n      <td>53.497468</td>\n      <td>7.260975e+04</td>\n      <td>2016.619474</td>\n      <td>8.751911e+04</td>\n      <td>7.827965e+04</td>\n      <td>2173.424277</td>\n      <td>3.483595</td>\n    </tr>\n    <tr>\n      <th>min</th>\n      <td>66.000000</td>\n      <td>-52.368000</td>\n      <td>-174.159600</td>\n      <td>0.000000e+00</td>\n      <td>0.000000</td>\n      <td>0.000000e+00</td>\n      <td>-4.174884e+06</td>\n      <td>0.000000</td>\n      <td>0.000000</td>\n    </tr>\n    <tr>\n      <th>25%</th>\n      <td>19052.000000</td>\n      <td>33.272157</td>\n      <td>-96.580954</td>\n      <td>3.522500e+02</td>\n      <td>4.000000</td>\n      <td>0.000000e+00</td>\n      <td>3.010000e+02</td>\n      <td>1591.420170</td>\n      <td>0.772268</td>\n    </tr>\n    <tr>\n      <th>50%</th>\n      <td>30069.000000</td>\n      <td>37.952303</td>\n      <td>-86.853681</td>\n      <td>1.037000e+03</td>\n      <td>16.000000</td>\n      <td>0.000000e+00</td>\n      <td>9.080000e+02</td>\n      <td>2977.631096</td>\n      <td>1.501619</td>\n    </tr>\n    <tr>\n      <th>75%</th>\n      <td>47040.000000</td>\n      <td>42.209345</td>\n      <td>-77.492245</td>\n      <td>4.207500e+03</td>\n      <td>70.000000</td>\n      <td>0.000000e+00</td>\n      <td>2.938500e+03</td>\n      <td>4363.614738</td>\n      <td>2.538429</td>\n    </tr>\n    <tr>\n      <th>max</th>\n      <td>99999.000000</td>\n      <td>71.706900</td>\n      <td>178.065000</td>\n      <td>1.867721e+06</td>\n      <td>45974.000000</td>\n      <td>4.174884e+06</td>\n      <td>1.712508e+06</td>\n      <td>18559.970155</td>\n      <td>162.820368</td>\n    </tr>\n  </tbody>\n</table>\n</div>"
     },
     "metadata": {}
    }
   ],
   "source": [
    "import requests\n",
    "import os\n",
    "from IPython.display import display\n",
    "import pandas as pd\n",
    "\n",
    "file = \"11-15-2020.csv\"\n",
    "\n",
    "if not os.path.exists(file):\n",
    "    url = \"https://raw.githubusercontent.com/CSSEGISandData/COVID-19/master/csse_covid_19_data/csse_covid_19_daily_reports/11-15-2020.csv\"\n",
    "    r = requests.get(url)\n",
    "    with open(file, 'wb') as f:\n",
    "        f.write(r.content)\n",
    "\n",
    "df = pd.read_csv(file)\n",
    "display(df.head())\n",
    "display(df.describe())"
   ]
  },
  {
   "cell_type": "code",
   "execution_count": 18,
   "metadata": {},
   "outputs": [
    {
     "output_type": "stream",
     "name": "stdout",
     "text": [
      "1.58 s ± 11 ms per loop (mean ± std. dev. of 7 runs, 1 loop each)\n"
     ]
    },
    {
     "output_type": "execute_result",
     "data": {
      "text/plain": [
       "0    1c8462ed42c5e5995fe28dda1e33f0fab811dc7ced276d...\n",
       "1    d2900417c62d1d57257b7d6e9559ab61070583f9ba70ab...\n",
       "2    8080c34c4617ec4ffefb58337d14f8a8750559360aa6a2...\n",
       "3    32c0ebafdbc5f35328941d2f9a380283a12efdd7696af5...\n",
       "4    dbea7377b707d86af7f0bada01b6d77e86ab4c2c685ad6...\n",
       "Name: hash, dtype: object"
      ]
     },
     "metadata": {},
     "execution_count": 18
    }
   ],
   "source": [
    "df_apply = df.copy()\n",
    "\n",
    "import hashlib\n",
    "\n",
    "def hash_row(row: pd.Series) -> str:\n",
    "    return hashlib.sha256(\n",
    "            row.to_csv(header=False, index=False).encode(\"utf-8\")\n",
    "        ).hexdigest()\n",
    "\n",
    "%timeit df_apply[\"hash\"] = df_apply.apply(hash_row, axis=1)\n",
    "\n",
    "df_apply[\"hash\"].head()"
   ]
  },
  {
   "cell_type": "code",
   "execution_count": 19,
   "metadata": {},
   "outputs": [
    {
     "output_type": "stream",
     "name": "stdout",
     "text": [
      "5.39 ms ± 37.5 µs per loop (mean ± std. dev. of 7 runs, 100 loops each)\n"
     ]
    },
    {
     "output_type": "execute_result",
     "data": {
      "text/plain": [
       "0    10865190310201157382\n",
       "1     9633045797462455871\n",
       "2    14447633090200792536\n",
       "3    10040559290221321599\n",
       "4    13989941042279608764\n",
       "Name: hash, dtype: uint64"
      ]
     },
     "metadata": {},
     "execution_count": 19
    }
   ],
   "source": [
    "df_pd_hash = df.copy()\n",
    "\n",
    "%timeit df_pd_hash[\"hash\"] = pd.util.hash_pandas_object(df_pd_hash)\n",
    "\n",
    "df_pd_hash[\"hash\"].head()"
   ]
  },
  {
   "cell_type": "code",
   "execution_count": null,
   "metadata": {},
   "outputs": [],
   "source": []
  }
 ]
}