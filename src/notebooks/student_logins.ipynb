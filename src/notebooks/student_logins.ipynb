{
 "cells": [
  {
   "cell_type": "markdown",
   "metadata": {},
   "source": [
    "## User Login Activity Notebook\n",
    "\n",
    "This notebook is designed to pull all user LMS sign in activity dates and times using the edfi_lms_file_utils file_reader functions and format the data into visualizations."
   ]
  },
  {
   "cell_type": "code",
   "execution_count": 1,
   "metadata": {},
   "outputs": [],
   "source": [
    "import pandas as pd\n",
    "import os\n",
    "import matplotlib as plt\n",
    "\n",
    "# Load this helper module to access the functions\n",
    "# Instead of loading from a published package, we're going to hack the \n",
    "# module search path to find the package on the local file system.\n",
    "import sys\n",
    "\n",
    "from edfi_lms_file_utils import file_reader"
   ]
  },
  {
   "cell_type": "code",
   "execution_count": 2,
   "metadata": {},
   "outputs": [],
   "source": [
    "# set the directory path for the output files from schoology extractor\n",
    "csv_path = os.path.join(\"..\", \"..\", \"docs\", \"sample-out\")"
   ]
  },
  {
   "cell_type": "code",
   "execution_count": 3,
   "metadata": {},
   "outputs": [],
   "source": [
    "# pull user data into a dataframe\n",
    "users_df = file_reader.get_all_users(csv_path)\n",
    "\n",
    "# pull login data into a dataframe\n",
    "logins_df = file_reader.get_all_system_activities(csv_path)"
   ]
  },
  {
   "cell_type": "code",
   "execution_count": 4,
   "metadata": {
    "scrolled": true
   },
   "outputs": [],
   "source": [
    "# merge user and login data for schoology\n",
    "left_key = 'SourceSystemIdentifier'\n",
    "right_key = 'LMSUserSourceSystemIdentifier'\n",
    "user_logins_df = pd.DataFrame()\n",
    "user_logins_df = pd.merge(users_df, logins_df, how='inner', left_on=left_key, right_on=right_key)"
   ]
  },
  {
   "cell_type": "code",
   "execution_count": 5,
   "metadata": {},
   "outputs": [],
   "source": [
    "# add user and activity columns to login frequency dataframe\n",
    "login_df = pd.DataFrame()\n",
    "login_df = user_logins_df.loc[:,['Name', 'EmailAddress', 'SISUserIdentifier','ActivityType']].query(\"ActivityType not in ['sign-out']\")\n",
    "\n",
    "# drop ActivityType column\n",
    "del login_df['ActivityType']\n",
    "\n",
    "# format activity datetime to date\n",
    "login_df.loc[:,'SignInDate'] = pd.to_datetime(user_logins_df.loc[:,'ActivityDateTime']).dt.date\n",
    "login_df.loc[:,'SignInTime'] = pd.to_datetime(user_logins_df.loc[:,'ActivityDateTime']).dt.strftime('%I:%M %p')\n",
    "\n",
    "# rename column headings\n",
    "login_df = login_df.rename({\"SISUserIdentifier\":\"SISId\"}, axis='columns')\n",
    "\n",
    "# drop duplicate rows\n",
    "login_df = login_df.drop_duplicates()"
   ]
  },
  {
   "cell_type": "code",
   "execution_count": 6,
   "metadata": {},
   "outputs": [
    {
     "data": {
      "text/html": [
       "<div>\n",
       "<style scoped>\n",
       "    .dataframe tbody tr th:only-of-type {\n",
       "        vertical-align: middle;\n",
       "    }\n",
       "\n",
       "    .dataframe tbody tr th {\n",
       "        vertical-align: top;\n",
       "    }\n",
       "\n",
       "    .dataframe thead th {\n",
       "        text-align: right;\n",
       "    }\n",
       "</style>\n",
       "<table border=\"1\" class=\"dataframe\">\n",
       "  <thead>\n",
       "    <tr style=\"text-align: right;\">\n",
       "      <th></th>\n",
       "      <th>Name</th>\n",
       "      <th>EmailAddress</th>\n",
       "      <th>SISId</th>\n",
       "      <th>SignInDate</th>\n",
       "      <th>SignInTime</th>\n",
       "    </tr>\n",
       "  </thead>\n",
       "  <tbody>\n",
       "    <tr>\n",
       "      <th>0</th>\n",
       "      <td>Mary Archer</td>\n",
       "      <td>Mary.Archer@studentgps.org</td>\n",
       "      <td>604863</td>\n",
       "      <td>2020-11-04</td>\n",
       "      <td>08:05 PM</td>\n",
       "    </tr>\n",
       "    <tr>\n",
       "      <th>1</th>\n",
       "      <td>Mary Archer</td>\n",
       "      <td>Mary.Archer@studentgps.org</td>\n",
       "      <td>604863</td>\n",
       "      <td>2020-11-09</td>\n",
       "      <td>09:02 PM</td>\n",
       "    </tr>\n",
       "    <tr>\n",
       "      <th>2</th>\n",
       "      <td>Kyle Hughes</td>\n",
       "      <td>Kyle.Hughes@studentgps.org</td>\n",
       "      <td>604874</td>\n",
       "      <td>2020-11-04</td>\n",
       "      <td>05:28 PM</td>\n",
       "    </tr>\n",
       "    <tr>\n",
       "      <th>4</th>\n",
       "      <td>Kyle Hughes</td>\n",
       "      <td>Kyle.Hughes@studentgps.org</td>\n",
       "      <td>604874</td>\n",
       "      <td>2020-11-10</td>\n",
       "      <td>08:19 PM</td>\n",
       "    </tr>\n",
       "  </tbody>\n",
       "</table>\n",
       "</div>"
      ],
      "text/plain": [
       "          Name                EmailAddress   SISId  SignInDate SignInTime\n",
       "0  Mary Archer  Mary.Archer@studentgps.org  604863  2020-11-04   08:05 PM\n",
       "1  Mary Archer  Mary.Archer@studentgps.org  604863  2020-11-09   09:02 PM\n",
       "2  Kyle Hughes  Kyle.Hughes@studentgps.org  604874  2020-11-04   05:28 PM\n",
       "4  Kyle Hughes  Kyle.Hughes@studentgps.org  604874  2020-11-10   08:19 PM"
      ]
     },
     "execution_count": 6,
     "metadata": {},
     "output_type": "execute_result"
    }
   ],
   "source": [
    "# output dataframe\n",
    "login_df"
   ]
  },
  {
   "cell_type": "code",
   "execution_count": 7,
   "metadata": {},
   "outputs": [],
   "source": [
    "# set plot color palette and style\n",
    "colors = [\"#03045E\",\"#0077B6\",\"#00B4D8\"]"
   ]
  },
  {
   "cell_type": "code",
   "execution_count": 8,
   "metadata": {
    "scrolled": true
   },
   "outputs": [
    {
     "data": {
      "image/png": "[encoded data removed]",
      "text/plain": [
       "<Figure size 720x504 with 2 Axes>"
      ]
     },
     "metadata": {
      "needs_background": "light"
     },
     "output_type": "display_data"
    }
   ],
   "source": [
    "# define horizontal bar plot for sign in counts by date\n",
    "login_frequency_plot = login_df.groupby(['SignInDate', 'EmailAddress']).EmailAddress.count().unstack().plot(kind='barh',xlabel='Sign In Date',ylabel='Sign In Counts',subplots=True,sharex=True,sharey=True,figsize=(10,7),title='Count of Student Sign In''s By Date',xlim=(0,10),legend=False,color=colors,grid=True)"
   ]
  },
  {
   "cell_type": "code",
   "execution_count": 9,
   "metadata": {
    "scrolled": true
   },
   "outputs": [
    {
     "data": {
      "image/png": "[encoded data removed]",
      "text/plain": [
       "<Figure size 720x504 with 1 Axes>"
      ]
     },
     "metadata": {
      "needs_background": "light"
     },
     "output_type": "display_data"
    }
   ],
   "source": [
    "# define horizontal bar plot for total sign in counts by date\n",
    "login_totals_plot = login_df.groupby(['SignInDate', 'EmailAddress']).EmailAddress.count().unstack().plot(stacked=True,kind='barh',xlabel='Sign In Date',ylabel='Sign In Counts',figsize=(10,7),title='Total Student Sign In''s By Date',xlim=(0,10),legend=True,color=colors,grid=True)"
   ]
  },
  {
   "cell_type": "code",
   "execution_count": null,
   "metadata": {},
   "outputs": [],
   "source": []
  }
 ],
 "metadata": {
  "kernelspec": {
   "display_name": "Python 3",
   "language": "python",
   "name": "python3"
  },
  "language_info": {
   "codemirror_mode": {
    "name": "ipython",
    "version": 3
   },
   "file_extension": ".py",
   "mimetype": "text/x-python",
   "name": "python",
   "nbconvert_exporter": "python",
   "pygments_lexer": "ipython3",
   "version": "3.8.8"
  }
 },
 "nbformat": 4,
 "nbformat_minor": 4
}
