{
 "metadata": {
  "language_info": {
   "codemirror_mode": {
    "name": "ipython",
    "version": 3
   },
   "file_extension": ".py",
   "mimetype": "text/x-python",
   "name": "python",
   "nbconvert_exporter": "python",
   "pygments_lexer": "ipython3",
   "version": "3.8.8-final"
  },
  "orig_nbformat": 2,
  "kernelspec": {
   "name": "python3",
   "display_name": "Python 3",
   "language": "python"
  }
 },
 "nbformat": 4,
 "nbformat_minor": 2,
 "cells": [
  {
   "source": [
    "# Record Counts\n",
    "\n",
    "How many records were downloaded by the extractor in its latest run? To get started, enter the correct path to the extractor output directory in the cell below.\n",
    "\n",
    "Tip: for a more detailed overview on working with the filesystem, see the `filesystem-tutorial` notebook."
   ],
   "cell_type": "markdown",
   "metadata": {}
  },
  {
   "cell_type": "code",
   "execution_count": 2,
   "metadata": {},
   "outputs": [],
   "source": [
    "import os\n",
    "input_directory = os.path.join(\"..\", \"schoology-extractor\", \"data\")"
   ]
  },
  {
   "cell_type": "code",
   "execution_count": 3,
   "metadata": {},
   "outputs": [
    {
     "output_type": "display_data",
     "data": {
      "text/plain": "<IPython.core.display.Markdown object>",
      "text/markdown": "## Counts by UDM Resource Type"
     },
     "metadata": {}
    },
    {
     "output_type": "display_data",
     "data": {
      "text/plain": "<IPython.core.display.Markdown object>",
      "text/markdown": "Users: 45"
     },
     "metadata": {}
    },
    {
     "output_type": "display_data",
     "data": {
      "text/plain": "<IPython.core.display.Markdown object>",
      "text/markdown": "System Activities: 46"
     },
     "metadata": {}
    },
    {
     "output_type": "display_data",
     "data": {
      "text/plain": "<IPython.core.display.Markdown object>",
      "text/markdown": "Sections: 15"
     },
     "metadata": {}
    },
    {
     "output_type": "display_data",
     "data": {
      "text/plain": "<IPython.core.display.Markdown object>",
      "text/markdown": "Assignments: 1"
     },
     "metadata": {}
    },
    {
     "output_type": "display_data",
     "data": {
      "text/plain": "<IPython.core.display.Markdown object>",
      "text/markdown": "Assignment Submissions: 0"
     },
     "metadata": {}
    },
    {
     "output_type": "display_data",
     "data": {
      "text/plain": "<IPython.core.display.Markdown object>",
      "text/markdown": "Attendance Events: 0"
     },
     "metadata": {}
    },
    {
     "output_type": "display_data",
     "data": {
      "text/plain": "<IPython.core.display.Markdown object>",
      "text/markdown": "Grades: 0"
     },
     "metadata": {}
    },
    {
     "output_type": "display_data",
     "data": {
      "text/plain": "<IPython.core.display.Markdown object>",
      "text/markdown": "Section Associations: 0"
     },
     "metadata": {}
    },
    {
     "output_type": "display_data",
     "data": {
      "text/plain": "<IPython.core.display.Markdown object>",
      "text/markdown": "Section Activities: 0"
     },
     "metadata": {}
    }
   ],
   "source": [
    "from IPython.display import display, Markdown\n",
    "display(Markdown(\"## Counts by UDM Resource Type\"))\n",
    "\n",
    "# Load this helper module to access the functions\n",
    "# Instead of loading from a published package, we're going to hack the \n",
    "# module search path to find the package on the local file system.\n",
    "import sys\n",
    "sys.path.append(os.path.join(\"..\",\"file-utils\"))\n",
    "\n",
    "from edfi_lms_file_utils import file_reader\n",
    "\n",
    "users_df = file_reader.get_all_users(input_directory)\n",
    "display(Markdown(f\"Users: {users_df.shape[0]}\"))\n",
    "\n",
    "all_system_activities_df = file_reader.get_all_system_activities(input_directory)\n",
    "display(Markdown(f\"System Activities: {all_system_activities_df.shape[0]}\"))\n",
    "\n",
    "sections_df = file_reader.get_all_sections(input_directory)\n",
    "display(Markdown(f\"Sections: {sections_df.shape[0]}\"))\n",
    "\n",
    "all_assignments_df = file_reader.get_all_assignments(input_directory, sections_df)\n",
    "display(Markdown(f\"Assignments: {all_assignments_df.shape[0]}\"))\n",
    "\n",
    "all_submissions_df = file_reader.get_all_submissions(input_directory, all_assignments_df)\n",
    "display(Markdown(f\"Assignment Submissions: {all_submissions_df.shape[0]}\"))\n",
    "\n",
    "all_attendance_events_df = file_reader.get_all_attendance_events(input_directory, sections_df)\n",
    "display(Markdown(f\"Attendance Events: {all_attendance_events_df.shape[0]}\"))\n",
    "\n",
    "all_grades_df = file_reader.get_all_grades(input_directory, sections_df)\n",
    "display(Markdown(f\"Grades: {all_grades_df.shape[0]}\"))\n",
    "\n",
    "all_section_associations_df = file_reader.get_all_section_associations(input_directory, sections_df)\n",
    "display(Markdown(f\"Section Associations: {all_section_associations_df.shape[0]}\"))\n",
    "\n",
    "all_section_activities_df = file_reader.get_all_section_activities(input_directory, sections_df)\n",
    "display(Markdown(f\"Section Activities: {all_section_activities_df.shape[0]}\"))"
   ]
  },
  {
   "cell_type": "code",
   "execution_count": null,
   "metadata": {},
   "outputs": [],
   "source": []
  }
 ]
}