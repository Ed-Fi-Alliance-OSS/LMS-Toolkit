{
 "cells": [
  {
   "cell_type": "markdown",
   "metadata": {},
   "source": [
    "# Record Counts\n",
    "\n",
    "How many records were downloaded by the extractor in its latest run? To get started, enter the correct path to the extractor output directory in the cell below.\n",
    "\n",
    "Tip: for a more detailed overview on working with the filesystem, see the `filesystem-tutorial` notebook."
   ]
  },
  {
   "cell_type": "code",
   "execution_count": 3,
   "metadata": {},
   "outputs": [],
   "source": [
    "import os\n",
    "input_directory = os.path.join(\"..\", \"..\", \"docs\", \"sample-out\")\n",
    "\n",
    "from edfi_lms_file_utils import file_reader"
   ]
  },
  {
   "cell_type": "code",
   "execution_count": 4,
   "metadata": {},
   "outputs": [
    {
     "data": {
      "text/markdown": [
       "## Counts by UDM Resource Type"
      ],
      "text/plain": [
       "<IPython.core.display.Markdown object>"
      ]
     },
     "metadata": {},
     "output_type": "display_data"
    },
    {
     "data": {
      "text/markdown": [
       "Users: 12"
      ],
      "text/plain": [
       "<IPython.core.display.Markdown object>"
      ]
     },
     "metadata": {},
     "output_type": "display_data"
    },
    {
     "data": {
      "text/markdown": [
       "System Activities: 9"
      ],
      "text/plain": [
       "<IPython.core.display.Markdown object>"
      ]
     },
     "metadata": {},
     "output_type": "display_data"
    },
    {
     "data": {
      "text/markdown": [
       "Sections: 4"
      ],
      "text/plain": [
       "<IPython.core.display.Markdown object>"
      ]
     },
     "metadata": {},
     "output_type": "display_data"
    },
    {
     "data": {
      "text/markdown": [
       "Assignments: 3"
      ],
      "text/plain": [
       "<IPython.core.display.Markdown object>"
      ]
     },
     "metadata": {},
     "output_type": "display_data"
    },
    {
     "data": {
      "text/markdown": [
       "Assignment Submissions: 8"
      ],
      "text/plain": [
       "<IPython.core.display.Markdown object>"
      ]
     },
     "metadata": {},
     "output_type": "display_data"
    },
    {
     "data": {
      "text/markdown": [
       "Attendance Events: 1"
      ],
      "text/plain": [
       "<IPython.core.display.Markdown object>"
      ]
     },
     "metadata": {},
     "output_type": "display_data"
    },
    {
     "data": {
      "text/markdown": [
       "Grades: 8"
      ],
      "text/plain": [
       "<IPython.core.display.Markdown object>"
      ]
     },
     "metadata": {},
     "output_type": "display_data"
    },
    {
     "data": {
      "text/markdown": [
       "Section Associations: 12"
      ],
      "text/plain": [
       "<IPython.core.display.Markdown object>"
      ]
     },
     "metadata": {},
     "output_type": "display_data"
    },
    {
     "data": {
      "text/markdown": [
       "Section Activities: 1"
      ],
      "text/plain": [
       "<IPython.core.display.Markdown object>"
      ]
     },
     "metadata": {},
     "output_type": "display_data"
    }
   ],
   "source": [
    "from IPython.display import display, Markdown\n",
    "display(Markdown(\"## Counts by UDM Resource Type\"))\n",
    "\n",
    "users_df = file_reader.get_all_users(input_directory)\n",
    "display(Markdown(f\"Users: {users_df.shape[0]}\"))\n",
    "\n",
    "all_system_activities_df = file_reader.get_all_system_activities(input_directory)\n",
    "display(Markdown(f\"System Activities: {all_system_activities_df.shape[0]}\"))\n",
    "\n",
    "sections_df = file_reader.get_all_sections(input_directory)\n",
    "display(Markdown(f\"Sections: {sections_df.shape[0]}\"))\n",
    "\n",
    "all_assignments_df = file_reader.get_all_assignments(input_directory, sections_df)\n",
    "display(Markdown(f\"Assignments: {all_assignments_df.shape[0]}\"))\n",
    "\n",
    "all_submissions_df = file_reader.get_all_submissions(input_directory, all_assignments_df)\n",
    "display(Markdown(f\"Assignment Submissions: {all_submissions_df.shape[0]}\"))\n",
    "\n",
    "all_attendance_events_df = file_reader.get_all_attendance_events(input_directory, sections_df)\n",
    "display(Markdown(f\"Attendance Events: {all_attendance_events_df.shape[0]}\"))\n",
    "\n",
    "all_grades_df = file_reader.get_all_grades(input_directory, sections_df)\n",
    "display(Markdown(f\"Grades: {all_grades_df.shape[0]}\"))\n",
    "\n",
    "all_section_associations_df = file_reader.get_all_section_associations(input_directory, sections_df)\n",
    "display(Markdown(f\"Section Associations: {all_section_associations_df.shape[0]}\"))\n",
    "\n",
    "all_section_activities_df = file_reader.get_all_section_activities(input_directory, sections_df)\n",
    "display(Markdown(f\"Section Activities: {all_section_activities_df.shape[0]}\"))"
   ]
  },
  {
   "cell_type": "code",
   "execution_count": null,
   "metadata": {},
   "outputs": [],
   "source": []
  }
 ],
 "metadata": {
  "kernelspec": {
   "display_name": "Python 3",
   "language": "python",
   "name": "python3"
  },
  "language_info": {
   "codemirror_mode": {
    "name": "ipython",
    "version": 3
   },
   "file_extension": ".py",
   "mimetype": "text/x-python",
   "name": "python",
   "nbconvert_exporter": "python",
   "pygments_lexer": "ipython3",
   "version": "3.9.4"
  }
 },
 "nbformat": 4,
 "nbformat_minor": 2
}
