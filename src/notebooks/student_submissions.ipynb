{
 "cells": [
  {
   "cell_type": "code",
   "execution_count": 1,
   "metadata": {},
   "outputs": [],
   "source": [
    "import pandas as pd\n",
    "import lms_utilities as lms\n",
    "import os\n",
    "import matplotlib\n",
    "\n",
    "# removes decimal places from float datatype\n",
    "pd.options.display.float_format = '{:,.0f}'.format"
   ]
  },
  {
   "cell_type": "code",
   "execution_count": 2,
   "metadata": {},
   "outputs": [],
   "source": [
    "# set the directory path for the output files from google classroom extractor\n",
    "#csv_path = os.path.join(\"..\", \"google-classroom-extractor\", \"data\", \"ed-fi-udm-lms\")\n",
    "\n",
    "# set the directory path for the output files from schoology extractor\n",
    "csv_path = os.path.join(\"..\", \"schoology-extractor\", \"data\")"
   ]
  },
  {
   "cell_type": "code",
   "execution_count": 3,
   "metadata": {},
   "outputs": [],
   "source": [
    "# pull user data into a dataframe\n",
    "users_df = lms.get_all_users(csv_path)\n",
    "\n",
    "# pull section data into a dataframe\n",
    "sections_df = lms.get_all_sections(csv_path)\n",
    "\n",
    "# pull assignment data into a dataframe\n",
    "assignments_df = lms.get_all_assignments(csv_path, sections_df)\n",
    "\n",
    "# pull submission data into a dataframe\n",
    "submissions_df = lms.get_all_submissions(csv_path, assignments_df)"
   ]
  },
  {
   "cell_type": "code",
   "execution_count": 4,
   "metadata": {},
   "outputs": [],
   "source": [
    "# merge user and submission data for google classroom\n",
    "#user_submissions_df = pd.DataFrame()\n",
    "#user_submissions_df = pd.merge(users_df, submissions_df, how='inner', left_on=('SourceSystemIdentifier', 'SourceSystem'), right_on=('LMSUserIdentifier', 'SourceSystem'))\n",
    "\n",
    "# merge user and submission data for schoology\n",
    "user_submissions_df = pd.DataFrame()\n",
    "user_submissions_df = pd.merge(users_df, submissions_df, how='inner', left_on=('SourceSystemIdentifier', 'SourceSystem'), right_on=('LMSUserSourceSystemIdentifier', 'SourceSystem'))"
   ]
  },
  {
   "cell_type": "code",
   "execution_count": 5,
   "metadata": {},
   "outputs": [],
   "source": [
    "# add user columns to submission count dataframe\n",
    "submission_counts_df = pd.DataFrame()\n",
    "submission_counts_df = user_submissions_df[[\"Name\",\"EmailAddress\"]]\n",
    "\n",
    "# drop duplicate rows\n",
    "submission_counts_df = submission_counts_df.drop_duplicates()\n",
    "\n",
    "# rename column headings\n",
    "submission_counts_df = submission_counts_df.rename({\"Name\":\"Student Name\",\"EmailAddress\":\"Email Address\"}, axis='columns')\n",
    "\n",
    "# set email address as the index\n",
    "submission_counts_df = submission_counts_df.set_index('Email Address')"
   ]
  },
  {
   "cell_type": "code",
   "execution_count": 6,
   "metadata": {},
   "outputs": [],
   "source": [
    "# pull unique submission status values to a list for google classroom\n",
    "#submission_status = user_submissions_df['Status'].unique().tolist()\n",
    "\n",
    "# pull unique submission status values to a list\n",
    "submission_status = user_submissions_df['SubmissionStatus'].unique().tolist()"
   ]
  },
  {
   "cell_type": "code",
   "execution_count": 7,
   "metadata": {},
   "outputs": [],
   "source": [
    "# add missing submissions count column for google classroom\n",
    "#submission_counts_df[\"Missing\"]=user_submissions_df.groupby('EmailAddress').AssignmentIdentifier.count()-user_submissions_df.groupby('EmailAddress').Status.count()\n",
    "\n",
    "# add missing submissions count column for schoology\n",
    "submission_counts_df[\"Missing\"]=user_submissions_df.groupby('EmailAddress').AssignmentSourceSystemIdentifier.count()-user_submissions_df.groupby('EmailAddress').SubmissionStatus.count()"
   ]
  },
  {
   "cell_type": "code",
   "execution_count": 8,
   "metadata": {},
   "outputs": [],
   "source": [
    "# loop through each submission status value and add a column with a count for each student for google classroom\n",
    "#for index in range(len(submission_status)):\n",
    "#    submission_counts_df[submission_status[index]]=user_submissions_df[user_submissions_df.Status == submission_status[index]].groupby('EmailAddress').Status.count()\n",
    "\n",
    "# loop through each submission status value and add a column with a count for each student for schoology\n",
    "for index in range(len(submission_status)):\n",
    "    submission_counts_df[submission_status[index]]=user_submissions_df[user_submissions_df.SubmissionStatus == submission_status[index]].groupby('EmailAddress').SubmissionStatus.count()"
   ]
  },
  {
   "cell_type": "code",
   "execution_count": 9,
   "metadata": {},
   "outputs": [],
   "source": [
    "# replace NaN count values with 0\n",
    "submission_counts_df.fillna(0, inplace=True)"
   ]
  },
  {
   "cell_type": "code",
   "execution_count": 10,
   "metadata": {},
   "outputs": [],
   "source": [
    "# add total submissions count column for google classroom\n",
    "#submission_counts_df[\"Total Submissions\"]=user_submissions_df.groupby('EmailAddress').Status.count()\n",
    "\n",
    "# add total submissions count column for schoology\n",
    "submission_counts_df[\"Total Submissions\"]=user_submissions_df.groupby('EmailAddress').SubmissionStatus.count()"
   ]
  },
  {
   "cell_type": "code",
   "execution_count": 11,
   "metadata": {},
   "outputs": [],
   "source": [
    "# format column headings to camel case\n",
    "submission_counts_df.columns = submission_counts_df.columns.str.title()"
   ]
  },
  {
   "cell_type": "code",
   "execution_count": 12,
   "metadata": {},
   "outputs": [
    {
     "data": {
      "text/html": [
       "<div>\n",
       "<style scoped>\n",
       "    .dataframe tbody tr th:only-of-type {\n",
       "        vertical-align: middle;\n",
       "    }\n",
       "\n",
       "    .dataframe tbody tr th {\n",
       "        vertical-align: top;\n",
       "    }\n",
       "\n",
       "    .dataframe thead th {\n",
       "        text-align: right;\n",
       "    }\n",
       "</style>\n",
       "<table border=\"1\" class=\"dataframe\">\n",
       "  <thead>\n",
       "    <tr style=\"text-align: right;\">\n",
       "      <th></th>\n",
       "      <th>Student Name</th>\n",
       "      <th>Missing</th>\n",
       "      <th>Late</th>\n",
       "      <th>On-Time</th>\n",
       "      <th>Total Submissions</th>\n",
       "    </tr>\n",
       "    <tr>\n",
       "      <th>Email Address</th>\n",
       "      <th></th>\n",
       "      <th></th>\n",
       "      <th></th>\n",
       "      <th></th>\n",
       "      <th></th>\n",
       "    </tr>\n",
       "  </thead>\n",
       "  <tbody>\n",
       "    <tr>\n",
       "      <th>mary.archer@studentgps.org</th>\n",
       "      <td>Mary Archer</td>\n",
       "      <td>0</td>\n",
       "      <td>2</td>\n",
       "      <td>3</td>\n",
       "      <td>5</td>\n",
       "    </tr>\n",
       "    <tr>\n",
       "      <th>stephen.caldwell@studentgps.org</th>\n",
       "      <td>Stephen Caldwell</td>\n",
       "      <td>0</td>\n",
       "      <td>1</td>\n",
       "      <td>1</td>\n",
       "      <td>2</td>\n",
       "    </tr>\n",
       "    <tr>\n",
       "      <th>olivia.hardy@studentgps.org</th>\n",
       "      <td>Olivia Hardy</td>\n",
       "      <td>0</td>\n",
       "      <td>1</td>\n",
       "      <td>1</td>\n",
       "      <td>2</td>\n",
       "    </tr>\n",
       "    <tr>\n",
       "      <th>kyle.hughes@studentgps.org</th>\n",
       "      <td>Kyle Hughes</td>\n",
       "      <td>0</td>\n",
       "      <td>2</td>\n",
       "      <td>3</td>\n",
       "      <td>5</td>\n",
       "    </tr>\n",
       "    <tr>\n",
       "      <th>larry.mahoney@studentgps.org</th>\n",
       "      <td>Larry Mahoney</td>\n",
       "      <td>0</td>\n",
       "      <td>0</td>\n",
       "      <td>1</td>\n",
       "      <td>1</td>\n",
       "    </tr>\n",
       "    <tr>\n",
       "      <th>peter.nash@studentgps.org</th>\n",
       "      <td>Peter Nash</td>\n",
       "      <td>0</td>\n",
       "      <td>0</td>\n",
       "      <td>1</td>\n",
       "      <td>1</td>\n",
       "    </tr>\n",
       "    <tr>\n",
       "      <th>roland.phillips@studentgps.org</th>\n",
       "      <td>Roland Phillips</td>\n",
       "      <td>0</td>\n",
       "      <td>0</td>\n",
       "      <td>1</td>\n",
       "      <td>1</td>\n",
       "    </tr>\n",
       "    <tr>\n",
       "      <th>micheal.turner@studentgps.org</th>\n",
       "      <td>Micheal Turner</td>\n",
       "      <td>0</td>\n",
       "      <td>1</td>\n",
       "      <td>0</td>\n",
       "      <td>1</td>\n",
       "    </tr>\n",
       "  </tbody>\n",
       "</table>\n",
       "</div>"
      ],
      "text/plain": [
       "                                     Student Name  Missing  Late  On-Time  \\\n",
       "Email Address                                                               \n",
       "mary.archer@studentgps.org            Mary Archer        0     2        3   \n",
       "stephen.caldwell@studentgps.org  Stephen Caldwell        0     1        1   \n",
       "olivia.hardy@studentgps.org          Olivia Hardy        0     1        1   \n",
       "kyle.hughes@studentgps.org            Kyle Hughes        0     2        3   \n",
       "larry.mahoney@studentgps.org        Larry Mahoney        0     0        1   \n",
       "peter.nash@studentgps.org              Peter Nash        0     0        1   \n",
       "roland.phillips@studentgps.org    Roland Phillips        0     0        1   \n",
       "micheal.turner@studentgps.org      Micheal Turner        0     1        0   \n",
       "\n",
       "                                 Total Submissions  \n",
       "Email Address                                       \n",
       "mary.archer@studentgps.org                       5  \n",
       "stephen.caldwell@studentgps.org                  2  \n",
       "olivia.hardy@studentgps.org                      2  \n",
       "kyle.hughes@studentgps.org                       5  \n",
       "larry.mahoney@studentgps.org                     1  \n",
       "peter.nash@studentgps.org                        1  \n",
       "roland.phillips@studentgps.org                   1  \n",
       "micheal.turner@studentgps.org                    1  "
      ]
     },
     "execution_count": 12,
     "metadata": {},
     "output_type": "execute_result"
    }
   ],
   "source": [
    "# output dataframe\n",
    "submission_counts_df"
   ]
  },
  {
   "cell_type": "code",
   "execution_count": 13,
   "metadata": {},
   "outputs": [
    {
     "data": {
      "text/plain": [
       "Text(0, 0.5, 'Submission Counts by Status')"
      ]
     },
     "execution_count": 13,
     "metadata": {},
     "output_type": "execute_result"
    },
    {
     "data": {
      "image/png": "[encoded data removed]",
      "text/plain": [
       "<Figure size 720x504 with 1 Axes>"
      ]
     },
     "metadata": {
      "needs_background": "light"
     },
     "output_type": "display_data"
    }
   ],
   "source": [
    "# set color palette for stacked bar chart\n",
    "colors = [\"#bc4749\",\"#03045E\",\"#0077B6\",\"#00B4D8\"]\n",
    "\n",
    "# define bar plot input and format\n",
    "submission_counts_plot = submission_counts_df.iloc[:,1:len(submission_status)+2].plot.bar(stacked=True, color=colors, figsize=(10,7), rot=80)\n",
    "\n",
    "# set title and axis labels\n",
    "submission_counts_plot.set_title(\"Total Assignment Submissions per Student\")\n",
    "submission_counts_plot.set_xlabel(\"Student Email\")\n",
    "submission_counts_plot.set_ylabel(\"Submission Counts by Status\")"
   ]
  },
  {
   "cell_type": "code",
   "execution_count": null,
   "metadata": {},
   "outputs": [],
   "source": []
  }
 ],
 "metadata": {
  "kernelspec": {
   "display_name": "Python 3",
   "language": "python",
   "name": "python3"
  },
  "language_info": {
   "codemirror_mode": {
    "name": "ipython",
    "version": 3
   },
   "file_extension": ".py",
   "mimetype": "text/x-python",
   "name": "python",
   "nbconvert_exporter": "python",
   "pygments_lexer": "ipython3",
   "version": "3.8.6"
  }
 },
 "nbformat": 4,
 "nbformat_minor": 4
}
