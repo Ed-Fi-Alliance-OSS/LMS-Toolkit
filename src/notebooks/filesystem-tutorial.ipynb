{
 "cells": [
  {
   "source": [
    "# Tutorial for Analyzing LMS Files\n",
    "\n",
    "## Purpose\n",
    "This notebook is designed to help analysts understand and access the files created by the Ed-Fi LMS Toolkit extractor utilities.\n",
    "\n",
    "## Pandas\n",
    "\n",
    "We'll be using [Pandas](https://pandas.pydata.org/), which is the industry standard tool for high performance data analysis in Python. If you're new to Python and Pandas and want to do some additional reading, then you might be interested in these two books by Jake VanderPlas, both available for free:\n",
    "\n",
    "* [A Whirlwind Tour of Python](https://jakevdp.github.io/WhirlwindTourOfPython/)\n",
    "* [Python Data Science Handbook](https://jakevdp.github.io/PythonDataScienceHandbook/)"
   ],
   "cell_type": "markdown",
   "metadata": {}
  },
  {
   "source": [
    "## Getting Started\n",
    "\n",
    "This notebook was developed with Python 3.8 and might not work with earlier versions. The source code directory for this notebook contains a `poetry.lock` and `pyproject.toml` file; these are used by [Poetry](https://python-poetry.org/) to manage resource dependencies. Ideally you will install Poetry and then run `poetry install` from a command prompt to load required resources. If you would like to run without using Poetry, then you can manually load dependencies using Pip:\n",
    "\n",
    "```bash\n",
    "# Optional step if NOT using poetry\n",
    "pip install pandas\n",
    "pip install ipykernel\n",
    "pip install jupyter --user\n",
    "```\n",
    "\n",
    "It is recommended that these be installed in a virtual environment, which Poetry handles for you. Alternately, you can use equivalent commands in Anaconda.\n",
    "\n",
    "This notebook can be run from within Visual Studio Code or it can run in a browser window by executing the following command:\n",
    "\n",
    "```bash\n",
    "# With Poetry\n",
    "poetry run jupyter notebook\n",
    "\n",
    "# Without Poetry\n",
    "jupyter notebook\n",
    "```"
   ],
   "cell_type": "markdown",
   "metadata": {}
  },
  {
   "source": [
    "## Understanding the Filesystem\n",
    "\n",
    "The LMS Extractors output a number of discrete files, corresponding to concepts in the Ed-Fi LMS Unified Data Model:\n",
    "\n",
    "* Activities\n",
    "* Assignments\n",
    "* Attendance (_only with Schoology_)\n",
    "* Grades\n",
    "* Sections\n",
    "* Section Associations (aka _enrollments_)\n",
    "* Submissions\n",
    "* Users\n",
    "\n",
    "Each file contains all of the current data for the given model, so that you only need to read one file to get a complete snapshot for a single resource. But there is a catch to that: some of these concepts are section-specific, for example assignments. Rather than try to store all assignment data _for all sections_ in a single file, we create _one assignment file per section_. The same is true for activities, attendance, grades, and section associations. Furthermore, submissions are dependent on assignments, thus there is one submissions file per assignment. The file layout mirrors this heirarchy: there is a directory for each resource type, and dependent resources are nested under directories named for the given section or assignment.\n",
    "\n",
    "This convention may seem a little strange for a human, but it is very easy to navigate for the computer. Each directory may have multiple files, one for each time you run the extractor, but you only need to load the most recent file to get the current snapshot. We make that easy by using the date and time as the file name. Thus after running once, you may end up with files like this, where 12345 is the source system identifier for a unique section and 67890 is the source system identifier for a unique assignment:\n",
    "\n",
    "![Sample file layout](filesystem.svg)\n",
    "\n",
    "Note: `base_directory` is whatever directory was specified in the configuration when running the extractor utility.\n",
    "\n",
    "Presumably the extractor utility will be run on a periodic basis, for instance weekly or daily. In that case each directory will have multiple files. Since the filenames have the date and time embedded in them, sorting on the file names will make it easy to pick up only the most recent file, regardless of whether or not some other process has modified the file and thus altered the operating system date on the file.\n",
    "\n",
    "## Helper Functions\n",
    "\n",
    "### Accessing Files\n",
    "\n",
    "Below you will find a set of functions to help you navigate this filesystem.\n",
    "\n",
    "LANGUAGE USE NOTE: in these examples we use Python's optional [type hint system](https://docs.python.org/3.8/library/typing.html) to help us all recognize what data types are being passed into functions and returned by them."
   ],
   "cell_type": "markdown",
   "metadata": {}
  },
  {
   "cell_type": "code",
   "execution_count": 7,
   "metadata": {},
   "outputs": [],
   "source": [
    "import os\n",
    "\n",
    "def _get_newest_file(directory: str) -> str:\n",
    "    files = [(f.path, f.name) for f in os.scandir(directory) if f.name.endswith(\".csv\")]\n",
    "    files = sorted(files, key=lambda x: x[1], reverse=True)\n",
    "\n",
    "    return files[0][0]\n",
    "\n",
    "def _get_file_for_section(base_directory, section_id, file_type) -> str:\n",
    "    return _get_newest_file(os.path.join(base_directory, f\"section={section_id}\", file_type))\n",
    "\n",
    "def get_users_file(base_directory) -> str:\n",
    "    return _get_newest_file(os.path.join(base_directory, \"users\"))\n",
    "\n",
    "def get_sections_file(base_directory):\n",
    "    return _get_newest_file(os.path.join(base_directory, \"sections\"))\n",
    "\n",
    "def get_section_associations_file(base_directory, section_id):\n",
    "    return _get_file_for_section(base_directory, section_id, \"section-associations\")\n",
    "\n",
    "def get_activities_file(base_directory, section_id):\n",
    "    return _get_file_for_section(base_directory, section_id, \"activities\")\n",
    "\n",
    "def get_assignments_file(base_directory, section_id):\n",
    "    return _get_file_for_section(base_directory, section_id, \"assignments\")\n",
    "\n",
    "def get_grades_file(base_directory, section_id):\n",
    "    return _get_file_for_section(base_directory, section_id, \"grades\")"
   ]
  },
  {
   "source": [
    "### Loading Files into DataFrames\n",
    "\n",
    "Next, let's create a few functions that leverage the filesystem helpers to read files into Pandas DataFrames."
   ],
   "cell_type": "markdown",
   "metadata": {}
  },
  {
   "cell_type": "code",
   "execution_count": 23,
   "metadata": {},
   "outputs": [],
   "source": [
    "import pandas as pd  # Aliasing as `pd` is a common practice in the industry\n",
    "\n",
    "def get_all_users(base_directory: str) -> pd.DataFrame:\n",
    "    file = get_users_file(base_directory)\n",
    "\n",
    "    return pd.read_csv(file, engine=\"c\", parse_dates=True, infer_datetime_format=True)\n",
    "    \n",
    "def get_all_sections(base_directory: str) -> pd.DataFrame:\n",
    "    file = get_sections_file(base_directory)\n",
    "\n",
    "    return pd.read_csv(file, engine=\"c\", parse_dates=True, infer_datetime_format=True)"
   ]
  },
  {
   "source": [
    "#### Function Validation\n",
    "\n",
    "The next code cells validate the output from these functions and show you the available data."
   ],
   "cell_type": "markdown",
   "metadata": {}
  },
  {
   "cell_type": "code",
   "execution_count": 30,
   "metadata": {},
   "outputs": [
    {
     "output_type": "display_data",
     "data": {
      "text/plain": "<IPython.core.display.Markdown object>",
      "text/markdown": "### Users"
     },
     "metadata": {}
    },
    {
     "output_type": "display_data",
     "data": {
      "text/plain": "    SourceSystemIdentifier SourceSystem UserRole LocalUserIdentifier  \\\n0                100032890    Schoology  student         mary.archer   \n1                100032891    Schoology  student         kyle.hughes   \n2                100032892    Schoology  student          peter.nash   \n3                100032893    Schoology  student       larry.mahoney   \n4                100032894    Schoology  student     roland.phillips   \n5                100032895    Schoology  student    stephen.caldwell   \n6                100032896    Schoology  student        olivia.hardy   \n7                100032897    Schoology  student      micheal.turner   \n8                100032898    Schoology  teacher    kelley.christian   \n9                100032899    Schoology  teacher        sara.preston   \n10               100032900    Schoology  teacher      sara.preston.2   \n\n    SISUserIdentifier                    Name  \\\n0              604863             Mary Archer   \n1              604874             Kyle Hughes   \n2              604918         Peter Ivan Nash   \n3              604927           Larry Mahoney   \n4              604938         Roland Phillips   \n5              604969        Stephen Caldwell   \n6              604974      Olivia Doris Hardy   \n7              605015          Micheal Turner   \n8              207270  Kelley Heidi Christian   \n9              207268      Sara Stacy Preston   \n10             207268      Sara Stacy Preston   \n\n                       EmailAddress EntityStatus           CreateDate  \\\n0        Mary.Archer@studentgps.org     Archived  2020-08-20 12:34:50   \n1        Kyle.Hughes@studentgps.org     Archived  2020-08-20 12:34:50   \n2         Peter.Nash@studentgps.org       Active  2020-08-20 12:34:50   \n3      Larry.Mahoney@studentgps.org       Active  2020-08-20 12:34:50   \n4    Roland.Phillips@studentgps.org       Active  2020-08-20 12:34:50   \n5   Stephen.Caldwell@studentgps.org       Active  2020-08-20 12:34:50   \n6       Olivia.Hardy@studentgps.org       Active  2020-08-20 12:34:50   \n7     Micheal.Turner@studentgps.org       Active  2020-08-20 12:34:50   \n8   Kelley.Christian@studentgps.org       Active  2020-08-20 12:34:50   \n9       Sara.Preston@studentgps.org     Archived  2020-08-20 12:34:50   \n10      Sara.Preston@studentgps.org       Active  2020-08-20 12:34:50   \n\n       LastModifiedDate  \n0   2020-09-18 12:34:50  \n1   2020-09-18 12:34:50  \n2   2020-08-20 12:34:50  \n3   2020-08-20 12:34:50  \n4   2020-08-20 12:34:50  \n5   2020-08-20 12:34:50  \n6   2020-08-20 12:34:50  \n7   2020-08-20 12:34:50  \n8   2020-08-20 12:34:50  \n9   2020-08-20 12:34:50  \n10  2020-08-20 12:34:50  ",
      "text/html": "<div>\n<style scoped>\n    .dataframe tbody tr th:only-of-type {\n        vertical-align: middle;\n    }\n\n    .dataframe tbody tr th {\n        vertical-align: top;\n    }\n\n    .dataframe thead th {\n        text-align: right;\n    }\n</style>\n<table border=\"1\" class=\"dataframe\">\n  <thead>\n    <tr style=\"text-align: right;\">\n      <th></th>\n      <th>SourceSystemIdentifier</th>\n      <th>SourceSystem</th>\n      <th>UserRole</th>\n      <th>LocalUserIdentifier</th>\n      <th>SISUserIdentifier</th>\n      <th>Name</th>\n      <th>EmailAddress</th>\n      <th>EntityStatus</th>\n      <th>CreateDate</th>\n      <th>LastModifiedDate</th>\n    </tr>\n  </thead>\n  <tbody>\n    <tr>\n      <th>0</th>\n      <td>100032890</td>\n      <td>Schoology</td>\n      <td>student</td>\n      <td>mary.archer</td>\n      <td>604863</td>\n      <td>Mary Archer</td>\n      <td>Mary.Archer@studentgps.org</td>\n      <td>Archived</td>\n      <td>2020-08-20 12:34:50</td>\n      <td>2020-09-18 12:34:50</td>\n    </tr>\n    <tr>\n      <th>1</th>\n      <td>100032891</td>\n      <td>Schoology</td>\n      <td>student</td>\n      <td>kyle.hughes</td>\n      <td>604874</td>\n      <td>Kyle Hughes</td>\n      <td>Kyle.Hughes@studentgps.org</td>\n      <td>Archived</td>\n      <td>2020-08-20 12:34:50</td>\n      <td>2020-09-18 12:34:50</td>\n    </tr>\n    <tr>\n      <th>2</th>\n      <td>100032892</td>\n      <td>Schoology</td>\n      <td>student</td>\n      <td>peter.nash</td>\n      <td>604918</td>\n      <td>Peter Ivan Nash</td>\n      <td>Peter.Nash@studentgps.org</td>\n      <td>Active</td>\n      <td>2020-08-20 12:34:50</td>\n      <td>2020-08-20 12:34:50</td>\n    </tr>\n    <tr>\n      <th>3</th>\n      <td>100032893</td>\n      <td>Schoology</td>\n      <td>student</td>\n      <td>larry.mahoney</td>\n      <td>604927</td>\n      <td>Larry Mahoney</td>\n      <td>Larry.Mahoney@studentgps.org</td>\n      <td>Active</td>\n      <td>2020-08-20 12:34:50</td>\n      <td>2020-08-20 12:34:50</td>\n    </tr>\n    <tr>\n      <th>4</th>\n      <td>100032894</td>\n      <td>Schoology</td>\n      <td>student</td>\n      <td>roland.phillips</td>\n      <td>604938</td>\n      <td>Roland Phillips</td>\n      <td>Roland.Phillips@studentgps.org</td>\n      <td>Active</td>\n      <td>2020-08-20 12:34:50</td>\n      <td>2020-08-20 12:34:50</td>\n    </tr>\n    <tr>\n      <th>5</th>\n      <td>100032895</td>\n      <td>Schoology</td>\n      <td>student</td>\n      <td>stephen.caldwell</td>\n      <td>604969</td>\n      <td>Stephen Caldwell</td>\n      <td>Stephen.Caldwell@studentgps.org</td>\n      <td>Active</td>\n      <td>2020-08-20 12:34:50</td>\n      <td>2020-08-20 12:34:50</td>\n    </tr>\n    <tr>\n      <th>6</th>\n      <td>100032896</td>\n      <td>Schoology</td>\n      <td>student</td>\n      <td>olivia.hardy</td>\n      <td>604974</td>\n      <td>Olivia Doris Hardy</td>\n      <td>Olivia.Hardy@studentgps.org</td>\n      <td>Active</td>\n      <td>2020-08-20 12:34:50</td>\n      <td>2020-08-20 12:34:50</td>\n    </tr>\n    <tr>\n      <th>7</th>\n      <td>100032897</td>\n      <td>Schoology</td>\n      <td>student</td>\n      <td>micheal.turner</td>\n      <td>605015</td>\n      <td>Micheal Turner</td>\n      <td>Micheal.Turner@studentgps.org</td>\n      <td>Active</td>\n      <td>2020-08-20 12:34:50</td>\n      <td>2020-08-20 12:34:50</td>\n    </tr>\n    <tr>\n      <th>8</th>\n      <td>100032898</td>\n      <td>Schoology</td>\n      <td>teacher</td>\n      <td>kelley.christian</td>\n      <td>207270</td>\n      <td>Kelley Heidi Christian</td>\n      <td>Kelley.Christian@studentgps.org</td>\n      <td>Active</td>\n      <td>2020-08-20 12:34:50</td>\n      <td>2020-08-20 12:34:50</td>\n    </tr>\n    <tr>\n      <th>9</th>\n      <td>100032899</td>\n      <td>Schoology</td>\n      <td>teacher</td>\n      <td>sara.preston</td>\n      <td>207268</td>\n      <td>Sara Stacy Preston</td>\n      <td>Sara.Preston@studentgps.org</td>\n      <td>Archived</td>\n      <td>2020-08-20 12:34:50</td>\n      <td>2020-08-20 12:34:50</td>\n    </tr>\n    <tr>\n      <th>10</th>\n      <td>100032900</td>\n      <td>Schoology</td>\n      <td>teacher</td>\n      <td>sara.preston.2</td>\n      <td>207268</td>\n      <td>Sara Stacy Preston</td>\n      <td>Sara.Preston@studentgps.org</td>\n      <td>Active</td>\n      <td>2020-08-20 12:34:50</td>\n      <td>2020-08-20 12:34:50</td>\n    </tr>\n  </tbody>\n</table>\n</div>"
     },
     "metadata": {}
    },
    {
     "output_type": "display_data",
     "data": {
      "text/plain": "<IPython.core.display.Markdown object>",
      "text/markdown": "### Sections"
     },
     "metadata": {}
    },
    {
     "output_type": "display_data",
     "data": {
      "text/plain": "   SourceSystemIdentifier      SourceSystem         SISSectionIdentifier  \\\n0               123456780  Google Classroom  25590100102Trad220ALG112011   \n1               123456789  Google Classroom  25590100101Trad120ENG112011   \n2               123456790  Google Classroom  25590100102Trad220ALG112011   \n3               123456791  Google Classroom                          NaN   \n\n         Title                   SectionDescription  \\\n0        ALG-1                            Algebra I   \n1        ENG-1  English/Language Arts I (9th grade)   \n2        ALG-1                            Algebra I   \n3  ENG-STAFF-1  English language arts staff meeting   \n\n                                                Term LMSSectionStatus  \\\n0  255901001_2020_2019-2020_Fall,255901001_2020_2...         Archived   \n1  255901001_2021_2020-2021_Fall,255901001_2021_2...           Active   \n2  255901001_2021_2020-2021_Fall,255901001_2021_2...           Active   \n3                                                NaN      Unpublished   \n\n  EntityStatus           CreateDate     LastModifiedDate  \n0       Active  2020-08-20 12:34:50  2020-08-20 12:34:50  \n1       Active  2020-08-20 12:34:50  2020-08-20 12:34:50  \n2       Active  2020-08-20 12:34:50  2020-08-20 12:34:50  \n3       Active  2020-09-03 01:02:03  2020-09-04 00:01:02  ",
      "text/html": "<div>\n<style scoped>\n    .dataframe tbody tr th:only-of-type {\n        vertical-align: middle;\n    }\n\n    .dataframe tbody tr th {\n        vertical-align: top;\n    }\n\n    .dataframe thead th {\n        text-align: right;\n    }\n</style>\n<table border=\"1\" class=\"dataframe\">\n  <thead>\n    <tr style=\"text-align: right;\">\n      <th></th>\n      <th>SourceSystemIdentifier</th>\n      <th>SourceSystem</th>\n      <th>SISSectionIdentifier</th>\n      <th>Title</th>\n      <th>SectionDescription</th>\n      <th>Term</th>\n      <th>LMSSectionStatus</th>\n      <th>EntityStatus</th>\n      <th>CreateDate</th>\n      <th>LastModifiedDate</th>\n    </tr>\n  </thead>\n  <tbody>\n    <tr>\n      <th>0</th>\n      <td>123456780</td>\n      <td>Google Classroom</td>\n      <td>25590100102Trad220ALG112011</td>\n      <td>ALG-1</td>\n      <td>Algebra I</td>\n      <td>255901001_2020_2019-2020_Fall,255901001_2020_2...</td>\n      <td>Archived</td>\n      <td>Active</td>\n      <td>2020-08-20 12:34:50</td>\n      <td>2020-08-20 12:34:50</td>\n    </tr>\n    <tr>\n      <th>1</th>\n      <td>123456789</td>\n      <td>Google Classroom</td>\n      <td>25590100101Trad120ENG112011</td>\n      <td>ENG-1</td>\n      <td>English/Language Arts I (9th grade)</td>\n      <td>255901001_2021_2020-2021_Fall,255901001_2021_2...</td>\n      <td>Active</td>\n      <td>Active</td>\n      <td>2020-08-20 12:34:50</td>\n      <td>2020-08-20 12:34:50</td>\n    </tr>\n    <tr>\n      <th>2</th>\n      <td>123456790</td>\n      <td>Google Classroom</td>\n      <td>25590100102Trad220ALG112011</td>\n      <td>ALG-1</td>\n      <td>Algebra I</td>\n      <td>255901001_2021_2020-2021_Fall,255901001_2021_2...</td>\n      <td>Active</td>\n      <td>Active</td>\n      <td>2020-08-20 12:34:50</td>\n      <td>2020-08-20 12:34:50</td>\n    </tr>\n    <tr>\n      <th>3</th>\n      <td>123456791</td>\n      <td>Google Classroom</td>\n      <td>NaN</td>\n      <td>ENG-STAFF-1</td>\n      <td>English language arts staff meeting</td>\n      <td>NaN</td>\n      <td>Unpublished</td>\n      <td>Active</td>\n      <td>2020-09-03 01:02:03</td>\n      <td>2020-09-04 00:01:02</td>\n    </tr>\n  </tbody>\n</table>\n</div>"
     },
     "metadata": {}
    }
   ],
   "source": [
    "from IPython.display import display, Markdown\n",
    "\n",
    "users_df = get_all_users(sample_dir)\n",
    "display(Markdown(\"### Users\"))\n",
    "display(users_df)\n",
    "\n",
    "sections_df = get_all_sections(sample_dir)\n",
    "display(Markdown(\"### Sections\"))\n",
    "display(sections_df)"
   ]
  },
  {
   "source": [
    "PENDING: what comes next? Do something that demonstrates merging all assignments into a single DataFrame. Maybe do a lightweight analysis."
   ],
   "cell_type": "markdown",
   "metadata": {}
  }
 ],
 "metadata": {
  "kernelspec": {
   "name": "Python 3.8.5 64-bit ('.venv')",
   "display_name": "Python 3.8.5 64-bit ('.venv')",
   "metadata": {
    "interpreter": {
     "hash": "345aa749e0416ef4341931074d5302fa58a65d7e36b033cb1301f4b45f255c63"
    }
   }
  },
  "language_info": {
   "codemirror_mode": {
    "name": "ipython",
    "version": 3
   },
   "file_extension": ".py",
   "mimetype": "text/x-python",
   "name": "python",
   "nbconvert_exporter": "python",
   "pygments_lexer": "ipython3",
   "version": "3.8.5-final"
  }
 },
 "nbformat": 4,
 "nbformat_minor": 4
}