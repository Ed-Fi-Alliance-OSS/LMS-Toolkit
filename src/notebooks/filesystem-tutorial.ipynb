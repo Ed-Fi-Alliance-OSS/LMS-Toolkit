{
 "cells": [
  {
   "source": [
    "# Tutorial for Analyzing LMS Files\n",
    "\n",
    "## Purpose\n",
    "This notebook is designed to help analysts understand and access the files created by the Ed-Fi LMS Toolkit extractor utilities.\n",
    "\n",
    "## Pandas\n",
    "\n",
    "We'll be using [Pandas](https://pandas.pydata.org/), which is the industry standard tool for high performance data analysis in Python. If you're new to Python and Pandas and want to do some additional reading, then you might be interested in these two books by Jake VanderPlas, both available for free:\n",
    "\n",
    "* [A Whirlwind Tour of Python](https://jakevdp.github.io/WhirlwindTourOfPython/)\n",
    "* [Python Data Science Handbook](https://jakevdp.github.io/PythonDataScienceHandbook/)"
   ],
   "cell_type": "markdown",
   "metadata": {}
  },
  {
   "source": [
    "## Getting Started\n",
    "\n",
    "This notebook was developed with Python 3.8 and might not work with earlier versions. The source code directory for this notebook contains a `poetry.lock` and `pyproject.toml` file; these are used by [Poetry](https://python-poetry.org/) to manage resource dependencies. Ideally you will install Poetry and then run `poetry install` from a command prompt to load required resources. If you would like to run without using Poetry, then you can manually load dependencies using Pip:\n",
    "\n",
    "```bash\n",
    "# Optional step if NOT using poetry\n",
    "pip install pandas\n",
    "pip install ipykernel\n",
    "pip install jupyter --user\n",
    "```\n",
    "\n",
    "It is recommended that these be installed in a virtual environment, which Poetry handles for you. Alternately, you can use equivalent commands in Anaconda.\n",
    "\n",
    "This notebook can be run from within Visual Studio Code or it can run in a browser window by executing the following command:\n",
    "\n",
    "```bash\n",
    "# With Poetry\n",
    "poetry run jupyter notebook\n",
    "\n",
    "# Without Poetry\n",
    "jupyter notebook\n",
    "```"
   ],
   "cell_type": "markdown",
   "metadata": {}
  },
  {
   "source": [
    "## Understanding the Filesystem\n",
    "\n",
    "The LMS Extractors output a number of discrete files, corresponding to concepts in the Ed-Fi LMS Unified Data Model:\n",
    "\n",
    "* Activities\n",
    "* Assignments\n",
    "* Attendance Events (_only with Schoology_)\n",
    "* Grades\n",
    "* Sections\n",
    "* Section Associations (aka _enrollments_)\n",
    "* Submissions\n",
    "* User Activities\n",
    "* Users\n",
    "\n",
    "Each file contains all of the current data for the given model, so that you only need to read one file to get a complete snapshot for a single resource. But there is a catch to that: some of these concepts are section-specific, for example assignments. Rather than try to store all assignment data _for all sections_ in a single file, we create _one assignment file per section_. The same is true for attendance events, grades, section associations, and user activities. Furthermore, submissions are dependent on assignments, thus there is one submissions file per assignment, containing all submission records for that assignment. The file layout mirrors this heirarchy: there is a directory for each resource type, and dependent resources are nested under directories named for the given section or assignment.\n",
    "\n",
    "This convention may seem a little strange for a human, but it is very easy to navigate for the computer. Each directory may have multiple files, one for each time you run the extractor, but you only need to load the most recent file to get the current snapshot. We make that easy by using the date and time as the file name. Thus after running once, you may end up with files like this, where 12345 is the source system identifier for a unique section and 67890 is the source system identifier for a unique assignment:\n",
    "\n",
    "![Sample file layout](filesystem.svg)\n",
    "\n",
    "Note: `base_directory` is whatever directory was specified in the configuration when running the extractor utility.\n",
    "\n",
    "Presumably the extractor utility will be run on a periodic basis, for instance weekly or daily. In that case each directory will have multiple files. Since the filenames have the date and time embedded in them, sorting on the file names will make it easy to pick up only the most recent file, regardless of whether or not some other process has modified the file and thus altered the operating system date on the file.\n",
    "\n",
    "## Helper Functions\n",
    "\n",
    "### Accessing Files\n",
    "\n",
    "Outside this notebook you will find a Python module file called `lms_utilities.py`. This module contains a number of functions to help access files in the filesystem, including the following (where `base_directory` is the parent directory containing all of the LMS-extracted files):\n",
    "\n",
    "| Function | Argument |\n",
    "| -------- | -------- |\n",
    "| get_users_file | base_directory (string) |\n",
    "| get_sections_file | base_directory (string) |\n",
    "| get_assignments_file | base_directory (string), section_id (int) |\n",
    "| get_attendance_events_file | base_directory (string), section_id (int) |\n",
    "| get_grades_file | base_directory (string), section_id (int) |\n",
    "| get_section_associations_file | base_directory (string), section_id (int) |\n",
    "| get_user_activities_file | base_directory (string), section_id (int) |\n",
    "| get_submissions_file | base_directory (string), section_id (int), assignment_id (int) |\n",
    "\n",
    "The next code cell demonstrates import and usage of these functions."
   ],
   "cell_type": "markdown",
   "metadata": {}
  },
  {
   "cell_type": "code",
   "execution_count": 1,
   "metadata": {},
   "outputs": [
    {
     "output_type": "stream",
     "name": "stdout",
     "text": [
      "Users file: ..\\..\\docs\\sample-out\\users\\2020-09-18-15-05-01.csv\nSections file: ..\\..\\docs\\sample-out\\sections\\2020-09-17-15-04-23.csv\nAssignments file for Section 123456780: ..\\..\\docs\\sample-out\\section=123456780\\assignments\\2020-09-18-15-04-24.csv\nAssignment Submissions file for Assignment 2942251001: ..\\..\\docs\\sample-out\\section=123456780\\assignment=2942251001\\submissions\\2020-09-17-15-04-23.csv\nAttendance Events file for Section 2385758954: ..\\..\\docs\\sample-out\\section=2385758954\\attendance-events\\2020-09-17-15-04-23.csv\nGrades file for for Section 123456780: ..\\..\\docs\\sample-out\\section=123456780\\grades\\2020-09-18-15-04-24.csv\nSection Associations file for for Section 123456780: ..\\..\\docs\\sample-out\\section=123456780\\section-associations\\2020-09-18-15-04-24.csv\nUser Activities file for Section 2385758954: ..\\..\\docs\\sample-out\\section=2385758954\\user-activities\\2020-09-21-11-08-34.csv\n"
     ]
    }
   ],
   "source": [
    "# Load this helper module to access the functions\n",
    "import lms_utilities as lms\n",
    "\n",
    "# Let's look at sample output from each filesystem function, using this \n",
    "# repository's `docs/sample-out` directory.\n",
    "import os\n",
    "sample_dir = os.path.join(\"..\", \"..\", \"docs\", \"sample-out\")\n",
    "\n",
    "print(\"Users file:\", lms.get_users_file(sample_dir))\n",
    "print(\"Sections file:\", lms.get_sections_file(sample_dir))\n",
    "print(\"Assignments file for Section 123456780:\", lms.get_assignments_file(sample_dir, 123456780))\n",
    "print(\"Assignment Submissions file for Assignment 2942251001:\", lms.get_submissions_file(sample_dir, 123456780, 2942251001))\n",
    "print(\"Attendance Events file for Section 2385758954:\", lms.get_attendance_events_file(sample_dir, 2385758954))\n",
    "print(\"Grades file for for Section 123456780:\", lms.get_grades_file(sample_dir, 123456780))\n",
    "print(\"Section Associations file for for Section 123456780:\", lms.get_section_associations_file(sample_dir, 123456780))\n",
    "print(\"User Activities file for Section 2385758954:\", lms.get_user_activities_file(sample_dir, 2385758954))"
   ]
  },
  {
   "source": [
    "### Loading Files into DataFrames\n",
    "\n",
    "The same `lms_utilities.py` file also contains a number of functions that will load the most recent CSV files - leveraging the functions above - into [Pandas DataFrames](https://pandas.pydata.org/) for display and analysis.\n",
    "\n",
    "Note that the functions for data nested under sections is using the output from `get_all_sections`, and thus _will only pull data for active sections_. For example, if assignments, activities, etc. for section 12345 were retrieved historically, but section 12345 is no longer active (not in the current sections file), then these functions will ignore the data for section 12345. You can of course adapt these functions for your own use to access historical data as needed.\n",
    "\n",
    "| Function Name | Arguments | Output |\n",
    "| ------------- | --------- | ------ |\n",
    "| get_all_users | base_directory (string) | DataFrame with all user records from the most recent file |\n",
    "| get_all_sections | base_directory (string) | DataFrame with all section records from the most recent file |\n",
    "| get_assignments | base_directory (string), section_id (int) | DataFrame with all assignments for the given section_id |\n",
    "| get_all_assignments | base_directory (string), sections (DataFrame) | DataFrame with all assignments from all sections |\n",
    "| get_attendance_events | base_directory (string), section_id (int) | DataFrame with all attendance events for the given section_id |\n",
    "| get_all_attendance_events | base_directory (string), sections (DataFrame) | DataFrame with all attendance events from all sections |\n",
    "| get_grades | base_directory (string), section_id (int) | DataFrame with all grades for the given section_id |\n",
    "| get_all_grades | base_directory (string), sections (DataFrame) | DataFrame with all grades from all sections |\n",
    "| get_section_associations | base_directory (string), section_id (int) | DataFrame with all section associations for the given section_id |\n",
    "| get_all_section_associations | base_directory (string), sections (DataFrame) | DataFrame with all section associations from all sections |\n",
    "| get_user_activities | base_directory (string), section_id (int) | DataFrame with all activities for the given section_id |\n",
    "| get_all_user_activities | base_directory (string), sections (DataFrame) | DataFrame with all activities from all sections |\n",
    "| get_submissions | base_directory (string), section_id (int), assignment_id(int) | DataFrame with all submissions for the given assignment |\n",
    "| get_all_submissions | base_directory (string), assignments (DataFrame) | DataFrame with all submissions from all sections |\n",
    "\n",
    "The next code cell demonstrates use of these functions by displaying the first few records for each type of file."
   ],
   "cell_type": "markdown",
   "metadata": {}
  },
  {
   "cell_type": "code",
   "execution_count": 2,
   "metadata": {},
   "outputs": [
    {
     "output_type": "display_data",
     "data": {
      "text/plain": "<IPython.core.display.Markdown object>",
      "text/markdown": "### Users"
     },
     "metadata": {}
    },
    {
     "output_type": "display_data",
     "data": {
      "text/plain": "   SourceSystemIdentifier SourceSystem  ...       CreateDate LastModifiedDate\n0               100032890    Schoology  ...  8/20/2020 12:34  9/18/2020 12:34\n1               100032891    Schoology  ...  8/20/2020 12:34  9/18/2020 12:34\n2               100032892    Schoology  ...  8/20/2020 12:34  8/20/2020 12:34\n3               100032893    Schoology  ...  8/20/2020 12:34  8/20/2020 12:34\n4               100032894    Schoology  ...  8/20/2020 12:34  8/20/2020 12:34\n\n[5 rows x 10 columns]",
      "text/html": "<div>\n<style scoped>\n    .dataframe tbody tr th:only-of-type {\n        vertical-align: middle;\n    }\n\n    .dataframe tbody tr th {\n        vertical-align: top;\n    }\n\n    .dataframe thead th {\n        text-align: right;\n    }\n</style>\n<table border=\"1\" class=\"dataframe\">\n  <thead>\n    <tr style=\"text-align: right;\">\n      <th></th>\n      <th>SourceSystemIdentifier</th>\n      <th>SourceSystem</th>\n      <th>UserRole</th>\n      <th>LocalUserIdentifier</th>\n      <th>SISUserIdentifier</th>\n      <th>Name</th>\n      <th>EmailAddress</th>\n      <th>EntityStatus</th>\n      <th>CreateDate</th>\n      <th>LastModifiedDate</th>\n    </tr>\n  </thead>\n  <tbody>\n    <tr>\n      <th>0</th>\n      <td>100032890</td>\n      <td>Schoology</td>\n      <td>student</td>\n      <td>mary.archer</td>\n      <td>604863</td>\n      <td>Mary Archer</td>\n      <td>Mary.Archer@studentgps.org</td>\n      <td>Archived</td>\n      <td>8/20/2020 12:34</td>\n      <td>9/18/2020 12:34</td>\n    </tr>\n    <tr>\n      <th>1</th>\n      <td>100032891</td>\n      <td>Schoology</td>\n      <td>student</td>\n      <td>kyle.hughes</td>\n      <td>604874</td>\n      <td>Kyle Hughes</td>\n      <td>Kyle.Hughes@studentgps.org</td>\n      <td>Archived</td>\n      <td>8/20/2020 12:34</td>\n      <td>9/18/2020 12:34</td>\n    </tr>\n    <tr>\n      <th>2</th>\n      <td>100032892</td>\n      <td>Schoology</td>\n      <td>student</td>\n      <td>peter.nash</td>\n      <td>604918</td>\n      <td>Peter Ivan Nash</td>\n      <td>Peter.Nash@studentgps.org</td>\n      <td>Active</td>\n      <td>8/20/2020 12:34</td>\n      <td>8/20/2020 12:34</td>\n    </tr>\n    <tr>\n      <th>3</th>\n      <td>100032893</td>\n      <td>Schoology</td>\n      <td>student</td>\n      <td>larry.mahoney</td>\n      <td>604927</td>\n      <td>Larry Mahoney</td>\n      <td>Larry.Mahoney@studentgps.org</td>\n      <td>Active</td>\n      <td>8/20/2020 12:34</td>\n      <td>8/20/2020 12:34</td>\n    </tr>\n    <tr>\n      <th>4</th>\n      <td>100032894</td>\n      <td>Schoology</td>\n      <td>student</td>\n      <td>roland.phillips</td>\n      <td>604938</td>\n      <td>Roland Phillips</td>\n      <td>Roland.Phillips@studentgps.org</td>\n      <td>Active</td>\n      <td>8/20/2020 12:34</td>\n      <td>8/20/2020 12:34</td>\n    </tr>\n  </tbody>\n</table>\n</div>"
     },
     "metadata": {}
    },
    {
     "output_type": "display_data",
     "data": {
      "text/plain": "<IPython.core.display.Markdown object>",
      "text/markdown": "### Sections"
     },
     "metadata": {}
    },
    {
     "output_type": "display_data",
     "data": {
      "text/plain": "   SourceSystemIdentifier      SourceSystem  ...       CreateDate LastModifiedDate\n0               123456780  Google Classroom  ...  8/20/2020 12:34  8/20/2020 12:34\n1               123456789  Google Classroom  ...  8/20/2020 12:34  8/20/2020 12:34\n2              2385758954  Google Classroom  ...  8/20/2020 12:34  8/20/2020 12:34\n3               123456791  Google Classroom  ...    9/3/2020 1:02    9/4/2020 0:01\n\n[4 rows x 10 columns]",
      "text/html": "<div>\n<style scoped>\n    .dataframe tbody tr th:only-of-type {\n        vertical-align: middle;\n    }\n\n    .dataframe tbody tr th {\n        vertical-align: top;\n    }\n\n    .dataframe thead th {\n        text-align: right;\n    }\n</style>\n<table border=\"1\" class=\"dataframe\">\n  <thead>\n    <tr style=\"text-align: right;\">\n      <th></th>\n      <th>SourceSystemIdentifier</th>\n      <th>SourceSystem</th>\n      <th>SISSectionIdentifier</th>\n      <th>Title</th>\n      <th>SectionDescription</th>\n      <th>Term</th>\n      <th>LMSSectionStatus</th>\n      <th>EntityStatus</th>\n      <th>CreateDate</th>\n      <th>LastModifiedDate</th>\n    </tr>\n  </thead>\n  <tbody>\n    <tr>\n      <th>0</th>\n      <td>123456780</td>\n      <td>Google Classroom</td>\n      <td>25590100102Trad220ALG112011</td>\n      <td>ALG-1</td>\n      <td>Algebra I</td>\n      <td>255901001_2020_2019-2020_Fall,255901001_2020_2...</td>\n      <td>Archived</td>\n      <td>Active</td>\n      <td>8/20/2020 12:34</td>\n      <td>8/20/2020 12:34</td>\n    </tr>\n    <tr>\n      <th>1</th>\n      <td>123456789</td>\n      <td>Google Classroom</td>\n      <td>25590100101Trad120ENG112011</td>\n      <td>ENG-1</td>\n      <td>English/Language Arts I (9th grade)</td>\n      <td>255901001_2021_2020-2021_Fall,255901001_2021_2...</td>\n      <td>Active</td>\n      <td>Active</td>\n      <td>8/20/2020 12:34</td>\n      <td>8/20/2020 12:34</td>\n    </tr>\n    <tr>\n      <th>2</th>\n      <td>2385758954</td>\n      <td>Google Classroom</td>\n      <td>25590100102Trad220ALG112011</td>\n      <td>ALG-1</td>\n      <td>Algebra I</td>\n      <td>255901001_2021_2020-2021_Fall,255901001_2021_2...</td>\n      <td>Active</td>\n      <td>Active</td>\n      <td>8/20/2020 12:34</td>\n      <td>8/20/2020 12:34</td>\n    </tr>\n    <tr>\n      <th>3</th>\n      <td>123456791</td>\n      <td>Google Classroom</td>\n      <td>NaN</td>\n      <td>ENG-STAFF-1</td>\n      <td>English language arts staff meeting</td>\n      <td>NaN</td>\n      <td>Unpublished</td>\n      <td>Active</td>\n      <td>9/3/2020 1:02</td>\n      <td>9/4/2020 0:01</td>\n    </tr>\n  </tbody>\n</table>\n</div>"
     },
     "metadata": {}
    },
    {
     "output_type": "display_data",
     "data": {
      "text/plain": "<IPython.core.display.Markdown object>",
      "text/markdown": "### Assignments"
     },
     "metadata": {}
    },
    {
     "output_type": "display_data",
     "data": {
      "text/plain": "   SourceSystemIdentifier  ...     LastModifiedDate\n0              2942251001  ...  2020-08-20 12:34:50\n1              2942251002  ...  2020-08-20 12:34:50\n0              2942251012  ...  2020-08-20 12:34:50\n\n[3 rows x 14 columns]",
      "text/html": "<div>\n<style scoped>\n    .dataframe tbody tr th:only-of-type {\n        vertical-align: middle;\n    }\n\n    .dataframe tbody tr th {\n        vertical-align: top;\n    }\n\n    .dataframe thead th {\n        text-align: right;\n    }\n</style>\n<table border=\"1\" class=\"dataframe\">\n  <thead>\n    <tr style=\"text-align: right;\">\n      <th></th>\n      <th>SourceSystemIdentifier</th>\n      <th>SourceSystem</th>\n      <th>Title</th>\n      <th>AssignmentCategory</th>\n      <th>AssignmentDescription</th>\n      <th>StartDateTime</th>\n      <th>EndDateTime</th>\n      <th>DueDateTime</th>\n      <th>SubmissionType</th>\n      <th>MaxPoints</th>\n      <th>LMSSectionSourceSystemIdentifier</th>\n      <th>EntityStatus</th>\n      <th>CreateDate</th>\n      <th>LastModifiedDate</th>\n    </tr>\n  </thead>\n  <tbody>\n    <tr>\n      <th>0</th>\n      <td>2942251001</td>\n      <td>Schoology</td>\n      <td>Algebra foundations</td>\n      <td>Assignment</td>\n      <td>Complete the Khan Academy unit: Algebra Founda...</td>\n      <td>2020-08-26 23:59:00</td>\n      <td>2020-08-28 23:59:00</td>\n      <td>2020-08-28 23:59:00</td>\n      <td>online_upload</td>\n      <td>100</td>\n      <td>123456780</td>\n      <td>Active</td>\n      <td>2020-08-20 12:34:50</td>\n      <td>2020-08-20 12:34:50</td>\n    </tr>\n    <tr>\n      <th>1</th>\n      <td>2942251002</td>\n      <td>Schoology</td>\n      <td>Solving Equations and Inequalities</td>\n      <td>Assessment</td>\n      <td>Complete the Khan Academy unit: Solving Equati...</td>\n      <td>2020-08-28 23:59:00</td>\n      <td>2020-12-31 23:59:00</td>\n      <td>2020-12-31 23:59:00</td>\n      <td>online_quiz</td>\n      <td>100</td>\n      <td>123456780</td>\n      <td>Active</td>\n      <td>2020-08-20 12:34:50</td>\n      <td>2020-08-20 12:34:50</td>\n    </tr>\n    <tr>\n      <th>0</th>\n      <td>2942251012</td>\n      <td>Schoology</td>\n      <td>Redundancy in War and Peace</td>\n      <td>Assignment</td>\n      <td>Describe with statistical examples how Tolsto...</td>\n      <td>2021-04-01 09:00:00</td>\n      <td>2021-05-01 00:00:00</td>\n      <td>2021-05-01 00:00:00</td>\n      <td>online_upload</td>\n      <td>100</td>\n      <td>123456789</td>\n      <td>Active</td>\n      <td>2020-08-20 12:34:50</td>\n      <td>2020-08-20 12:34:50</td>\n    </tr>\n  </tbody>\n</table>\n</div>"
     },
     "metadata": {}
    },
    {
     "output_type": "display_data",
     "data": {
      "text/plain": "<IPython.core.display.Markdown object>",
      "text/markdown": "### Attendance Events (Schoology only!)"
     },
     "metadata": {}
    },
    {
     "output_type": "display_data",
     "data": {
      "text/plain": "  SourceSystemIdentifier SourceSystem  ...       CreateDate LastModifiedDate\n0  2385758954-2020-08-28    schoology  ...  8/20/2020 12:34  8/20/2020 12:34\n1  2385758954-2020-08-29    schoology  ...  8/20/2020 12:34  8/20/2020 12:34\n\n[2 rows x 10 columns]",
      "text/html": "<div>\n<style scoped>\n    .dataframe tbody tr th:only-of-type {\n        vertical-align: middle;\n    }\n\n    .dataframe tbody tr th {\n        vertical-align: top;\n    }\n\n    .dataframe thead th {\n        text-align: right;\n    }\n</style>\n<table border=\"1\" class=\"dataframe\">\n  <thead>\n    <tr style=\"text-align: right;\">\n      <th></th>\n      <th>SourceSystemIdentifier</th>\n      <th>SourceSystem</th>\n      <th>Date</th>\n      <th>AttendanceStatus</th>\n      <th>SectionAssociationSystemIdentifier</th>\n      <th>UserSourceSystemIdentifier</th>\n      <th>UserLMSSectionAssociationSourceSystemIdentifier</th>\n      <th>EntityStatus</th>\n      <th>CreateDate</th>\n      <th>LastModifiedDate</th>\n    </tr>\n  </thead>\n  <tbody>\n    <tr>\n      <th>0</th>\n      <td>2385758954-2020-08-28</td>\n      <td>schoology</td>\n      <td>8/28/2020</td>\n      <td>Excused</td>\n      <td>2385758954</td>\n      <td>57896</td>\n      <td>123456</td>\n      <td>Active</td>\n      <td>8/20/2020 12:34</td>\n      <td>8/20/2020 12:34</td>\n    </tr>\n    <tr>\n      <th>1</th>\n      <td>2385758954-2020-08-29</td>\n      <td>schoology</td>\n      <td>8/29/2020</td>\n      <td>Unexcused</td>\n      <td>2385758954</td>\n      <td>456789</td>\n      <td>123456</td>\n      <td>Active</td>\n      <td>8/20/2020 12:34</td>\n      <td>8/20/2020 12:34</td>\n    </tr>\n  </tbody>\n</table>\n</div>"
     },
     "metadata": {}
    },
    {
     "output_type": "display_data",
     "data": {
      "text/plain": "<IPython.core.display.Markdown object>",
      "text/markdown": "### Grades"
     },
     "metadata": {}
    },
    {
     "output_type": "display_data",
     "data": {
      "text/plain": "   SourceSystemIdentifier SourceSystem  ...       CreateDate LastModifiedDate\n0                 1357982       Canvas  ...  8/20/2020 12:34  8/20/2020 12:34\n1                 1357983       Canvas  ...  8/20/2020 12:34  8/20/2020 12:34\n2                 1357984       Canvas  ...  8/20/2020 12:34  8/20/2020 12:34\n3                 1357985       Canvas  ...  8/20/2020 12:34  8/20/2020 12:34\n0                11357982       Canvas  ...  8/20/2020 12:34  8/20/2020 12:34\n\n[5 rows x 8 columns]",
      "text/html": "<div>\n<style scoped>\n    .dataframe tbody tr th:only-of-type {\n        vertical-align: middle;\n    }\n\n    .dataframe tbody tr th {\n        vertical-align: top;\n    }\n\n    .dataframe thead th {\n        text-align: right;\n    }\n</style>\n<table border=\"1\" class=\"dataframe\">\n  <thead>\n    <tr style=\"text-align: right;\">\n      <th></th>\n      <th>SourceSystemIdentifier</th>\n      <th>SourceSystem</th>\n      <th>Grade</th>\n      <th>GradeType</th>\n      <th>LMSUserLMSSectionAssociationSourceSystemIdentifier</th>\n      <th>EntityStatus</th>\n      <th>CreateDate</th>\n      <th>LastModifiedDate</th>\n    </tr>\n  </thead>\n  <tbody>\n    <tr>\n      <th>0</th>\n      <td>1357982</td>\n      <td>Canvas</td>\n      <td>A</td>\n      <td>Current</td>\n      <td>8123456</td>\n      <td>Active</td>\n      <td>8/20/2020 12:34</td>\n      <td>8/20/2020 12:34</td>\n    </tr>\n    <tr>\n      <th>1</th>\n      <td>1357983</td>\n      <td>Canvas</td>\n      <td>90</td>\n      <td>Current</td>\n      <td>8123457</td>\n      <td>Active</td>\n      <td>8/20/2020 12:34</td>\n      <td>8/20/2020 12:34</td>\n    </tr>\n    <tr>\n      <th>2</th>\n      <td>1357984</td>\n      <td>Canvas</td>\n      <td>55</td>\n      <td>Final</td>\n      <td>8123458</td>\n      <td>Archived</td>\n      <td>8/20/2020 12:34</td>\n      <td>8/20/2020 12:34</td>\n    </tr>\n    <tr>\n      <th>3</th>\n      <td>1357985</td>\n      <td>Canvas</td>\n      <td>B</td>\n      <td>Final</td>\n      <td>8123459</td>\n      <td>Active</td>\n      <td>8/20/2020 12:34</td>\n      <td>8/20/2020 12:34</td>\n    </tr>\n    <tr>\n      <th>0</th>\n      <td>11357982</td>\n      <td>Canvas</td>\n      <td>A</td>\n      <td>Current</td>\n      <td>123456</td>\n      <td>Active</td>\n      <td>8/20/2020 12:34</td>\n      <td>8/20/2020 12:34</td>\n    </tr>\n  </tbody>\n</table>\n</div>"
     },
     "metadata": {}
    },
    {
     "output_type": "display_data",
     "data": {
      "text/plain": "<IPython.core.display.Markdown object>",
      "text/markdown": "### Section Associations"
     },
     "metadata": {}
    },
    {
     "output_type": "display_data",
     "data": {
      "text/plain": "   SourceSystemIdentifier SourceSystem  ...       CreateDate LastModifiedDate\n0                 8123459       Canvas  ...  8/20/2020 12:34  8/20/2020 12:34\n1                 8123456       Canvas  ...  8/20/2020 12:34  8/20/2020 12:34\n2                 8123457       Canvas  ...  8/20/2020 12:34  8/20/2020 12:34\n3                 8123458       Canvas  ...  8/20/2020 12:34  8/20/2020 12:34\n0                  123456       Canvas  ...  8/20/2020 12:34  8/20/2020 12:34\n\n[5 rows x 10 columns]",
      "text/html": "<div>\n<style scoped>\n    .dataframe tbody tr th:only-of-type {\n        vertical-align: middle;\n    }\n\n    .dataframe tbody tr th {\n        vertical-align: top;\n    }\n\n    .dataframe thead th {\n        text-align: right;\n    }\n</style>\n<table border=\"1\" class=\"dataframe\">\n  <thead>\n    <tr style=\"text-align: right;\">\n      <th></th>\n      <th>SourceSystemIdentifier</th>\n      <th>SourceSystem</th>\n      <th>EnrollmentStatus</th>\n      <th>StartDate</th>\n      <th>EndDate</th>\n      <th>LMSUserSourceSystemIdentifier</th>\n      <th>LMSSectionSourceSystemIdentifier</th>\n      <th>EntityStatus</th>\n      <th>CreateDate</th>\n      <th>LastModifiedDate</th>\n    </tr>\n  </thead>\n  <tbody>\n    <tr>\n      <th>0</th>\n      <td>8123459</td>\n      <td>Canvas</td>\n      <td>Active</td>\n      <td>8/17/2020</td>\n      <td>12/18/2020</td>\n      <td>100032890</td>\n      <td>123456789</td>\n      <td>Active</td>\n      <td>8/20/2020 12:34</td>\n      <td>8/20/2020 12:34</td>\n    </tr>\n    <tr>\n      <th>1</th>\n      <td>8123456</td>\n      <td>Canvas</td>\n      <td>Completed</td>\n      <td>8/17/2020</td>\n      <td>12/18/2020</td>\n      <td>100032891</td>\n      <td>123456789</td>\n      <td>Active</td>\n      <td>8/20/2020 12:34</td>\n      <td>8/20/2020 12:34</td>\n    </tr>\n    <tr>\n      <th>2</th>\n      <td>8123457</td>\n      <td>Canvas</td>\n      <td>Inactive</td>\n      <td>8/17/2020</td>\n      <td>12/18/2020</td>\n      <td>100032892</td>\n      <td>123456789</td>\n      <td>Archived</td>\n      <td>8/20/2020 12:34</td>\n      <td>8/20/2020 12:34</td>\n    </tr>\n    <tr>\n      <th>3</th>\n      <td>8123458</td>\n      <td>Canvas</td>\n      <td>Active</td>\n      <td>8/17/2020</td>\n      <td>12/18/2020</td>\n      <td>100032893</td>\n      <td>123456789</td>\n      <td>Active</td>\n      <td>8/20/2020 12:34</td>\n      <td>8/20/2020 12:34</td>\n    </tr>\n    <tr>\n      <th>0</th>\n      <td>123456</td>\n      <td>Canvas</td>\n      <td>Active</td>\n      <td>1/4/2021</td>\n      <td>5/28/2021</td>\n      <td>100032894</td>\n      <td>123456780</td>\n      <td>Active</td>\n      <td>8/20/2020 12:34</td>\n      <td>8/20/2020 12:34</td>\n    </tr>\n  </tbody>\n</table>\n</div>"
     },
     "metadata": {}
    },
    {
     "output_type": "display_data",
     "data": {
      "text/plain": "<IPython.core.display.Markdown object>",
      "text/markdown": "### User Activities"
     },
     "metadata": {}
    },
    {
     "output_type": "display_data",
     "data": {
      "text/plain": "   SourceSystemIdentifier SourceSystem  ...       CreateDate LastModifiedDate\n0               987654321       Canvas  ...  9/19/2020 14:23  9/19/2020 14:23\n\n[1 rows x 12 columns]",
      "text/html": "<div>\n<style scoped>\n    .dataframe tbody tr th:only-of-type {\n        vertical-align: middle;\n    }\n\n    .dataframe tbody tr th {\n        vertical-align: top;\n    }\n\n    .dataframe thead th {\n        text-align: right;\n    }\n</style>\n<table border=\"1\" class=\"dataframe\">\n  <thead>\n    <tr style=\"text-align: right;\">\n      <th></th>\n      <th>SourceSystemIdentifier</th>\n      <th>SourceSystem</th>\n      <th>ActivityType</th>\n      <th>ActivityDateTime</th>\n      <th>ActivityStatus</th>\n      <th>MessagePost</th>\n      <th>TotalActivityTimeInMinutes</th>\n      <th>LMSSectionSourceSystemIdentifier</th>\n      <th>UserSourceSystemIdentifier</th>\n      <th>EntityStatus</th>\n      <th>CreateDate</th>\n      <th>LastModifiedDate</th>\n    </tr>\n  </thead>\n  <tbody>\n    <tr>\n      <th>0</th>\n      <td>987654321</td>\n      <td>Canvas</td>\n      <td>Discussion</td>\n      <td>9/19/2020 14:23</td>\n      <td>Published</td>\n      <td>First post!, with comma</td>\n      <td>98</td>\n      <td>34567</td>\n      <td>2385758954</td>\n      <td>Active</td>\n      <td>9/19/2020 14:23</td>\n      <td>9/19/2020 14:23</td>\n    </tr>\n  </tbody>\n</table>\n</div>"
     },
     "metadata": {}
    },
    {
     "output_type": "display_data",
     "data": {
      "text/plain": "<IPython.core.display.Markdown object>",
      "text/markdown": "### Submissions"
     },
     "metadata": {}
    },
    {
     "output_type": "display_data",
     "data": {
      "text/plain": "   SourceSystemIdentifier SourceSystem  ...       CreateDate LastModifiedDate\n0               456789156       Canvas  ...  8/20/2020 12:34  8/20/2020 12:34\n1               456789157       Canvas  ...  8/20/2020 12:34  8/20/2020 12:34\n2               456789158       Canvas  ...  8/20/2020 12:34  8/20/2020 12:34\n3               456789159       Canvas  ...  8/20/2020 12:34  8/20/2020 12:34\n0               456789156       Canvas  ...  8/20/2020 12:34  8/20/2020 12:34\n\n[5 rows x 11 columns]",
      "text/html": "<div>\n<style scoped>\n    .dataframe tbody tr th:only-of-type {\n        vertical-align: middle;\n    }\n\n    .dataframe tbody tr th {\n        vertical-align: top;\n    }\n\n    .dataframe thead th {\n        text-align: right;\n    }\n</style>\n<table border=\"1\" class=\"dataframe\">\n  <thead>\n    <tr style=\"text-align: right;\">\n      <th></th>\n      <th>SourceSystemIdentifier</th>\n      <th>SourceSystem</th>\n      <th>SubmissionStatus</th>\n      <th>SubmissionDateTime</th>\n      <th>EarnedPoints</th>\n      <th>Grade</th>\n      <th>AssignmentSourceSystemIdentifier</th>\n      <th>LMSUserSourceSystemIdentifier</th>\n      <th>EntityStatus</th>\n      <th>CreateDate</th>\n      <th>LastModifiedDate</th>\n    </tr>\n  </thead>\n  <tbody>\n    <tr>\n      <th>0</th>\n      <td>456789156</td>\n      <td>Canvas</td>\n      <td>Returned</td>\n      <td>8/23/2020 23:59</td>\n      <td>77.0</td>\n      <td>C+</td>\n      <td>2942251001</td>\n      <td>2942251012</td>\n      <td>Active</td>\n      <td>8/20/2020 12:34</td>\n      <td>8/20/2020 12:34</td>\n    </tr>\n    <tr>\n      <th>1</th>\n      <td>456789157</td>\n      <td>Canvas</td>\n      <td>Returned</td>\n      <td>12/30/2020 23:59</td>\n      <td>82.0</td>\n      <td>B-</td>\n      <td>2942251001</td>\n      <td>100032894</td>\n      <td>Active</td>\n      <td>8/20/2020 12:34</td>\n      <td>8/20/2020 12:34</td>\n    </tr>\n    <tr>\n      <th>2</th>\n      <td>456789158</td>\n      <td>Canvas</td>\n      <td>Late</td>\n      <td>2021-05-01 02:00:00</td>\n      <td>91.0</td>\n      <td>A-</td>\n      <td>2942251001</td>\n      <td>100032897</td>\n      <td>Active</td>\n      <td>8/20/2020 12:34</td>\n      <td>8/20/2020 12:34</td>\n    </tr>\n    <tr>\n      <th>3</th>\n      <td>456789159</td>\n      <td>Canvas</td>\n      <td>Created</td>\n      <td>2021-04-31 04:32:00</td>\n      <td>NaN</td>\n      <td>NaN</td>\n      <td>2942251001</td>\n      <td>2942251012</td>\n      <td>Active</td>\n      <td>8/20/2020 12:34</td>\n      <td>8/20/2020 12:34</td>\n    </tr>\n    <tr>\n      <th>0</th>\n      <td>456789156</td>\n      <td>Canvas</td>\n      <td>Returned</td>\n      <td>8/23/2020 23:59</td>\n      <td>77.0</td>\n      <td>C+</td>\n      <td>2942251012</td>\n      <td>2942251012</td>\n      <td>Active</td>\n      <td>8/20/2020 12:34</td>\n      <td>8/20/2020 12:34</td>\n    </tr>\n  </tbody>\n</table>\n</div>"
     },
     "metadata": {}
    }
   ],
   "source": [
    "from IPython.display import display, Markdown\n",
    "\n",
    "users_df = lms.get_all_users(sample_dir)\n",
    "\n",
    "display(Markdown(\"### Users\"))\n",
    "display(users_df.head())\n",
    "\n",
    "sections_df = lms.get_all_sections(sample_dir)\n",
    "\n",
    "display(Markdown(\"### Sections\"))\n",
    "display(sections_df.head())\n",
    "\n",
    "all_assignments_df = lms.get_all_assignments(sample_dir, sections_df)\n",
    "\n",
    "display(Markdown(\"### Assignments\"))\n",
    "display(all_assignments_df.head())\n",
    "\n",
    "all_attendance_events_df = lms.get_all_attendance_events(sample_dir, sections_df)\n",
    "\n",
    "display(Markdown(\"### Attendance Events (Schoology only!)\"))\n",
    "display(all_attendance_events_df.head())\n",
    "\n",
    "all_grades_df = lms.get_all_grades(sample_dir, sections_df)\n",
    "\n",
    "display(Markdown(\"### Grades\"))\n",
    "display(all_grades_df.head())\n",
    "\n",
    "all_section_associations_df = lms.get_all_section_associations(sample_dir, sections_df)\n",
    "\n",
    "display(Markdown(\"### Section Associations\"))\n",
    "display(all_section_associations_df.head())\n",
    "\n",
    "all_user_activities_df = lms.get_all_user_activities(sample_dir, sections_df)\n",
    "\n",
    "display(Markdown(\"### User Activities\"))\n",
    "display(all_user_activities_df.head())\n",
    "\n",
    "all_submissions_df = lms.get_all_submissions(sample_dir, all_assignments_df)\n",
    "\n",
    "display(Markdown(\"### Submissions\"))\n",
    "display(all_submissions_df.head())"
   ]
  },
  {
   "source": [
    "## Sample Analysis\n",
    "\n",
    "### In Danger of Failing\n",
    "\n",
    "Goal: Find all students with average grade (across all sections) below 70, displaying the student name and average grade.\n",
    "\n",
    "This will require reading the sections file, the users file, section associations, and all grades file. These will need to be joined together, grouped by student, and then the grade will be calculated. Filter by average grade and then display the name and average grade columns.\n",
    "\n",
    "But there are some \"gotchas\":\n",
    "\n",
    "* Some of the grades are alphabetic! Interpret these on a scale like A = 95, B = 85, and so on.\n",
    "* There are two different grade types: Final and Current. Filter on only Final grades for this exercise."
   ],
   "cell_type": "markdown",
   "metadata": {}
  },
  {
   "cell_type": "code",
   "execution_count": 3,
   "metadata": {},
   "outputs": [
    {
     "output_type": "display_data",
     "data": {
      "text/plain": "<IPython.core.display.Markdown object>",
      "text/markdown": "Students who are currently failing:"
     },
     "metadata": {}
    },
    {
     "output_type": "display_data",
     "data": {
      "text/plain": "   SISUserIdentifier  Grade           Name\n1             604927   62.0  Larry Mahoney",
      "text/html": "<div>\n<style scoped>\n    .dataframe tbody tr th:only-of-type {\n        vertical-align: middle;\n    }\n\n    .dataframe tbody tr th {\n        vertical-align: top;\n    }\n\n    .dataframe thead th {\n        text-align: right;\n    }\n</style>\n<table border=\"1\" class=\"dataframe\">\n  <thead>\n    <tr style=\"text-align: right;\">\n      <th></th>\n      <th>SISUserIdentifier</th>\n      <th>Grade</th>\n      <th>Name</th>\n    </tr>\n  </thead>\n  <tbody>\n    <tr>\n      <th>1</th>\n      <td>604927</td>\n      <td>62.0</td>\n      <td>Larry Mahoney</td>\n    </tr>\n  </tbody>\n</table>\n</div>"
     },
     "metadata": {}
    }
   ],
   "source": [
    "sample_dir = os.path.join(\"..\", \"..\", \"docs\", \"sample-out\")\n",
    "\n",
    "users = lms.get_all_users(sample_dir)\n",
    "sections = lms.get_all_sections(sample_dir)\n",
    "section_associations = lms.get_all_section_associations(sample_dir, sections)\n",
    "grades = lms.get_all_grades(sample_dir, sections)\n",
    "\n",
    "# Merge: users <--> section_associations <--> grades\n",
    "left_key = \"SourceSystemIdentifier\"\n",
    "right_key = \"LMSUserSourceSystemIdentifier\"\n",
    "working = users.merge(section_associations, left_on=left_key, right_on=right_key, suffixes=(\"_u\",\"_sa\"))\n",
    "\n",
    "left_key = \"SourceSystemIdentifier_sa\"\n",
    "right_key = \"LMSUserLMSSectionAssociationSourceSystemIdentifier\"\n",
    "working = working.merge(grades, left_on=left_key, right_on=right_key, suffixes=(\"\",\"_g\"))\n",
    "\n",
    "# Filter on Final grades\n",
    "working = working[working[\"GradeType\"] == \"Final\"]\n",
    "\n",
    "# Convert letter grades to numeric grades\n",
    "def _convert_grades(grade):\n",
    "    if grade.isnumeric():\n",
    "        return grade\n",
    "    \n",
    "    switch = {\n",
    "        \"A\": 95,\n",
    "        \"B\": 85,\n",
    "        \"C\": 75,\n",
    "        \"D\": 65\n",
    "    }\n",
    "    return switch.get(grade, 55)\n",
    "\n",
    "working[\"Grade\"] = working[\"Grade\"].apply(_convert_grades)\n",
    "\n",
    "# Need to convert the Grade column to a numeric type - it still has the\n",
    "# generic object type\n",
    "working[\"Grade\"] = working[\"Grade\"].apply(float)\n",
    "\n",
    "# Narrow down to columns we care about. For grouping, use the SIS unique \n",
    "# identifier instead of the name. The name will be lost in the grouping \n",
    "# anyway, and we'll have to re-merge with Users later on to recover it.\n",
    "working = working[[\"Name\", \"SISUserIdentifier\", \"Grade\"]]\n",
    "\n",
    "# Group by student, using the SIS unique identifier\n",
    "average_grades = working.groupby(by=\"SISUserIdentifier\", as_index=False).mean(numeric_only=True)\n",
    "\n",
    "# Pull the student names back in\n",
    "average_grades = average_grades.merge(users[[\"Name\",\"SISUserIdentifier\"]], on=\"SISUserIdentifier\")\n",
    "\n",
    "# Filter to those in danger of failing\n",
    "failing = average_grades[average_grades[\"Grade\"] < 70]\n",
    "\n",
    "# Finally, display the students of concern\n",
    "display(Markdown(\"Students who are currently failing:\"))\n",
    "display(failing)"
   ]
  },
  {
   "source": [
    "### Missing Assignment Submissions\n",
    "\n",
    "Goal: find students who have not turned in assignment submissions.\n",
    "\n",
    "Find the assignments that were due before a given date, and then enrich the data with the submission information. Drop records where there _is_ a _completed_ submission to focus only on those _without_ a completed submissions. Navigate backward from assignment to section to section association to user to get the students' names."
   ],
   "cell_type": "markdown",
   "metadata": {}
  },
  {
   "cell_type": "code",
   "execution_count": 12,
   "metadata": {},
   "outputs": [
    {
     "output_type": "display_data",
     "data": {
      "text/plain": "<IPython.core.display.Markdown object>",
      "text/markdown": "Number of assignments submitted: 2"
     },
     "metadata": {}
    },
    {
     "output_type": "display_data",
     "data": {
      "text/plain": "<IPython.core.display.Markdown object>",
      "text/markdown": "Missing assignment submissions:"
     },
     "metadata": {}
    },
    {
     "output_type": "display_data",
     "data": {
      "text/plain": "                 Name           Assignment Section Title\n0    Stephen Caldwell  Algebra foundations         ALG-1\n1  Olivia Doris Hardy  Algebra foundations         ALG-1\n2         Mary Archer  Algebra foundations         ALG-1\n3       Larry Mahoney  Algebra foundations         ALG-1",
      "text/html": "<div>\n<style scoped>\n    .dataframe tbody tr th:only-of-type {\n        vertical-align: middle;\n    }\n\n    .dataframe tbody tr th {\n        vertical-align: top;\n    }\n\n    .dataframe thead th {\n        text-align: right;\n    }\n</style>\n<table border=\"1\" class=\"dataframe\">\n  <thead>\n    <tr style=\"text-align: right;\">\n      <th></th>\n      <th>Name</th>\n      <th>Assignment</th>\n      <th>Section Title</th>\n    </tr>\n  </thead>\n  <tbody>\n    <tr>\n      <th>0</th>\n      <td>Stephen Caldwell</td>\n      <td>Algebra foundations</td>\n      <td>ALG-1</td>\n    </tr>\n    <tr>\n      <th>1</th>\n      <td>Olivia Doris Hardy</td>\n      <td>Algebra foundations</td>\n      <td>ALG-1</td>\n    </tr>\n    <tr>\n      <th>2</th>\n      <td>Mary Archer</td>\n      <td>Algebra foundations</td>\n      <td>ALG-1</td>\n    </tr>\n    <tr>\n      <th>3</th>\n      <td>Larry Mahoney</td>\n      <td>Algebra foundations</td>\n      <td>ALG-1</td>\n    </tr>\n  </tbody>\n</table>\n</div>"
     },
     "metadata": {}
    }
   ],
   "source": [
    "import pandas as pd\n",
    "\n",
    "sample_dir = os.path.join(\"..\", \"..\", \"docs\", \"sample-out\")\n",
    "\n",
    "users = lms.get_all_users(sample_dir)\n",
    "sections = lms.get_all_sections(sample_dir)\n",
    "section_associations = lms.get_all_section_associations(sample_dir, sections)\n",
    "assignments = lms.get_all_assignments(sample_dir, sections)\n",
    "submissions = lms.get_all_submissions(sample_dir, assignments)\n",
    "\n",
    "# The \"DueDateTime\" column is not automatically recognized as a datetime, so\n",
    "# convert the data type\n",
    "assignments[\"DueDateTime\"] = pd.to_datetime(assignments[\"DueDateTime\"])\n",
    "\n",
    "# Filter assignments by those due before today\n",
    "from datetime import datetime\n",
    "assignments = assignments[assignments[\"DueDateTime\"] < datetime.now()]\n",
    "\n",
    "# Now let's combine some DataFrames to get a collection of all the students who \n",
    "# _should_ have turned in an assignment\n",
    "key = \"LMSSectionSourceSystemIdentifier\"\n",
    "working = assignments.merge(section_associations, on=key, suffixes=(\"\",\"_sa\"))\n",
    "\n",
    "left_key = \"LMSUserSourceSystemIdentifier\"\n",
    "right_key = \"SourceSystemIdentifier\"\n",
    "working = working.merge(users, left_on=left_key, right_on=right_key, suffixes=(\"\",\"_u\"))\n",
    "\n",
    "# Join with submissions using an OUTER join so that we keep the Users who do\n",
    "# not have a submission\n",
    "left_key = [\"SourceSystemIdentifier\", \"LMSUserSourceSystemIdentifier\"]\n",
    "right_key = [\"AssignmentSourceSystemIdentifier\", \"LMSUserSourceSystemIdentifier\"]\n",
    "working = working.merge(submissions, how=\"left\", left_on=left_key, right_on=right_key, suffixes=(\"\", \"_sub\"))\n",
    "\n",
    "# How many rows _do_ have submissions?\n",
    "count_submitted = working[working[\"SourceSystemIdentifier_sub\"].notnull()].shape[0]\n",
    "display(Markdown(f\"Number of assignments submitted: {count_submitted}\"))\n",
    "\n",
    "# Now drop all rows that _do_ have a completed submission, which can be done easily\n",
    "# by creating a new DataFrame that targets those where the submission does not\n",
    "# exist or it does not have status of \"Returned\" or \"Late\".\n",
    "no_submission = working[working[\"SourceSystemIdentifier_sub\"].isnull()]\n",
    "no_submission = no_submission.append(working[working[\"SubmissionStatus\"] == \"Created\"])\n",
    "\n",
    "# Might be nice to report the section name too\n",
    "left_key = \"LMSSectionSourceSystemIdentifier\"\n",
    "right_key = \"SourceSystemIdentifier\"\n",
    "no_submission = no_submission.merge(sections, left_on=left_key, right_on=right_key, suffixes=(\"\", \"_sec\"))\n",
    "\n",
    "# Finally, narrow down to the columns of interest.\n",
    "no_submission = no_submission[[\"Name\", \"Title\", \"Title_sec\"]]\n",
    "no_submission.rename(columns={\"Title_sec\": \"Section Title\", \"Title\": \"Assignment\"}, inplace=True)\n",
    "\n",
    "display(Markdown(\"Missing assignment submissions:\"))\n",
    "display(no_submission)"
   ]
  },
  {
   "cell_type": "code",
   "execution_count": null,
   "metadata": {},
   "outputs": [],
   "source": []
  }
 ],
 "metadata": {
  "kernelspec": {
   "name": "Python 3.8.5 64-bit ('.venv')",
   "display_name": "Python 3.8.5 64-bit ('.venv')",
   "metadata": {
    "interpreter": {
     "hash": "345aa749e0416ef4341931074d5302fa58a65d7e36b033cb1301f4b45f255c63"
    }
   }
  },
  "language_info": {
   "codemirror_mode": {
    "name": "ipython",
    "version": 3
   },
   "file_extension": ".py",
   "mimetype": "text/x-python",
   "name": "python",
   "nbconvert_exporter": "python",
   "pygments_lexer": "ipython3",
   "version": "3.8.5-final"
  }
 },
 "nbformat": 4,
 "nbformat_minor": 4
}