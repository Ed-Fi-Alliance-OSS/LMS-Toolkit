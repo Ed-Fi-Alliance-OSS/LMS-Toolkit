{
 "metadata": {
  "language_info": {
   "codemirror_mode": {
    "name": "ipython",
    "version": 3
   },
   "file_extension": ".py",
   "mimetype": "text/x-python",
   "name": "python",
   "nbconvert_exporter": "python",
   "pygments_lexer": "ipython3",
   "version": "3.9.4-final"
  },
  "orig_nbformat": 2,
  "kernelspec": {
   "name": "python394jvsc74a57bd0803ce852709fcb31d67db2297af7e5230d71be8a12e8b15cdc3f73d75305c975",
   "display_name": "Python 3.9.4 64-bit ('.venv')"
  },
  "metadata": {
   "interpreter": {
    "hash": "a96b0b913fd91a22b3595c406d18ae3dcd942740dffd5b27bdd6ca9a9da6c2ae"
   }
  }
 },
 "nbformat": 4,
 "nbformat_minor": 2,
 "cells": [
  {
   "source": [
    "# End-to-End Demonstration: Schoology\n",
    "\n",
    "*Goal*: run the Schoology Extractor and then upload the results into an `LMS` database.\n",
    "\n",
    "## Software Requirements\n",
    "\n",
    "1. Be sure to install Python 3.9; if you have multiple versions, make sure that the `python` command runs version 3.9.x. You can confirm your version by running `python --version` at a command prompt.\n",
    "1. Microsoft SQL Server 2017 or 2019, in Windows or Linux.\n",
    "\n",
    "## Getting Started\n",
    "\n",
    "1. Confirm you have [poetry](https://python-poetry.org) installed (`poetry --version`).\n",
    "1. Follow the [notebook instructions](README.md) to install dependencies used by this notebook.\n",
    "1. Create an `LMS` database in SQL Server."
   ],
   "cell_type": "markdown",
   "metadata": {}
  },
  {
   "cell_type": "code",
   "execution_count": 1,
   "metadata": {},
   "outputs": [],
   "source": [
    "# Load some utilities\n",
    "from IPython.display import display, Markdown\n",
    "import ipywidgets as widgets\n",
    "\n",
    "# Setup logging\n",
    "import logging\n",
    "import sys\n",
    "\n",
    "logging.basicConfig(stream=sys.stdout, level=logging.INFO)"
   ]
  },
  {
   "source": [
    "## Prepare Input Data\n",
    "\n",
    "Update the variables in the next block as needed. Below that, there will be two runtime text input boxes to provide a Schoology OAuth key and secret. You can find your key and secret at [https://app.schoology.com/api](https://app.schoology.com/api)."
   ],
   "cell_type": "markdown",
   "metadata": {}
  },
  {
   "cell_type": "code",
   "execution_count": 2,
   "metadata": {},
   "outputs": [],
   "source": [
    "LOG_LEVEL = \"INFO\"\n",
    "OUTPUT_DIRECTORY = \"s-data\"\n",
    "DB_ENGINE = \"mssql\"\n",
    "DB_SERVER = \"localhost\"\n",
    "DB_NAME = \"LMS\"\n",
    "DB_PORT = 1433"
   ]
  },
  {
   "cell_type": "code",
   "execution_count": 4,
   "metadata": {},
   "outputs": [
    {
     "output_type": "display_data",
     "data": {
      "text/plain": "interactive(children=(Text(value='', description='Key'), Text(value='', description='Secret'), Output()), _dom…",
      "application/vnd.jupyter.widget-view+json": {
       "version_major": 2,
       "version_minor": 0,
       "model_id": "0e35d7b21fe6465990bb1e93a4541f58"
      }
     },
     "metadata": {}
    }
   ],
   "source": [
    "def get_key_secret(key, secret):\n",
    "    return key, secret\n",
    "\n",
    "key_widget = widgets.Text(\n",
    "    description=\"Key\"\n",
    ")\n",
    "secret_widget = widgets.Text(\n",
    "    description=\"Secret\"\n",
    ")\n",
    "result = widgets.interactive(get_key_secret, key=key_widget, secret=secret_widget)\n",
    "display(result)"
   ]
  },
  {
   "cell_type": "code",
   "execution_count": 5,
   "metadata": {},
   "outputs": [],
   "source": [
    "KEY = result.children[0].value\n",
    "SECRET = result.children[1].value"
   ]
  },
  {
   "source": [
    "## Run the Schoology Extractor"
   ],
   "cell_type": "markdown",
   "metadata": {}
  },
  {
   "cell_type": "code",
   "execution_count": 7,
   "metadata": {},
   "outputs": [
    {
     "output_type": "display_data",
     "data": {
      "text/plain": "'a'"
     },
     "metadata": {}
    },
    {
     "output_type": "display_data",
     "data": {
      "text/plain": "'b'"
     },
     "metadata": {}
    },
    {
     "output_type": "error",
     "ename": "ModuleNotFoundError",
     "evalue": "No module named 'edfi_schoology_extractor'",
     "traceback": [
      "\u001b[1;31m---------------------------------------------------------------------------\u001b[0m",
      "\u001b[1;31mModuleNotFoundError\u001b[0m                       Traceback (most recent call last)",
      "\u001b[1;32m<ipython-input-7-51f66daebaaa>\u001b[0m in \u001b[0;36m<module>\u001b[1;34m\u001b[0m\n\u001b[0;32m      1\u001b[0m \u001b[0mdisplay\u001b[0m\u001b[1;33m(\u001b[0m\u001b[0mKEY\u001b[0m\u001b[1;33m,\u001b[0m \u001b[0mSECRET\u001b[0m\u001b[1;33m)\u001b[0m\u001b[1;33m\u001b[0m\u001b[1;33m\u001b[0m\u001b[0m\n\u001b[0;32m      2\u001b[0m \u001b[1;33m\u001b[0m\u001b[0m\n\u001b[1;32m----> 3\u001b[1;33m \u001b[1;32mfrom\u001b[0m \u001b[0medfi_schoology_extractor\u001b[0m\u001b[1;33m.\u001b[0m\u001b[0mhelpers\u001b[0m\u001b[1;33m.\u001b[0m\u001b[0marg_parser\u001b[0m \u001b[1;32mimport\u001b[0m \u001b[0mMainArguments\u001b[0m \u001b[1;32mas\u001b[0m \u001b[0ms_args\u001b[0m\u001b[1;33m\u001b[0m\u001b[1;33m\u001b[0m\u001b[0m\n\u001b[0m\u001b[0;32m      4\u001b[0m \u001b[1;32mfrom\u001b[0m \u001b[0medfi_schoology_extractor\u001b[0m \u001b[1;32mimport\u001b[0m \u001b[0mschoology_facade\u001b[0m\u001b[1;33m\u001b[0m\u001b[1;33m\u001b[0m\u001b[0m\n\u001b[0;32m      5\u001b[0m \u001b[1;33m\u001b[0m\u001b[0m\n",
      "\u001b[1;31mModuleNotFoundError\u001b[0m: No module named 'edfi_schoology_extractor'"
     ]
    }
   ],
   "source": [
    "from edfi_schoology_extractor.helpers.arg_parser import MainArguments as s_args\n",
    "from edfi_schoology_extractor import schoology_facade\n",
    "\n",
    "arguments = s_args(\n",
    "    client_key=KEY,\n",
    "    client_secret=SECRET,\n",
    "    output_directory=OUTPUT_DIRECTORY,\n",
    "    log_level=LOG_LEVEL,\n",
    "    page_size=200\n",
    ")\n",
    "\n",
    "schoology_facade.run(arguments)"
   ]
  },
  {
   "source": [
    "## Run the Learning Management System Data Store Loader (LMS-DS-Loader)\n",
    "\n",
    "The default setup below uses Windows integrated security. For username/password security, please review the commented-out code."
   ],
   "cell_type": "markdown",
   "metadata": {}
  },
  {
   "cell_type": "code",
   "execution_count": 6,
   "metadata": {},
   "outputs": [
    {
     "output_type": "stream",
     "name": "stdout",
     "text": [
      "INFO:edfi_lms_ds_loader.loader_facade:Begin loading files into the LMS Data Store (DS)...\n",
      "INFO:edfi_lms_ds_loader.migrator:Begin database auto-migration...\n",
      "INFO:edfi_lms_ds_loader.migrator:Done with database auto-migration.\n",
      "INFO:edfi_lms_ds_loader.loader_facade:No sections loaded. Skipping assignments.\n",
      "INFO:edfi_lms_ds_loader.loader_facade:No assignments loaded. Skipping assignment submissions.\n",
      "INFO:edfi_lms_ds_loader.loader_facade:No sections loaded. Skipping section associations.\n",
      "INFO:edfi_lms_ds_loader.loader_facade:No sections loaded. Skipping section associations.\n",
      "INFO:edfi_lms_ds_loader.loader_facade:No sections loaded. Skipping section associations.\n",
      "INFO:edfi_lms_ds_loader.loader_facade:Done loading files into the LMS Data Store.\n"
     ]
    }
   ],
   "source": [
    "from edfi_lms_ds_loader.helpers.argparser import MainArguments as lms_args\n",
    "from edfi_lms_ds_loader import loader_facade\n",
    "\n",
    "arguments = lms_args(\n",
    "    OUTPUT_DIRECTORY,\n",
    "    DB_ENGINE,\n",
    "    LOG_LEVEL\n",
    ")\n",
    "arguments.set_connection_string_using_integrated_security(\n",
    "    DB_SERVER,\n",
    "    DB_PORT,\n",
    "    DB_NAME,\n",
    ")\n",
    "# For password auth, comment out the line above and uncomment this one:\n",
    "# arguments.set_connection_string(\n",
    "#     DB_SERVER,\n",
    "#     DB_PORT,\n",
    "#     DB_NAME,\n",
    "#     USERNAME,\n",
    "#     PASSWORD,\n",
    "# )\n",
    "\n",
    "loader_facade.run_loader(arguments)"
   ]
  }
 ]
}