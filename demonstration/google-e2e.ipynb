{
 "metadata": {
  "language_info": {
   "codemirror_mode": {
    "name": "ipython",
    "version": 3
   },
   "file_extension": ".py",
   "mimetype": "text/x-python",
   "name": "python",
   "nbconvert_exporter": "python",
   "pygments_lexer": "ipython3",
   "version": "3.9.4-final"
  },
  "orig_nbformat": 2,
  "kernelspec": {
   "name": "python394jvsc74a57bd0725a84165191e9dc5b29372f6e46451ce9a6bbeee865194bede20439fb0a2e80",
   "display_name": "Python 3.9.4 64-bit ('.venv')"
  }
 },
 "nbformat": 4,
 "nbformat_minor": 2,
 "cells": [
  {
   "source": [
    "# End-to-End Demonstration\n",
    "\n",
    "*Goal*: run the Google Classroom Extractor and then upload the results into an `LMS` database."
   ],
   "cell_type": "markdown",
   "metadata": {}
  },
  {
   "source": [
    "## Getting Started\n",
    "\n",
    "These instructions assume that you have clone LMS Toolkit source code repository, and therefore the Google Classroom Extractor and LMS Data Store Loader applications are available on your workstation. The commands shown below should work in any command prompt (bash, PowerShell, cmd.exe, etc.)\n",
    "\n",
    "1. Be sure to install Python 3.9 and set the `python` command to run 3.9. You can confirm your version by running `python --version` at a command prompt.\n",
    "1. Confirm you have [poetry](https://python-poetry.org) installed (`poetry --version`).\n",
    "1. Follow the [Google Classroom setup instructions](../google-classroom/README.md) for installing dependencies, creating a `.env` file, and a `service-account.json` file.\n",
    "1. Follow the [LMS Data Store Loader setup instructions](../lms-ds-loader/README.md) for installing dependencies and creating a `.env` file.\n",
    "1. Follow the [notebook instructions](README.md) to install dependencies used by this notebook."
   ],
   "cell_type": "markdown",
   "metadata": {}
  },
  {
   "cell_type": "code",
   "execution_count": 5,
   "metadata": {},
   "outputs": [],
   "source": [
    "# Load some utilities and hack the module path to make the two applications discoverable\n",
    "from IPython.display import display, Markdown\n",
    "import sys\n",
    "sys.path.append(\"../google-classroom-extractor\")\n",
    "sys.path.append(\"../lms-ds-loader\")\n",
    "\n",
    "# This isn't really a good idea. Should just install into here. Which means also a good idea to move to another place, like /demonstration."
   ]
  },
  {
   "source": [
    "## Run the Google Classroom Extractor"
   ],
   "cell_type": "markdown",
   "metadata": {}
  },
  {
   "cell_type": "code",
   "execution_count": null,
   "metadata": {},
   "outputs": [],
   "source": []
  },
  {
   "cell_type": "code",
   "execution_count": null,
   "metadata": {},
   "outputs": [],
   "source": []
  }
 ]
}